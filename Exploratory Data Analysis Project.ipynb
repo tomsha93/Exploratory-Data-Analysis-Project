{
 "cells": [
  {
   "cell_type": "markdown",
   "metadata": {},
   "source": [
    "# What sells a car?\n",
    "\n",
    "You're an analyst at Crankshaft List. Hundreds of free advertisements for vehicles are published on your site every day. You need to study data collected over the last few years and determine which factors influence the price of a vehicle."
   ]
  },
  {
   "cell_type": "markdown",
   "metadata": {},
   "source": [
    "## Initialization"
   ]
  },
  {
   "cell_type": "code",
   "execution_count": 1,
   "metadata": {},
   "outputs": [],
   "source": [
    "# Loading all the libraries\n",
    "import pandas as pd\n",
    "import numpy as np\n",
    "import datetime as dt\n",
    "import matplotlib.pyplot as plt\n",
    "import seaborn as sns"
   ]
  },
  {
   "cell_type": "markdown",
   "metadata": {},
   "source": [
    "### Load data"
   ]
  },
  {
   "cell_type": "code",
   "execution_count": 2,
   "metadata": {},
   "outputs": [],
   "source": [
    "# Load the data file into a DataFrame\n",
    "try:\n",
    "    data = pd.read_csv(r\"C:\\Users\\tomsh\\Desktop\\Python Projects\\Project 2 - EDA\\vehicles_us.csv\")\n",
    "except:\n",
    "    data = pd.read_csv('/datasets/vehicles_us.csv')"
   ]
  },
  {
   "cell_type": "markdown",
   "metadata": {},
   "source": [
    "### Explore initial data"
   ]
  },
  {
   "cell_type": "markdown",
   "metadata": {},
   "source": [
    "The dataset contains the following fields:\n",
    "- `price`\n",
    "- `model_year`\n",
    "- `model`\n",
    "- `condition`\n",
    "- `cylinders`\n",
    "- `fuel` — gas, diesel, etc.\n",
    "- `odometer` — the vehicle's mileage when the ad was published\n",
    "- `transmission`\n",
    "- `paint_color`\n",
    "- `is_4wd` — whether the vehicle has 4-wheel drive (Boolean type)\n",
    "- `date_posted` — the date the ad was published\n",
    "- `days_listed` — from publication to removal"
   ]
  },
  {
   "cell_type": "code",
   "execution_count": 3,
   "metadata": {},
   "outputs": [
    {
     "data": {
      "text/html": [
       "<div>\n",
       "<style scoped>\n",
       "    .dataframe tbody tr th:only-of-type {\n",
       "        vertical-align: middle;\n",
       "    }\n",
       "\n",
       "    .dataframe tbody tr th {\n",
       "        vertical-align: top;\n",
       "    }\n",
       "\n",
       "    .dataframe thead th {\n",
       "        text-align: right;\n",
       "    }\n",
       "</style>\n",
       "<table border=\"1\" class=\"dataframe\">\n",
       "  <thead>\n",
       "    <tr style=\"text-align: right;\">\n",
       "      <th></th>\n",
       "      <th>price</th>\n",
       "      <th>model_year</th>\n",
       "      <th>cylinders</th>\n",
       "      <th>odometer</th>\n",
       "      <th>is_4wd</th>\n",
       "      <th>days_listed</th>\n",
       "    </tr>\n",
       "  </thead>\n",
       "  <tbody>\n",
       "    <tr>\n",
       "      <th>count</th>\n",
       "      <td>51525.000000</td>\n",
       "      <td>47906.000000</td>\n",
       "      <td>46265.000000</td>\n",
       "      <td>43633.000000</td>\n",
       "      <td>25572.0</td>\n",
       "      <td>51525.00000</td>\n",
       "    </tr>\n",
       "    <tr>\n",
       "      <th>mean</th>\n",
       "      <td>12132.464920</td>\n",
       "      <td>2009.750470</td>\n",
       "      <td>6.125235</td>\n",
       "      <td>115553.461738</td>\n",
       "      <td>1.0</td>\n",
       "      <td>39.55476</td>\n",
       "    </tr>\n",
       "    <tr>\n",
       "      <th>std</th>\n",
       "      <td>10040.803015</td>\n",
       "      <td>6.282065</td>\n",
       "      <td>1.660360</td>\n",
       "      <td>65094.611341</td>\n",
       "      <td>0.0</td>\n",
       "      <td>28.20427</td>\n",
       "    </tr>\n",
       "    <tr>\n",
       "      <th>min</th>\n",
       "      <td>1.000000</td>\n",
       "      <td>1908.000000</td>\n",
       "      <td>3.000000</td>\n",
       "      <td>0.000000</td>\n",
       "      <td>1.0</td>\n",
       "      <td>0.00000</td>\n",
       "    </tr>\n",
       "    <tr>\n",
       "      <th>25%</th>\n",
       "      <td>5000.000000</td>\n",
       "      <td>2006.000000</td>\n",
       "      <td>4.000000</td>\n",
       "      <td>70000.000000</td>\n",
       "      <td>1.0</td>\n",
       "      <td>19.00000</td>\n",
       "    </tr>\n",
       "    <tr>\n",
       "      <th>50%</th>\n",
       "      <td>9000.000000</td>\n",
       "      <td>2011.000000</td>\n",
       "      <td>6.000000</td>\n",
       "      <td>113000.000000</td>\n",
       "      <td>1.0</td>\n",
       "      <td>33.00000</td>\n",
       "    </tr>\n",
       "    <tr>\n",
       "      <th>75%</th>\n",
       "      <td>16839.000000</td>\n",
       "      <td>2014.000000</td>\n",
       "      <td>8.000000</td>\n",
       "      <td>155000.000000</td>\n",
       "      <td>1.0</td>\n",
       "      <td>53.00000</td>\n",
       "    </tr>\n",
       "    <tr>\n",
       "      <th>max</th>\n",
       "      <td>375000.000000</td>\n",
       "      <td>2019.000000</td>\n",
       "      <td>12.000000</td>\n",
       "      <td>990000.000000</td>\n",
       "      <td>1.0</td>\n",
       "      <td>271.00000</td>\n",
       "    </tr>\n",
       "  </tbody>\n",
       "</table>\n",
       "</div>"
      ],
      "text/plain": [
       "               price    model_year     cylinders       odometer   is_4wd  \\\n",
       "count   51525.000000  47906.000000  46265.000000   43633.000000  25572.0   \n",
       "mean    12132.464920   2009.750470      6.125235  115553.461738      1.0   \n",
       "std     10040.803015      6.282065      1.660360   65094.611341      0.0   \n",
       "min         1.000000   1908.000000      3.000000       0.000000      1.0   \n",
       "25%      5000.000000   2006.000000      4.000000   70000.000000      1.0   \n",
       "50%      9000.000000   2011.000000      6.000000  113000.000000      1.0   \n",
       "75%     16839.000000   2014.000000      8.000000  155000.000000      1.0   \n",
       "max    375000.000000   2019.000000     12.000000  990000.000000      1.0   \n",
       "\n",
       "       days_listed  \n",
       "count  51525.00000  \n",
       "mean      39.55476  \n",
       "std       28.20427  \n",
       "min        0.00000  \n",
       "25%       19.00000  \n",
       "50%       33.00000  \n",
       "75%       53.00000  \n",
       "max      271.00000  "
      ]
     },
     "execution_count": 3,
     "metadata": {},
     "output_type": "execute_result"
    }
   ],
   "source": [
    "# print the general/summary information about the DataFrame\n",
    "data.describe()"
   ]
  },
  {
   "cell_type": "code",
   "execution_count": 4,
   "metadata": {},
   "outputs": [
    {
     "name": "stdout",
     "output_type": "stream",
     "text": [
      "<class 'pandas.core.frame.DataFrame'>\n",
      "RangeIndex: 51525 entries, 0 to 51524\n",
      "Data columns (total 13 columns):\n",
      " #   Column        Non-Null Count  Dtype  \n",
      "---  ------        --------------  -----  \n",
      " 0   price         51525 non-null  int64  \n",
      " 1   model_year    47906 non-null  float64\n",
      " 2   model         51525 non-null  object \n",
      " 3   condition     51525 non-null  object \n",
      " 4   cylinders     46265 non-null  float64\n",
      " 5   fuel          51525 non-null  object \n",
      " 6   odometer      43633 non-null  float64\n",
      " 7   transmission  51525 non-null  object \n",
      " 8   type          51525 non-null  object \n",
      " 9   paint_color   42258 non-null  object \n",
      " 10  is_4wd        25572 non-null  float64\n",
      " 11  date_posted   51525 non-null  object \n",
      " 12  days_listed   51525 non-null  int64  \n",
      "dtypes: float64(4), int64(2), object(7)\n",
      "memory usage: 5.1+ MB\n"
     ]
    }
   ],
   "source": [
    "data.info()"
   ]
  },
  {
   "cell_type": "code",
   "execution_count": 5,
   "metadata": {},
   "outputs": [
    {
     "data": {
      "text/html": [
       "<div>\n",
       "<style scoped>\n",
       "    .dataframe tbody tr th:only-of-type {\n",
       "        vertical-align: middle;\n",
       "    }\n",
       "\n",
       "    .dataframe tbody tr th {\n",
       "        vertical-align: top;\n",
       "    }\n",
       "\n",
       "    .dataframe thead th {\n",
       "        text-align: right;\n",
       "    }\n",
       "</style>\n",
       "<table border=\"1\" class=\"dataframe\">\n",
       "  <thead>\n",
       "    <tr style=\"text-align: right;\">\n",
       "      <th></th>\n",
       "      <th>price</th>\n",
       "      <th>model_year</th>\n",
       "      <th>model</th>\n",
       "      <th>condition</th>\n",
       "      <th>cylinders</th>\n",
       "      <th>fuel</th>\n",
       "      <th>odometer</th>\n",
       "      <th>transmission</th>\n",
       "      <th>type</th>\n",
       "      <th>paint_color</th>\n",
       "      <th>is_4wd</th>\n",
       "      <th>date_posted</th>\n",
       "      <th>days_listed</th>\n",
       "    </tr>\n",
       "  </thead>\n",
       "  <tbody>\n",
       "    <tr>\n",
       "      <th>0</th>\n",
       "      <td>9400</td>\n",
       "      <td>2011.0</td>\n",
       "      <td>bmw x5</td>\n",
       "      <td>good</td>\n",
       "      <td>6.0</td>\n",
       "      <td>gas</td>\n",
       "      <td>145000.0</td>\n",
       "      <td>automatic</td>\n",
       "      <td>SUV</td>\n",
       "      <td>NaN</td>\n",
       "      <td>1.0</td>\n",
       "      <td>2018-06-23</td>\n",
       "      <td>19</td>\n",
       "    </tr>\n",
       "    <tr>\n",
       "      <th>1</th>\n",
       "      <td>25500</td>\n",
       "      <td>NaN</td>\n",
       "      <td>ford f-150</td>\n",
       "      <td>good</td>\n",
       "      <td>6.0</td>\n",
       "      <td>gas</td>\n",
       "      <td>88705.0</td>\n",
       "      <td>automatic</td>\n",
       "      <td>pickup</td>\n",
       "      <td>white</td>\n",
       "      <td>1.0</td>\n",
       "      <td>2018-10-19</td>\n",
       "      <td>50</td>\n",
       "    </tr>\n",
       "    <tr>\n",
       "      <th>2</th>\n",
       "      <td>5500</td>\n",
       "      <td>2013.0</td>\n",
       "      <td>hyundai sonata</td>\n",
       "      <td>like new</td>\n",
       "      <td>4.0</td>\n",
       "      <td>gas</td>\n",
       "      <td>110000.0</td>\n",
       "      <td>automatic</td>\n",
       "      <td>sedan</td>\n",
       "      <td>red</td>\n",
       "      <td>NaN</td>\n",
       "      <td>2019-02-07</td>\n",
       "      <td>79</td>\n",
       "    </tr>\n",
       "    <tr>\n",
       "      <th>3</th>\n",
       "      <td>1500</td>\n",
       "      <td>2003.0</td>\n",
       "      <td>ford f-150</td>\n",
       "      <td>fair</td>\n",
       "      <td>8.0</td>\n",
       "      <td>gas</td>\n",
       "      <td>NaN</td>\n",
       "      <td>automatic</td>\n",
       "      <td>pickup</td>\n",
       "      <td>NaN</td>\n",
       "      <td>NaN</td>\n",
       "      <td>2019-03-22</td>\n",
       "      <td>9</td>\n",
       "    </tr>\n",
       "    <tr>\n",
       "      <th>4</th>\n",
       "      <td>14900</td>\n",
       "      <td>2017.0</td>\n",
       "      <td>chrysler 200</td>\n",
       "      <td>excellent</td>\n",
       "      <td>4.0</td>\n",
       "      <td>gas</td>\n",
       "      <td>80903.0</td>\n",
       "      <td>automatic</td>\n",
       "      <td>sedan</td>\n",
       "      <td>black</td>\n",
       "      <td>NaN</td>\n",
       "      <td>2019-04-02</td>\n",
       "      <td>28</td>\n",
       "    </tr>\n",
       "  </tbody>\n",
       "</table>\n",
       "</div>"
      ],
      "text/plain": [
       "   price  model_year           model  condition  cylinders fuel  odometer  \\\n",
       "0   9400      2011.0          bmw x5       good        6.0  gas  145000.0   \n",
       "1  25500         NaN      ford f-150       good        6.0  gas   88705.0   \n",
       "2   5500      2013.0  hyundai sonata   like new        4.0  gas  110000.0   \n",
       "3   1500      2003.0      ford f-150       fair        8.0  gas       NaN   \n",
       "4  14900      2017.0    chrysler 200  excellent        4.0  gas   80903.0   \n",
       "\n",
       "  transmission    type paint_color  is_4wd date_posted  days_listed  \n",
       "0    automatic     SUV         NaN     1.0  2018-06-23           19  \n",
       "1    automatic  pickup       white     1.0  2018-10-19           50  \n",
       "2    automatic   sedan         red     NaN  2019-02-07           79  \n",
       "3    automatic  pickup         NaN     NaN  2019-03-22            9  \n",
       "4    automatic   sedan       black     NaN  2019-04-02           28  "
      ]
     },
     "execution_count": 5,
     "metadata": {},
     "output_type": "execute_result"
    }
   ],
   "source": [
    "# print a sample of data\n",
    "data.head()"
   ]
  },
  {
   "cell_type": "markdown",
   "metadata": {},
   "source": [
    "* potential outliers (min/max) in price column\n",
    "* NaN values in: 'modle_year', 'cylinders', 'odometer', 'paint_color' and 'is4w'.\n",
    "* Our dataset build from 51252 entries and total of 13 columns."
   ]
  },
  {
   "cell_type": "markdown",
   "metadata": {},
   "source": [
    "* date_posted column is not a date type"
   ]
  },
  {
   "cell_type": "code",
   "execution_count": 6,
   "metadata": {},
   "outputs": [
    {
     "data": {
      "text/plain": [
       "price               0\n",
       "model_year       3619\n",
       "model               0\n",
       "condition           0\n",
       "cylinders        5260\n",
       "fuel                0\n",
       "odometer         7892\n",
       "transmission        0\n",
       "type                0\n",
       "paint_color      9267\n",
       "is_4wd          25953\n",
       "date_posted         0\n",
       "days_listed         0\n",
       "dtype: int64"
      ]
     },
     "execution_count": 6,
     "metadata": {},
     "output_type": "execute_result"
    }
   ],
   "source": [
    "data.isnull().sum()"
   ]
  },
  {
   "cell_type": "code",
   "execution_count": 7,
   "metadata": {},
   "outputs": [
    {
     "data": {
      "text/plain": [
       "price           0.000000\n",
       "model_year      0.070238\n",
       "model           0.000000\n",
       "condition       0.000000\n",
       "cylinders       0.102086\n",
       "fuel            0.000000\n",
       "odometer        0.153168\n",
       "transmission    0.000000\n",
       "type            0.000000\n",
       "paint_color     0.179854\n",
       "is_4wd          0.503697\n",
       "date_posted     0.000000\n",
       "days_listed     0.000000\n",
       "dtype: float64"
      ]
     },
     "execution_count": 7,
     "metadata": {},
     "output_type": "execute_result"
    }
   ],
   "source": [
    "data.isnull().sum()/len(data)"
   ]
  },
  {
   "cell_type": "code",
   "execution_count": 8,
   "metadata": {},
   "outputs": [
    {
     "name": "stdout",
     "output_type": "stream",
     "text": [
      "model_year\n",
      "cylinders\n",
      "odometer\n",
      "paint_color\n",
      "is_4wd\n"
     ]
    }
   ],
   "source": [
    "for i in data:\n",
    "    if data[i].isnull().sum()>0:\n",
    "        print(i)"
   ]
  },
  {
   "cell_type": "markdown",
   "metadata": {},
   "source": [
    "**Above are the columns with missing values**"
   ]
  },
  {
   "cell_type": "markdown",
   "metadata": {},
   "source": [
    "### Conclusions and further steps\n",
    "\n",
    "**My conclusions**\n",
    "\n",
    "* There are columns with missing values which we'll need to treat.\n",
    "* In 'is_4wd' column there are 50% of missing values, we'll have to investigate further more.\n",
    "* There are some column types we'll need to convert, i.e - date_posted convert to date type."
   ]
  },
  {
   "cell_type": "markdown",
   "metadata": {},
   "source": [
    "## Treat missing values (if any)"
   ]
  },
  {
   "cell_type": "markdown",
   "metadata": {},
   "source": [
    "**'model_year' missing values**"
   ]
  },
  {
   "cell_type": "code",
   "execution_count": 9,
   "metadata": {},
   "outputs": [
    {
     "name": "stdout",
     "output_type": "stream",
     "text": [
      "7%\n"
     ]
    }
   ],
   "source": [
    "print('{:.0%}'.format(data.model_year.isnull().sum()/len(data)))"
   ]
  },
  {
   "cell_type": "code",
   "execution_count": 10,
   "metadata": {
    "scrolled": true
   },
   "outputs": [
    {
     "data": {
      "text/html": [
       "<div>\n",
       "<style scoped>\n",
       "    .dataframe tbody tr th:only-of-type {\n",
       "        vertical-align: middle;\n",
       "    }\n",
       "\n",
       "    .dataframe tbody tr th {\n",
       "        vertical-align: top;\n",
       "    }\n",
       "\n",
       "    .dataframe thead th {\n",
       "        text-align: right;\n",
       "    }\n",
       "</style>\n",
       "<table border=\"1\" class=\"dataframe\">\n",
       "  <thead>\n",
       "    <tr style=\"text-align: right;\">\n",
       "      <th></th>\n",
       "      <th>price</th>\n",
       "      <th>model_year</th>\n",
       "      <th>model</th>\n",
       "      <th>condition</th>\n",
       "      <th>cylinders</th>\n",
       "      <th>fuel</th>\n",
       "      <th>odometer</th>\n",
       "      <th>transmission</th>\n",
       "      <th>type</th>\n",
       "      <th>paint_color</th>\n",
       "      <th>is_4wd</th>\n",
       "      <th>date_posted</th>\n",
       "      <th>days_listed</th>\n",
       "    </tr>\n",
       "  </thead>\n",
       "  <tbody>\n",
       "    <tr>\n",
       "      <th>1</th>\n",
       "      <td>25500</td>\n",
       "      <td>NaN</td>\n",
       "      <td>ford f-150</td>\n",
       "      <td>good</td>\n",
       "      <td>6.0</td>\n",
       "      <td>gas</td>\n",
       "      <td>88705.0</td>\n",
       "      <td>automatic</td>\n",
       "      <td>pickup</td>\n",
       "      <td>white</td>\n",
       "      <td>1.0</td>\n",
       "      <td>2018-10-19</td>\n",
       "      <td>50</td>\n",
       "    </tr>\n",
       "    <tr>\n",
       "      <th>20</th>\n",
       "      <td>6990</td>\n",
       "      <td>NaN</td>\n",
       "      <td>chevrolet tahoe</td>\n",
       "      <td>excellent</td>\n",
       "      <td>8.0</td>\n",
       "      <td>gas</td>\n",
       "      <td>147485.0</td>\n",
       "      <td>automatic</td>\n",
       "      <td>SUV</td>\n",
       "      <td>silver</td>\n",
       "      <td>1.0</td>\n",
       "      <td>2018-08-05</td>\n",
       "      <td>28</td>\n",
       "    </tr>\n",
       "    <tr>\n",
       "      <th>65</th>\n",
       "      <td>12800</td>\n",
       "      <td>NaN</td>\n",
       "      <td>ford f-150</td>\n",
       "      <td>excellent</td>\n",
       "      <td>6.0</td>\n",
       "      <td>gas</td>\n",
       "      <td>108500.0</td>\n",
       "      <td>automatic</td>\n",
       "      <td>pickup</td>\n",
       "      <td>white</td>\n",
       "      <td>NaN</td>\n",
       "      <td>2018-09-23</td>\n",
       "      <td>15</td>\n",
       "    </tr>\n",
       "    <tr>\n",
       "      <th>69</th>\n",
       "      <td>7800</td>\n",
       "      <td>NaN</td>\n",
       "      <td>ford f-150</td>\n",
       "      <td>like new</td>\n",
       "      <td>8.0</td>\n",
       "      <td>gas</td>\n",
       "      <td>97510.0</td>\n",
       "      <td>automatic</td>\n",
       "      <td>truck</td>\n",
       "      <td>white</td>\n",
       "      <td>1.0</td>\n",
       "      <td>2019-02-20</td>\n",
       "      <td>39</td>\n",
       "    </tr>\n",
       "    <tr>\n",
       "      <th>72</th>\n",
       "      <td>3650</td>\n",
       "      <td>NaN</td>\n",
       "      <td>subaru impreza</td>\n",
       "      <td>excellent</td>\n",
       "      <td>NaN</td>\n",
       "      <td>gas</td>\n",
       "      <td>74000.0</td>\n",
       "      <td>automatic</td>\n",
       "      <td>sedan</td>\n",
       "      <td>blue</td>\n",
       "      <td>1.0</td>\n",
       "      <td>2018-08-07</td>\n",
       "      <td>60</td>\n",
       "    </tr>\n",
       "  </tbody>\n",
       "</table>\n",
       "</div>"
      ],
      "text/plain": [
       "    price  model_year            model  condition  cylinders fuel  odometer  \\\n",
       "1   25500         NaN       ford f-150       good        6.0  gas   88705.0   \n",
       "20   6990         NaN  chevrolet tahoe  excellent        8.0  gas  147485.0   \n",
       "65  12800         NaN       ford f-150  excellent        6.0  gas  108500.0   \n",
       "69   7800         NaN       ford f-150   like new        8.0  gas   97510.0   \n",
       "72   3650         NaN   subaru impreza  excellent        NaN  gas   74000.0   \n",
       "\n",
       "   transmission    type paint_color  is_4wd date_posted  days_listed  \n",
       "1     automatic  pickup       white     1.0  2018-10-19           50  \n",
       "20    automatic     SUV      silver     1.0  2018-08-05           28  \n",
       "65    automatic  pickup       white     NaN  2018-09-23           15  \n",
       "69    automatic   truck       white     1.0  2019-02-20           39  \n",
       "72    automatic   sedan        blue     1.0  2018-08-07           60  "
      ]
     },
     "execution_count": 10,
     "metadata": {},
     "output_type": "execute_result"
    }
   ],
   "source": [
    "data[data.model_year.isnull()].head()"
   ]
  },
  {
   "cell_type": "code",
   "execution_count": 11,
   "metadata": {},
   "outputs": [],
   "source": [
    "data['model_year'] = data['model_year'].fillna(data.groupby('model')['model_year'].transform('median'))"
   ]
  },
  {
   "cell_type": "code",
   "execution_count": 12,
   "metadata": {},
   "outputs": [
    {
     "data": {
      "text/plain": [
       "0"
      ]
     },
     "execution_count": 12,
     "metadata": {},
     "output_type": "execute_result"
    }
   ],
   "source": [
    "data['model_year'].isnull().sum()"
   ]
  },
  {
   "cell_type": "markdown",
   "metadata": {},
   "source": [
    "**'cylinders' missing values**"
   ]
  },
  {
   "cell_type": "code",
   "execution_count": 13,
   "metadata": {},
   "outputs": [
    {
     "name": "stdout",
     "output_type": "stream",
     "text": [
      "10%\n"
     ]
    }
   ],
   "source": [
    "print('{:.0%}'.format(data.cylinders.isnull().sum()/len(data)))"
   ]
  },
  {
   "cell_type": "code",
   "execution_count": 14,
   "metadata": {},
   "outputs": [
    {
     "data": {
      "text/html": [
       "<div>\n",
       "<style scoped>\n",
       "    .dataframe tbody tr th:only-of-type {\n",
       "        vertical-align: middle;\n",
       "    }\n",
       "\n",
       "    .dataframe tbody tr th {\n",
       "        vertical-align: top;\n",
       "    }\n",
       "\n",
       "    .dataframe thead th {\n",
       "        text-align: right;\n",
       "    }\n",
       "</style>\n",
       "<table border=\"1\" class=\"dataframe\">\n",
       "  <thead>\n",
       "    <tr style=\"text-align: right;\">\n",
       "      <th></th>\n",
       "      <th>price</th>\n",
       "      <th>model_year</th>\n",
       "      <th>model</th>\n",
       "      <th>condition</th>\n",
       "      <th>cylinders</th>\n",
       "      <th>fuel</th>\n",
       "      <th>odometer</th>\n",
       "      <th>transmission</th>\n",
       "      <th>type</th>\n",
       "      <th>paint_color</th>\n",
       "      <th>is_4wd</th>\n",
       "      <th>date_posted</th>\n",
       "      <th>days_listed</th>\n",
       "    </tr>\n",
       "  </thead>\n",
       "  <tbody>\n",
       "    <tr>\n",
       "      <th>9</th>\n",
       "      <td>9200</td>\n",
       "      <td>2008.0</td>\n",
       "      <td>honda pilot</td>\n",
       "      <td>excellent</td>\n",
       "      <td>NaN</td>\n",
       "      <td>gas</td>\n",
       "      <td>147191.0</td>\n",
       "      <td>automatic</td>\n",
       "      <td>SUV</td>\n",
       "      <td>blue</td>\n",
       "      <td>1.0</td>\n",
       "      <td>2019-02-15</td>\n",
       "      <td>17</td>\n",
       "    </tr>\n",
       "    <tr>\n",
       "      <th>36</th>\n",
       "      <td>10499</td>\n",
       "      <td>2013.0</td>\n",
       "      <td>chrysler 300</td>\n",
       "      <td>good</td>\n",
       "      <td>NaN</td>\n",
       "      <td>gas</td>\n",
       "      <td>88042.0</td>\n",
       "      <td>automatic</td>\n",
       "      <td>sedan</td>\n",
       "      <td>NaN</td>\n",
       "      <td>NaN</td>\n",
       "      <td>2018-05-05</td>\n",
       "      <td>22</td>\n",
       "    </tr>\n",
       "    <tr>\n",
       "      <th>37</th>\n",
       "      <td>7500</td>\n",
       "      <td>2005.0</td>\n",
       "      <td>toyota tacoma</td>\n",
       "      <td>good</td>\n",
       "      <td>NaN</td>\n",
       "      <td>gas</td>\n",
       "      <td>160000.0</td>\n",
       "      <td>automatic</td>\n",
       "      <td>pickup</td>\n",
       "      <td>NaN</td>\n",
       "      <td>NaN</td>\n",
       "      <td>2018-07-22</td>\n",
       "      <td>44</td>\n",
       "    </tr>\n",
       "    <tr>\n",
       "      <th>59</th>\n",
       "      <td>5200</td>\n",
       "      <td>2006.0</td>\n",
       "      <td>toyota highlander</td>\n",
       "      <td>good</td>\n",
       "      <td>NaN</td>\n",
       "      <td>gas</td>\n",
       "      <td>186000.0</td>\n",
       "      <td>automatic</td>\n",
       "      <td>SUV</td>\n",
       "      <td>green</td>\n",
       "      <td>NaN</td>\n",
       "      <td>2018-12-20</td>\n",
       "      <td>2</td>\n",
       "    </tr>\n",
       "    <tr>\n",
       "      <th>63</th>\n",
       "      <td>30000</td>\n",
       "      <td>1966.0</td>\n",
       "      <td>ford mustang</td>\n",
       "      <td>excellent</td>\n",
       "      <td>NaN</td>\n",
       "      <td>gas</td>\n",
       "      <td>51000.0</td>\n",
       "      <td>manual</td>\n",
       "      <td>convertible</td>\n",
       "      <td>red</td>\n",
       "      <td>NaN</td>\n",
       "      <td>2019-01-23</td>\n",
       "      <td>17</td>\n",
       "    </tr>\n",
       "  </tbody>\n",
       "</table>\n",
       "</div>"
      ],
      "text/plain": [
       "    price  model_year              model  condition  cylinders fuel  odometer  \\\n",
       "9    9200      2008.0        honda pilot  excellent        NaN  gas  147191.0   \n",
       "36  10499      2013.0       chrysler 300       good        NaN  gas   88042.0   \n",
       "37   7500      2005.0      toyota tacoma       good        NaN  gas  160000.0   \n",
       "59   5200      2006.0  toyota highlander       good        NaN  gas  186000.0   \n",
       "63  30000      1966.0       ford mustang  excellent        NaN  gas   51000.0   \n",
       "\n",
       "   transmission         type paint_color  is_4wd date_posted  days_listed  \n",
       "9     automatic          SUV        blue     1.0  2019-02-15           17  \n",
       "36    automatic        sedan         NaN     NaN  2018-05-05           22  \n",
       "37    automatic       pickup         NaN     NaN  2018-07-22           44  \n",
       "59    automatic          SUV       green     NaN  2018-12-20            2  \n",
       "63       manual  convertible         red     NaN  2019-01-23           17  "
      ]
     },
     "execution_count": 14,
     "metadata": {},
     "output_type": "execute_result"
    }
   ],
   "source": [
    "data[data.cylinders.isnull()].head()"
   ]
  },
  {
   "cell_type": "code",
   "execution_count": 15,
   "metadata": {},
   "outputs": [],
   "source": [
    "data['cylinders'] = data['cylinders'].fillna(data.groupby('model')['cylinders'].transform('median'))"
   ]
  },
  {
   "cell_type": "code",
   "execution_count": 16,
   "metadata": {},
   "outputs": [
    {
     "data": {
      "text/plain": [
       "0"
      ]
     },
     "execution_count": 16,
     "metadata": {},
     "output_type": "execute_result"
    }
   ],
   "source": [
    "data['cylinders'].isnull().sum()"
   ]
  },
  {
   "cell_type": "markdown",
   "metadata": {},
   "source": [
    "**'odometer' missing values**"
   ]
  },
  {
   "cell_type": "code",
   "execution_count": 17,
   "metadata": {},
   "outputs": [
    {
     "name": "stdout",
     "output_type": "stream",
     "text": [
      "15%\n"
     ]
    }
   ],
   "source": [
    "print('{:.0%}'.format(data.odometer.isnull().sum()/len(data)))"
   ]
  },
  {
   "cell_type": "code",
   "execution_count": 18,
   "metadata": {},
   "outputs": [
    {
     "data": {
      "text/html": [
       "<div>\n",
       "<style scoped>\n",
       "    .dataframe tbody tr th:only-of-type {\n",
       "        vertical-align: middle;\n",
       "    }\n",
       "\n",
       "    .dataframe tbody tr th {\n",
       "        vertical-align: top;\n",
       "    }\n",
       "\n",
       "    .dataframe thead th {\n",
       "        text-align: right;\n",
       "    }\n",
       "</style>\n",
       "<table border=\"1\" class=\"dataframe\">\n",
       "  <thead>\n",
       "    <tr style=\"text-align: right;\">\n",
       "      <th></th>\n",
       "      <th>price</th>\n",
       "      <th>model_year</th>\n",
       "      <th>model</th>\n",
       "      <th>condition</th>\n",
       "      <th>cylinders</th>\n",
       "      <th>fuel</th>\n",
       "      <th>odometer</th>\n",
       "      <th>transmission</th>\n",
       "      <th>type</th>\n",
       "      <th>paint_color</th>\n",
       "      <th>is_4wd</th>\n",
       "      <th>date_posted</th>\n",
       "      <th>days_listed</th>\n",
       "    </tr>\n",
       "  </thead>\n",
       "  <tbody>\n",
       "    <tr>\n",
       "      <th>3</th>\n",
       "      <td>1500</td>\n",
       "      <td>2003.0</td>\n",
       "      <td>ford f-150</td>\n",
       "      <td>fair</td>\n",
       "      <td>8.0</td>\n",
       "      <td>gas</td>\n",
       "      <td>NaN</td>\n",
       "      <td>automatic</td>\n",
       "      <td>pickup</td>\n",
       "      <td>NaN</td>\n",
       "      <td>NaN</td>\n",
       "      <td>2019-03-22</td>\n",
       "      <td>9</td>\n",
       "    </tr>\n",
       "    <tr>\n",
       "      <th>15</th>\n",
       "      <td>17990</td>\n",
       "      <td>2013.0</td>\n",
       "      <td>ram 1500</td>\n",
       "      <td>excellent</td>\n",
       "      <td>8.0</td>\n",
       "      <td>gas</td>\n",
       "      <td>NaN</td>\n",
       "      <td>automatic</td>\n",
       "      <td>pickup</td>\n",
       "      <td>red</td>\n",
       "      <td>1.0</td>\n",
       "      <td>2018-05-15</td>\n",
       "      <td>111</td>\n",
       "    </tr>\n",
       "    <tr>\n",
       "      <th>23</th>\n",
       "      <td>7500</td>\n",
       "      <td>2004.0</td>\n",
       "      <td>jeep wrangler</td>\n",
       "      <td>good</td>\n",
       "      <td>6.0</td>\n",
       "      <td>gas</td>\n",
       "      <td>NaN</td>\n",
       "      <td>automatic</td>\n",
       "      <td>SUV</td>\n",
       "      <td>red</td>\n",
       "      <td>1.0</td>\n",
       "      <td>2018-05-17</td>\n",
       "      <td>39</td>\n",
       "    </tr>\n",
       "    <tr>\n",
       "      <th>24</th>\n",
       "      <td>3950</td>\n",
       "      <td>2009.0</td>\n",
       "      <td>chrysler 200</td>\n",
       "      <td>excellent</td>\n",
       "      <td>4.0</td>\n",
       "      <td>gas</td>\n",
       "      <td>NaN</td>\n",
       "      <td>automatic</td>\n",
       "      <td>sedan</td>\n",
       "      <td>red</td>\n",
       "      <td>NaN</td>\n",
       "      <td>2018-06-11</td>\n",
       "      <td>40</td>\n",
       "    </tr>\n",
       "    <tr>\n",
       "      <th>25</th>\n",
       "      <td>11499</td>\n",
       "      <td>2017.0</td>\n",
       "      <td>chevrolet malibu</td>\n",
       "      <td>like new</td>\n",
       "      <td>4.0</td>\n",
       "      <td>gas</td>\n",
       "      <td>NaN</td>\n",
       "      <td>automatic</td>\n",
       "      <td>sedan</td>\n",
       "      <td>NaN</td>\n",
       "      <td>NaN</td>\n",
       "      <td>2018-07-26</td>\n",
       "      <td>43</td>\n",
       "    </tr>\n",
       "  </tbody>\n",
       "</table>\n",
       "</div>"
      ],
      "text/plain": [
       "    price  model_year             model  condition  cylinders fuel  odometer  \\\n",
       "3    1500      2003.0        ford f-150       fair        8.0  gas       NaN   \n",
       "15  17990      2013.0          ram 1500  excellent        8.0  gas       NaN   \n",
       "23   7500      2004.0     jeep wrangler       good        6.0  gas       NaN   \n",
       "24   3950      2009.0      chrysler 200  excellent        4.0  gas       NaN   \n",
       "25  11499      2017.0  chevrolet malibu   like new        4.0  gas       NaN   \n",
       "\n",
       "   transmission    type paint_color  is_4wd date_posted  days_listed  \n",
       "3     automatic  pickup         NaN     NaN  2019-03-22            9  \n",
       "15    automatic  pickup         red     1.0  2018-05-15          111  \n",
       "23    automatic     SUV         red     1.0  2018-05-17           39  \n",
       "24    automatic   sedan         red     NaN  2018-06-11           40  \n",
       "25    automatic   sedan         NaN     NaN  2018-07-26           43  "
      ]
     },
     "execution_count": 18,
     "metadata": {},
     "output_type": "execute_result"
    }
   ],
   "source": [
    "data[data.odometer.isnull()].head()"
   ]
  },
  {
   "cell_type": "code",
   "execution_count": 19,
   "metadata": {},
   "outputs": [],
   "source": [
    "data['odometer'] = data['odometer'].fillna(data.groupby('model_year')['odometer'].transform('median'))"
   ]
  },
  {
   "cell_type": "code",
   "execution_count": 20,
   "metadata": {},
   "outputs": [
    {
     "data": {
      "text/html": [
       "<div>\n",
       "<style scoped>\n",
       "    .dataframe tbody tr th:only-of-type {\n",
       "        vertical-align: middle;\n",
       "    }\n",
       "\n",
       "    .dataframe tbody tr th {\n",
       "        vertical-align: top;\n",
       "    }\n",
       "\n",
       "    .dataframe thead th {\n",
       "        text-align: right;\n",
       "    }\n",
       "</style>\n",
       "<table border=\"1\" class=\"dataframe\">\n",
       "  <thead>\n",
       "    <tr style=\"text-align: right;\">\n",
       "      <th></th>\n",
       "      <th>price</th>\n",
       "      <th>model_year</th>\n",
       "      <th>model</th>\n",
       "      <th>condition</th>\n",
       "      <th>cylinders</th>\n",
       "      <th>fuel</th>\n",
       "      <th>odometer</th>\n",
       "      <th>transmission</th>\n",
       "      <th>type</th>\n",
       "      <th>paint_color</th>\n",
       "      <th>is_4wd</th>\n",
       "      <th>date_posted</th>\n",
       "      <th>days_listed</th>\n",
       "    </tr>\n",
       "  </thead>\n",
       "  <tbody>\n",
       "    <tr>\n",
       "      <th>45694</th>\n",
       "      <td>18000</td>\n",
       "      <td>1929.0</td>\n",
       "      <td>ford f-150</td>\n",
       "      <td>good</td>\n",
       "      <td>8.0</td>\n",
       "      <td>gas</td>\n",
       "      <td>NaN</td>\n",
       "      <td>manual</td>\n",
       "      <td>other</td>\n",
       "      <td>silver</td>\n",
       "      <td>NaN</td>\n",
       "      <td>2018-11-18</td>\n",
       "      <td>59</td>\n",
       "    </tr>\n",
       "  </tbody>\n",
       "</table>\n",
       "</div>"
      ],
      "text/plain": [
       "       price  model_year       model condition  cylinders fuel  odometer  \\\n",
       "45694  18000      1929.0  ford f-150      good        8.0  gas       NaN   \n",
       "\n",
       "      transmission   type paint_color  is_4wd date_posted  days_listed  \n",
       "45694       manual  other      silver     NaN  2018-11-18           59  "
      ]
     },
     "execution_count": 20,
     "metadata": {},
     "output_type": "execute_result"
    }
   ],
   "source": [
    "data[data['odometer'].isnull()].head()"
   ]
  },
  {
   "cell_type": "code",
   "execution_count": 21,
   "metadata": {},
   "outputs": [
    {
     "data": {
      "text/html": [
       "<div>\n",
       "<style scoped>\n",
       "    .dataframe tbody tr th:only-of-type {\n",
       "        vertical-align: middle;\n",
       "    }\n",
       "\n",
       "    .dataframe tbody tr th {\n",
       "        vertical-align: top;\n",
       "    }\n",
       "\n",
       "    .dataframe thead th {\n",
       "        text-align: right;\n",
       "    }\n",
       "</style>\n",
       "<table border=\"1\" class=\"dataframe\">\n",
       "  <thead>\n",
       "    <tr style=\"text-align: right;\">\n",
       "      <th></th>\n",
       "      <th>price</th>\n",
       "      <th>model_year</th>\n",
       "      <th>model</th>\n",
       "      <th>condition</th>\n",
       "      <th>cylinders</th>\n",
       "      <th>fuel</th>\n",
       "      <th>odometer</th>\n",
       "      <th>transmission</th>\n",
       "      <th>type</th>\n",
       "      <th>paint_color</th>\n",
       "      <th>is_4wd</th>\n",
       "      <th>date_posted</th>\n",
       "      <th>days_listed</th>\n",
       "    </tr>\n",
       "  </thead>\n",
       "  <tbody>\n",
       "    <tr>\n",
       "      <th>45694</th>\n",
       "      <td>18000</td>\n",
       "      <td>1929.0</td>\n",
       "      <td>ford f-150</td>\n",
       "      <td>good</td>\n",
       "      <td>8.0</td>\n",
       "      <td>gas</td>\n",
       "      <td>NaN</td>\n",
       "      <td>manual</td>\n",
       "      <td>other</td>\n",
       "      <td>silver</td>\n",
       "      <td>NaN</td>\n",
       "      <td>2018-11-18</td>\n",
       "      <td>59</td>\n",
       "    </tr>\n",
       "  </tbody>\n",
       "</table>\n",
       "</div>"
      ],
      "text/plain": [
       "       price  model_year       model condition  cylinders fuel  odometer  \\\n",
       "45694  18000      1929.0  ford f-150      good        8.0  gas       NaN   \n",
       "\n",
       "      transmission   type paint_color  is_4wd date_posted  days_listed  \n",
       "45694       manual  other      silver     NaN  2018-11-18           59  "
      ]
     },
     "execution_count": 21,
     "metadata": {},
     "output_type": "execute_result"
    }
   ],
   "source": [
    "data[data['model_year']==1929].head()"
   ]
  },
  {
   "cell_type": "code",
   "execution_count": 22,
   "metadata": {},
   "outputs": [
    {
     "data": {
      "text/html": [
       "<div>\n",
       "<style scoped>\n",
       "    .dataframe tbody tr th:only-of-type {\n",
       "        vertical-align: middle;\n",
       "    }\n",
       "\n",
       "    .dataframe tbody tr th {\n",
       "        vertical-align: top;\n",
       "    }\n",
       "\n",
       "    .dataframe thead th {\n",
       "        text-align: right;\n",
       "    }\n",
       "</style>\n",
       "<table border=\"1\" class=\"dataframe\">\n",
       "  <thead>\n",
       "    <tr style=\"text-align: right;\">\n",
       "      <th></th>\n",
       "      <th>price</th>\n",
       "      <th>model_year</th>\n",
       "      <th>model</th>\n",
       "      <th>condition</th>\n",
       "      <th>cylinders</th>\n",
       "      <th>fuel</th>\n",
       "      <th>odometer</th>\n",
       "      <th>transmission</th>\n",
       "      <th>type</th>\n",
       "      <th>paint_color</th>\n",
       "      <th>is_4wd</th>\n",
       "      <th>date_posted</th>\n",
       "      <th>days_listed</th>\n",
       "    </tr>\n",
       "  </thead>\n",
       "  <tbody>\n",
       "    <tr>\n",
       "      <th>34713</th>\n",
       "      <td>5000</td>\n",
       "      <td>1936.0</td>\n",
       "      <td>ford f-150</td>\n",
       "      <td>excellent</td>\n",
       "      <td>6.0</td>\n",
       "      <td>gas</td>\n",
       "      <td>30000.0</td>\n",
       "      <td>manual</td>\n",
       "      <td>pickup</td>\n",
       "      <td>purple</td>\n",
       "      <td>NaN</td>\n",
       "      <td>2018-11-22</td>\n",
       "      <td>10</td>\n",
       "    </tr>\n",
       "    <tr>\n",
       "      <th>45694</th>\n",
       "      <td>18000</td>\n",
       "      <td>1929.0</td>\n",
       "      <td>ford f-150</td>\n",
       "      <td>good</td>\n",
       "      <td>8.0</td>\n",
       "      <td>gas</td>\n",
       "      <td>NaN</td>\n",
       "      <td>manual</td>\n",
       "      <td>other</td>\n",
       "      <td>silver</td>\n",
       "      <td>NaN</td>\n",
       "      <td>2018-11-18</td>\n",
       "      <td>59</td>\n",
       "    </tr>\n",
       "  </tbody>\n",
       "</table>\n",
       "</div>"
      ],
      "text/plain": [
       "       price  model_year       model  condition  cylinders fuel  odometer  \\\n",
       "34713   5000      1936.0  ford f-150  excellent        6.0  gas   30000.0   \n",
       "45694  18000      1929.0  ford f-150       good        8.0  gas       NaN   \n",
       "\n",
       "      transmission    type paint_color  is_4wd date_posted  days_listed  \n",
       "34713       manual  pickup      purple     NaN  2018-11-22           10  \n",
       "45694       manual   other      silver     NaN  2018-11-18           59  "
      ]
     },
     "execution_count": 22,
     "metadata": {},
     "output_type": "execute_result"
    }
   ],
   "source": [
    "data[(data['model_year']>1920) & (data['model_year']<1939)].head()"
   ]
  },
  {
   "cell_type": "code",
   "execution_count": 23,
   "metadata": {},
   "outputs": [],
   "source": [
    "data['odometer'] = data['odometer'].fillna(30000)"
   ]
  },
  {
   "cell_type": "code",
   "execution_count": 24,
   "metadata": {},
   "outputs": [
    {
     "data": {
      "text/plain": [
       "price                18000\n",
       "model_year          1929.0\n",
       "model           ford f-150\n",
       "condition             good\n",
       "cylinders              8.0\n",
       "fuel                   gas\n",
       "odometer           30000.0\n",
       "transmission        manual\n",
       "type                 other\n",
       "paint_color         silver\n",
       "is_4wd                 NaN\n",
       "date_posted     2018-11-18\n",
       "days_listed             59\n",
       "Name: 45694, dtype: object"
      ]
     },
     "execution_count": 24,
     "metadata": {},
     "output_type": "execute_result"
    }
   ],
   "source": [
    "data.loc[45694]"
   ]
  },
  {
   "cell_type": "markdown",
   "metadata": {},
   "source": [
    "**'paint_color' missing values**"
   ]
  },
  {
   "cell_type": "code",
   "execution_count": 25,
   "metadata": {},
   "outputs": [
    {
     "name": "stdout",
     "output_type": "stream",
     "text": [
      "18%\n"
     ]
    }
   ],
   "source": [
    "print('{:.0%}'.format(data.paint_color.isnull().sum()/len(data)))"
   ]
  },
  {
   "cell_type": "code",
   "execution_count": 26,
   "metadata": {},
   "outputs": [
    {
     "data": {
      "text/html": [
       "<div>\n",
       "<style scoped>\n",
       "    .dataframe tbody tr th:only-of-type {\n",
       "        vertical-align: middle;\n",
       "    }\n",
       "\n",
       "    .dataframe tbody tr th {\n",
       "        vertical-align: top;\n",
       "    }\n",
       "\n",
       "    .dataframe thead th {\n",
       "        text-align: right;\n",
       "    }\n",
       "</style>\n",
       "<table border=\"1\" class=\"dataframe\">\n",
       "  <thead>\n",
       "    <tr style=\"text-align: right;\">\n",
       "      <th></th>\n",
       "      <th>price</th>\n",
       "      <th>model_year</th>\n",
       "      <th>model</th>\n",
       "      <th>condition</th>\n",
       "      <th>cylinders</th>\n",
       "      <th>fuel</th>\n",
       "      <th>odometer</th>\n",
       "      <th>transmission</th>\n",
       "      <th>type</th>\n",
       "      <th>paint_color</th>\n",
       "      <th>is_4wd</th>\n",
       "      <th>date_posted</th>\n",
       "      <th>days_listed</th>\n",
       "    </tr>\n",
       "  </thead>\n",
       "  <tbody>\n",
       "    <tr>\n",
       "      <th>0</th>\n",
       "      <td>9400</td>\n",
       "      <td>2011.0</td>\n",
       "      <td>bmw x5</td>\n",
       "      <td>good</td>\n",
       "      <td>6.0</td>\n",
       "      <td>gas</td>\n",
       "      <td>145000.0</td>\n",
       "      <td>automatic</td>\n",
       "      <td>SUV</td>\n",
       "      <td>NaN</td>\n",
       "      <td>1.0</td>\n",
       "      <td>2018-06-23</td>\n",
       "      <td>19</td>\n",
       "    </tr>\n",
       "    <tr>\n",
       "      <th>3</th>\n",
       "      <td>1500</td>\n",
       "      <td>2003.0</td>\n",
       "      <td>ford f-150</td>\n",
       "      <td>fair</td>\n",
       "      <td>8.0</td>\n",
       "      <td>gas</td>\n",
       "      <td>161397.0</td>\n",
       "      <td>automatic</td>\n",
       "      <td>pickup</td>\n",
       "      <td>NaN</td>\n",
       "      <td>NaN</td>\n",
       "      <td>2019-03-22</td>\n",
       "      <td>9</td>\n",
       "    </tr>\n",
       "    <tr>\n",
       "      <th>8</th>\n",
       "      <td>11500</td>\n",
       "      <td>2012.0</td>\n",
       "      <td>kia sorento</td>\n",
       "      <td>excellent</td>\n",
       "      <td>4.0</td>\n",
       "      <td>gas</td>\n",
       "      <td>104174.0</td>\n",
       "      <td>automatic</td>\n",
       "      <td>SUV</td>\n",
       "      <td>NaN</td>\n",
       "      <td>1.0</td>\n",
       "      <td>2018-07-16</td>\n",
       "      <td>19</td>\n",
       "    </tr>\n",
       "    <tr>\n",
       "      <th>12</th>\n",
       "      <td>18990</td>\n",
       "      <td>2012.0</td>\n",
       "      <td>ram 1500</td>\n",
       "      <td>excellent</td>\n",
       "      <td>8.0</td>\n",
       "      <td>gas</td>\n",
       "      <td>140742.0</td>\n",
       "      <td>automatic</td>\n",
       "      <td>pickup</td>\n",
       "      <td>NaN</td>\n",
       "      <td>1.0</td>\n",
       "      <td>2019-04-02</td>\n",
       "      <td>37</td>\n",
       "    </tr>\n",
       "    <tr>\n",
       "      <th>21</th>\n",
       "      <td>5250</td>\n",
       "      <td>2007.0</td>\n",
       "      <td>toyota rav4</td>\n",
       "      <td>good</td>\n",
       "      <td>6.0</td>\n",
       "      <td>gas</td>\n",
       "      <td>154000.0</td>\n",
       "      <td>automatic</td>\n",
       "      <td>SUV</td>\n",
       "      <td>NaN</td>\n",
       "      <td>NaN</td>\n",
       "      <td>2018-08-22</td>\n",
       "      <td>8</td>\n",
       "    </tr>\n",
       "  </tbody>\n",
       "</table>\n",
       "</div>"
      ],
      "text/plain": [
       "    price  model_year        model  condition  cylinders fuel  odometer  \\\n",
       "0    9400      2011.0       bmw x5       good        6.0  gas  145000.0   \n",
       "3    1500      2003.0   ford f-150       fair        8.0  gas  161397.0   \n",
       "8   11500      2012.0  kia sorento  excellent        4.0  gas  104174.0   \n",
       "12  18990      2012.0     ram 1500  excellent        8.0  gas  140742.0   \n",
       "21   5250      2007.0  toyota rav4       good        6.0  gas  154000.0   \n",
       "\n",
       "   transmission    type paint_color  is_4wd date_posted  days_listed  \n",
       "0     automatic     SUV         NaN     1.0  2018-06-23           19  \n",
       "3     automatic  pickup         NaN     NaN  2019-03-22            9  \n",
       "8     automatic     SUV         NaN     1.0  2018-07-16           19  \n",
       "12    automatic  pickup         NaN     1.0  2019-04-02           37  \n",
       "21    automatic     SUV         NaN     NaN  2018-08-22            8  "
      ]
     },
     "execution_count": 26,
     "metadata": {},
     "output_type": "execute_result"
    }
   ],
   "source": [
    "data[data.paint_color.isnull()].head()"
   ]
  },
  {
   "cell_type": "code",
   "execution_count": 27,
   "metadata": {},
   "outputs": [
    {
     "data": {
      "text/plain": [
       "white     10029\n",
       "black      7692\n",
       "silver     6244\n",
       "grey       5037\n",
       "blue       4475\n",
       "red        4421\n",
       "green      1396\n",
       "brown      1223\n",
       "custom     1153\n",
       "yellow      255\n",
       "orange      231\n",
       "purple      102\n",
       "Name: paint_color, dtype: int64"
      ]
     },
     "execution_count": 27,
     "metadata": {},
     "output_type": "execute_result"
    }
   ],
   "source": [
    "data.paint_color.value_counts()"
   ]
  },
  {
   "cell_type": "code",
   "execution_count": 28,
   "metadata": {},
   "outputs": [
    {
     "data": {
      "text/plain": [
       "count     42258\n",
       "unique       12\n",
       "top       white\n",
       "freq      10029\n",
       "Name: paint_color, dtype: object"
      ]
     },
     "execution_count": 28,
     "metadata": {},
     "output_type": "execute_result"
    }
   ],
   "source": [
    "data.paint_color.describe()"
   ]
  },
  {
   "cell_type": "code",
   "execution_count": 29,
   "metadata": {},
   "outputs": [],
   "source": [
    "data['paint_color'] = data['paint_color'].fillna('n/a')"
   ]
  },
  {
   "cell_type": "code",
   "execution_count": 30,
   "metadata": {},
   "outputs": [
    {
     "data": {
      "text/plain": [
       "price                 9400\n",
       "model_year          2011.0\n",
       "model               bmw x5\n",
       "condition             good\n",
       "cylinders              6.0\n",
       "fuel                   gas\n",
       "odometer          145000.0\n",
       "transmission     automatic\n",
       "type                   SUV\n",
       "paint_color            n/a\n",
       "is_4wd                 1.0\n",
       "date_posted     2018-06-23\n",
       "days_listed             19\n",
       "Name: 0, dtype: object"
      ]
     },
     "execution_count": 30,
     "metadata": {},
     "output_type": "execute_result"
    }
   ],
   "source": [
    "data.loc[0]"
   ]
  },
  {
   "cell_type": "code",
   "execution_count": 31,
   "metadata": {},
   "outputs": [
    {
     "data": {
      "text/plain": [
       "0"
      ]
     },
     "execution_count": 31,
     "metadata": {},
     "output_type": "execute_result"
    }
   ],
   "source": [
    "data.paint_color.isnull().sum()"
   ]
  },
  {
   "cell_type": "markdown",
   "metadata": {},
   "source": [
    "**'is_4wd' missing values**"
   ]
  },
  {
   "cell_type": "code",
   "execution_count": 32,
   "metadata": {},
   "outputs": [
    {
     "name": "stdout",
     "output_type": "stream",
     "text": [
      "50%\n"
     ]
    }
   ],
   "source": [
    "print('{:.0%}'.format(data.is_4wd.isnull().sum()/len(data)))"
   ]
  },
  {
   "cell_type": "code",
   "execution_count": 33,
   "metadata": {},
   "outputs": [
    {
     "data": {
      "text/plain": [
       "ford f-150                  2048\n",
       "chevrolet silverado 1500    1644\n",
       "ram 1500                    1229\n",
       "jeep wrangler               1090\n",
       "ram 2500                     954\n",
       "                            ... \n",
       "nissan versa                   2\n",
       "nissan maxima                  1\n",
       "kia soul                       1\n",
       "nissan sentra                  1\n",
       "hyundai elantra                1\n",
       "Name: model, Length: 94, dtype: int64"
      ]
     },
     "execution_count": 33,
     "metadata": {},
     "output_type": "execute_result"
    }
   ],
   "source": [
    "data[data.is_4wd.notna()]['model'].value_counts()"
   ]
  },
  {
   "cell_type": "code",
   "execution_count": 34,
   "metadata": {},
   "outputs": [
    {
     "data": {
      "text/plain": [
       "toyota camry                     976\n",
       "honda accord                     948\n",
       "nissan altima                    802\n",
       "honda civic                      785\n",
       "ford focus                       749\n",
       "                                ... \n",
       "ford f150 supercrew cab xlt       11\n",
       "subaru forester                   11\n",
       "subaru impreza                    11\n",
       "jeep wrangler unlimited            8\n",
       "chevrolet silverado 1500 crew      2\n",
       "Name: model, Length: 100, dtype: int64"
      ]
     },
     "execution_count": 34,
     "metadata": {},
     "output_type": "execute_result"
    }
   ],
   "source": [
    "data[data.is_4wd.isnull()]['model'].value_counts()"
   ]
  },
  {
   "cell_type": "code",
   "execution_count": 35,
   "metadata": {},
   "outputs": [],
   "source": [
    "data['is_4wd'] = data['is_4wd'].fillna(0)"
   ]
  },
  {
   "cell_type": "code",
   "execution_count": 36,
   "metadata": {},
   "outputs": [
    {
     "data": {
      "text/html": [
       "<div>\n",
       "<style scoped>\n",
       "    .dataframe tbody tr th:only-of-type {\n",
       "        vertical-align: middle;\n",
       "    }\n",
       "\n",
       "    .dataframe tbody tr th {\n",
       "        vertical-align: top;\n",
       "    }\n",
       "\n",
       "    .dataframe thead th {\n",
       "        text-align: right;\n",
       "    }\n",
       "</style>\n",
       "<table border=\"1\" class=\"dataframe\">\n",
       "  <thead>\n",
       "    <tr style=\"text-align: right;\">\n",
       "      <th></th>\n",
       "      <th>price</th>\n",
       "      <th>model_year</th>\n",
       "      <th>model</th>\n",
       "      <th>condition</th>\n",
       "      <th>cylinders</th>\n",
       "      <th>fuel</th>\n",
       "      <th>odometer</th>\n",
       "      <th>transmission</th>\n",
       "      <th>type</th>\n",
       "      <th>paint_color</th>\n",
       "      <th>is_4wd</th>\n",
       "      <th>date_posted</th>\n",
       "      <th>days_listed</th>\n",
       "    </tr>\n",
       "  </thead>\n",
       "  <tbody>\n",
       "    <tr>\n",
       "      <th>0</th>\n",
       "      <td>9400</td>\n",
       "      <td>2011.0</td>\n",
       "      <td>bmw x5</td>\n",
       "      <td>good</td>\n",
       "      <td>6.0</td>\n",
       "      <td>gas</td>\n",
       "      <td>145000.0</td>\n",
       "      <td>automatic</td>\n",
       "      <td>SUV</td>\n",
       "      <td>n/a</td>\n",
       "      <td>1.0</td>\n",
       "      <td>2018-06-23</td>\n",
       "      <td>19</td>\n",
       "    </tr>\n",
       "    <tr>\n",
       "      <th>1</th>\n",
       "      <td>25500</td>\n",
       "      <td>2011.0</td>\n",
       "      <td>ford f-150</td>\n",
       "      <td>good</td>\n",
       "      <td>6.0</td>\n",
       "      <td>gas</td>\n",
       "      <td>88705.0</td>\n",
       "      <td>automatic</td>\n",
       "      <td>pickup</td>\n",
       "      <td>white</td>\n",
       "      <td>1.0</td>\n",
       "      <td>2018-10-19</td>\n",
       "      <td>50</td>\n",
       "    </tr>\n",
       "    <tr>\n",
       "      <th>2</th>\n",
       "      <td>5500</td>\n",
       "      <td>2013.0</td>\n",
       "      <td>hyundai sonata</td>\n",
       "      <td>like new</td>\n",
       "      <td>4.0</td>\n",
       "      <td>gas</td>\n",
       "      <td>110000.0</td>\n",
       "      <td>automatic</td>\n",
       "      <td>sedan</td>\n",
       "      <td>red</td>\n",
       "      <td>0.0</td>\n",
       "      <td>2019-02-07</td>\n",
       "      <td>79</td>\n",
       "    </tr>\n",
       "    <tr>\n",
       "      <th>3</th>\n",
       "      <td>1500</td>\n",
       "      <td>2003.0</td>\n",
       "      <td>ford f-150</td>\n",
       "      <td>fair</td>\n",
       "      <td>8.0</td>\n",
       "      <td>gas</td>\n",
       "      <td>161397.0</td>\n",
       "      <td>automatic</td>\n",
       "      <td>pickup</td>\n",
       "      <td>n/a</td>\n",
       "      <td>0.0</td>\n",
       "      <td>2019-03-22</td>\n",
       "      <td>9</td>\n",
       "    </tr>\n",
       "    <tr>\n",
       "      <th>4</th>\n",
       "      <td>14900</td>\n",
       "      <td>2017.0</td>\n",
       "      <td>chrysler 200</td>\n",
       "      <td>excellent</td>\n",
       "      <td>4.0</td>\n",
       "      <td>gas</td>\n",
       "      <td>80903.0</td>\n",
       "      <td>automatic</td>\n",
       "      <td>sedan</td>\n",
       "      <td>black</td>\n",
       "      <td>0.0</td>\n",
       "      <td>2019-04-02</td>\n",
       "      <td>28</td>\n",
       "    </tr>\n",
       "  </tbody>\n",
       "</table>\n",
       "</div>"
      ],
      "text/plain": [
       "   price  model_year           model  condition  cylinders fuel  odometer  \\\n",
       "0   9400      2011.0          bmw x5       good        6.0  gas  145000.0   \n",
       "1  25500      2011.0      ford f-150       good        6.0  gas   88705.0   \n",
       "2   5500      2013.0  hyundai sonata   like new        4.0  gas  110000.0   \n",
       "3   1500      2003.0      ford f-150       fair        8.0  gas  161397.0   \n",
       "4  14900      2017.0    chrysler 200  excellent        4.0  gas   80903.0   \n",
       "\n",
       "  transmission    type paint_color  is_4wd date_posted  days_listed  \n",
       "0    automatic     SUV         n/a     1.0  2018-06-23           19  \n",
       "1    automatic  pickup       white     1.0  2018-10-19           50  \n",
       "2    automatic   sedan         red     0.0  2019-02-07           79  \n",
       "3    automatic  pickup         n/a     0.0  2019-03-22            9  \n",
       "4    automatic   sedan       black     0.0  2019-04-02           28  "
      ]
     },
     "execution_count": 36,
     "metadata": {},
     "output_type": "execute_result"
    }
   ],
   "source": [
    "data.head()"
   ]
  },
  {
   "cell_type": "code",
   "execution_count": 37,
   "metadata": {},
   "outputs": [
    {
     "data": {
      "text/plain": [
       "0"
      ]
     },
     "execution_count": 37,
     "metadata": {},
     "output_type": "execute_result"
    }
   ],
   "source": [
    "data.is_4wd.isnull().sum()"
   ]
  },
  {
   "cell_type": "markdown",
   "metadata": {},
   "source": [
    "## Fix data types"
   ]
  },
  {
   "cell_type": "code",
   "execution_count": 38,
   "metadata": {},
   "outputs": [
    {
     "data": {
      "text/html": [
       "<div>\n",
       "<style scoped>\n",
       "    .dataframe tbody tr th:only-of-type {\n",
       "        vertical-align: middle;\n",
       "    }\n",
       "\n",
       "    .dataframe tbody tr th {\n",
       "        vertical-align: top;\n",
       "    }\n",
       "\n",
       "    .dataframe thead th {\n",
       "        text-align: right;\n",
       "    }\n",
       "</style>\n",
       "<table border=\"1\" class=\"dataframe\">\n",
       "  <thead>\n",
       "    <tr style=\"text-align: right;\">\n",
       "      <th></th>\n",
       "      <th>price</th>\n",
       "      <th>model_year</th>\n",
       "      <th>model</th>\n",
       "      <th>condition</th>\n",
       "      <th>cylinders</th>\n",
       "      <th>fuel</th>\n",
       "      <th>odometer</th>\n",
       "      <th>transmission</th>\n",
       "      <th>type</th>\n",
       "      <th>paint_color</th>\n",
       "      <th>is_4wd</th>\n",
       "      <th>date_posted</th>\n",
       "      <th>days_listed</th>\n",
       "    </tr>\n",
       "  </thead>\n",
       "  <tbody>\n",
       "    <tr>\n",
       "      <th>0</th>\n",
       "      <td>9400</td>\n",
       "      <td>2011.0</td>\n",
       "      <td>bmw x5</td>\n",
       "      <td>good</td>\n",
       "      <td>6.0</td>\n",
       "      <td>gas</td>\n",
       "      <td>145000.0</td>\n",
       "      <td>automatic</td>\n",
       "      <td>SUV</td>\n",
       "      <td>n/a</td>\n",
       "      <td>1.0</td>\n",
       "      <td>2018-06-23</td>\n",
       "      <td>19</td>\n",
       "    </tr>\n",
       "    <tr>\n",
       "      <th>1</th>\n",
       "      <td>25500</td>\n",
       "      <td>2011.0</td>\n",
       "      <td>ford f-150</td>\n",
       "      <td>good</td>\n",
       "      <td>6.0</td>\n",
       "      <td>gas</td>\n",
       "      <td>88705.0</td>\n",
       "      <td>automatic</td>\n",
       "      <td>pickup</td>\n",
       "      <td>white</td>\n",
       "      <td>1.0</td>\n",
       "      <td>2018-10-19</td>\n",
       "      <td>50</td>\n",
       "    </tr>\n",
       "    <tr>\n",
       "      <th>2</th>\n",
       "      <td>5500</td>\n",
       "      <td>2013.0</td>\n",
       "      <td>hyundai sonata</td>\n",
       "      <td>like new</td>\n",
       "      <td>4.0</td>\n",
       "      <td>gas</td>\n",
       "      <td>110000.0</td>\n",
       "      <td>automatic</td>\n",
       "      <td>sedan</td>\n",
       "      <td>red</td>\n",
       "      <td>0.0</td>\n",
       "      <td>2019-02-07</td>\n",
       "      <td>79</td>\n",
       "    </tr>\n",
       "    <tr>\n",
       "      <th>3</th>\n",
       "      <td>1500</td>\n",
       "      <td>2003.0</td>\n",
       "      <td>ford f-150</td>\n",
       "      <td>fair</td>\n",
       "      <td>8.0</td>\n",
       "      <td>gas</td>\n",
       "      <td>161397.0</td>\n",
       "      <td>automatic</td>\n",
       "      <td>pickup</td>\n",
       "      <td>n/a</td>\n",
       "      <td>0.0</td>\n",
       "      <td>2019-03-22</td>\n",
       "      <td>9</td>\n",
       "    </tr>\n",
       "    <tr>\n",
       "      <th>4</th>\n",
       "      <td>14900</td>\n",
       "      <td>2017.0</td>\n",
       "      <td>chrysler 200</td>\n",
       "      <td>excellent</td>\n",
       "      <td>4.0</td>\n",
       "      <td>gas</td>\n",
       "      <td>80903.0</td>\n",
       "      <td>automatic</td>\n",
       "      <td>sedan</td>\n",
       "      <td>black</td>\n",
       "      <td>0.0</td>\n",
       "      <td>2019-04-02</td>\n",
       "      <td>28</td>\n",
       "    </tr>\n",
       "  </tbody>\n",
       "</table>\n",
       "</div>"
      ],
      "text/plain": [
       "   price  model_year           model  condition  cylinders fuel  odometer  \\\n",
       "0   9400      2011.0          bmw x5       good        6.0  gas  145000.0   \n",
       "1  25500      2011.0      ford f-150       good        6.0  gas   88705.0   \n",
       "2   5500      2013.0  hyundai sonata   like new        4.0  gas  110000.0   \n",
       "3   1500      2003.0      ford f-150       fair        8.0  gas  161397.0   \n",
       "4  14900      2017.0    chrysler 200  excellent        4.0  gas   80903.0   \n",
       "\n",
       "  transmission    type paint_color  is_4wd date_posted  days_listed  \n",
       "0    automatic     SUV         n/a     1.0  2018-06-23           19  \n",
       "1    automatic  pickup       white     1.0  2018-10-19           50  \n",
       "2    automatic   sedan         red     0.0  2019-02-07           79  \n",
       "3    automatic  pickup         n/a     0.0  2019-03-22            9  \n",
       "4    automatic   sedan       black     0.0  2019-04-02           28  "
      ]
     },
     "execution_count": 38,
     "metadata": {},
     "output_type": "execute_result"
    }
   ],
   "source": [
    "data.head()"
   ]
  },
  {
   "cell_type": "code",
   "execution_count": 39,
   "metadata": {},
   "outputs": [
    {
     "name": "stdout",
     "output_type": "stream",
     "text": [
      "<class 'pandas.core.frame.DataFrame'>\n",
      "RangeIndex: 51525 entries, 0 to 51524\n",
      "Data columns (total 13 columns):\n",
      " #   Column        Non-Null Count  Dtype  \n",
      "---  ------        --------------  -----  \n",
      " 0   price         51525 non-null  int64  \n",
      " 1   model_year    51525 non-null  float64\n",
      " 2   model         51525 non-null  object \n",
      " 3   condition     51525 non-null  object \n",
      " 4   cylinders     51525 non-null  float64\n",
      " 5   fuel          51525 non-null  object \n",
      " 6   odometer      51525 non-null  float64\n",
      " 7   transmission  51525 non-null  object \n",
      " 8   type          51525 non-null  object \n",
      " 9   paint_color   51525 non-null  object \n",
      " 10  is_4wd        51525 non-null  float64\n",
      " 11  date_posted   51525 non-null  object \n",
      " 12  days_listed   51525 non-null  int64  \n",
      "dtypes: float64(4), int64(2), object(7)\n",
      "memory usage: 5.1+ MB\n"
     ]
    }
   ],
   "source": [
    "data.info()"
   ]
  },
  {
   "cell_type": "markdown",
   "metadata": {},
   "source": [
    "**change data type for 'model_year'**"
   ]
  },
  {
   "cell_type": "code",
   "execution_count": 40,
   "metadata": {},
   "outputs": [],
   "source": [
    "data['model_year'] = pd.to_datetime(data['model_year'],format=('%Y'))"
   ]
  },
  {
   "cell_type": "code",
   "execution_count": 41,
   "metadata": {},
   "outputs": [],
   "source": [
    "data['model_year'] = data['model_year'].dt.year"
   ]
  },
  {
   "cell_type": "markdown",
   "metadata": {},
   "source": [
    "**change to lowercase for 'model'**"
   ]
  },
  {
   "cell_type": "code",
   "execution_count": 42,
   "metadata": {},
   "outputs": [],
   "source": [
    "data['model'] = data['model'].str.lower()"
   ]
  },
  {
   "cell_type": "markdown",
   "metadata": {},
   "source": [
    "**change data type for 'cylinders'**"
   ]
  },
  {
   "cell_type": "code",
   "execution_count": 43,
   "metadata": {},
   "outputs": [
    {
     "data": {
      "text/plain": [
       "8.0     17712\n",
       "6.0     17435\n",
       "4.0     15499\n",
       "10.0      549\n",
       "5.0       294\n",
       "3.0        34\n",
       "12.0        2\n",
       "Name: cylinders, dtype: int64"
      ]
     },
     "execution_count": 43,
     "metadata": {},
     "output_type": "execute_result"
    }
   ],
   "source": [
    "data['cylinders'].value_counts()"
   ]
  },
  {
   "cell_type": "code",
   "execution_count": 44,
   "metadata": {},
   "outputs": [],
   "source": [
    "data['cylinders'] = data['cylinders'].astype(int)"
   ]
  },
  {
   "cell_type": "markdown",
   "metadata": {},
   "source": [
    "**check 'fuel'**"
   ]
  },
  {
   "cell_type": "code",
   "execution_count": 45,
   "metadata": {},
   "outputs": [
    {
     "data": {
      "text/plain": [
       "gas         47288\n",
       "diesel       3714\n",
       "hybrid        409\n",
       "other         108\n",
       "electric        6\n",
       "Name: fuel, dtype: int64"
      ]
     },
     "execution_count": 45,
     "metadata": {},
     "output_type": "execute_result"
    }
   ],
   "source": [
    "data.fuel.value_counts()"
   ]
  },
  {
   "cell_type": "markdown",
   "metadata": {},
   "source": [
    "**change data type for 'odometer'**"
   ]
  },
  {
   "cell_type": "code",
   "execution_count": 46,
   "metadata": {},
   "outputs": [],
   "source": [
    "data['odometer'] = data['odometer'].astype(int)"
   ]
  },
  {
   "cell_type": "markdown",
   "metadata": {},
   "source": [
    "**check 'transmission'**"
   ]
  },
  {
   "cell_type": "code",
   "execution_count": 47,
   "metadata": {},
   "outputs": [
    {
     "data": {
      "text/plain": [
       "automatic    46902\n",
       "manual        2829\n",
       "other         1794\n",
       "Name: transmission, dtype: int64"
      ]
     },
     "execution_count": 47,
     "metadata": {},
     "output_type": "execute_result"
    }
   ],
   "source": [
    "data.transmission.value_counts()"
   ]
  },
  {
   "cell_type": "markdown",
   "metadata": {},
   "source": [
    "**check 'type'**"
   ]
  },
  {
   "cell_type": "code",
   "execution_count": 48,
   "metadata": {},
   "outputs": [
    {
     "data": {
      "text/plain": [
       "SUV            12405\n",
       "truck          12353\n",
       "sedan          12154\n",
       "pickup          6988\n",
       "coupe           2303\n",
       "wagon           1541\n",
       "mini-van        1161\n",
       "hatchback       1047\n",
       "van              633\n",
       "convertible      446\n",
       "other            256\n",
       "offroad          214\n",
       "bus               24\n",
       "Name: type, dtype: int64"
      ]
     },
     "execution_count": 48,
     "metadata": {},
     "output_type": "execute_result"
    }
   ],
   "source": [
    "data.type.value_counts()"
   ]
  },
  {
   "cell_type": "code",
   "execution_count": 49,
   "metadata": {},
   "outputs": [],
   "source": [
    "data['type'] = data['type'].str.lower()"
   ]
  },
  {
   "cell_type": "markdown",
   "metadata": {},
   "source": [
    "**change data type for 'odometer'**"
   ]
  },
  {
   "cell_type": "code",
   "execution_count": 50,
   "metadata": {},
   "outputs": [],
   "source": [
    "data['is_4wd'] = data['is_4wd'].astype(int)"
   ]
  },
  {
   "cell_type": "markdown",
   "metadata": {},
   "source": [
    "**further investigate for null values in 'days_listed'**"
   ]
  },
  {
   "cell_type": "code",
   "execution_count": 51,
   "metadata": {},
   "outputs": [
    {
     "data": {
      "text/plain": [
       "54"
      ]
     },
     "execution_count": 51,
     "metadata": {},
     "output_type": "execute_result"
    }
   ],
   "source": [
    "len(data[data['days_listed']==0])"
   ]
  },
  {
   "cell_type": "code",
   "execution_count": 52,
   "metadata": {},
   "outputs": [
    {
     "name": "stdout",
     "output_type": "stream",
     "text": [
      "0.104803%\n"
     ]
    }
   ],
   "source": [
    "print('{:%}'.format(len(data[data['days_listed']==0])/len(data)))"
   ]
  },
  {
   "cell_type": "markdown",
   "metadata": {},
   "source": [
    "## Enrich data"
   ]
  },
  {
   "cell_type": "code",
   "execution_count": 53,
   "metadata": {},
   "outputs": [],
   "source": [
    "# Add datetime values for when the ad was placed\n",
    "data['date_posted'] = pd.to_datetime(data['date_posted'], format='%Y-%m-%d')"
   ]
  },
  {
   "cell_type": "code",
   "execution_count": 54,
   "metadata": {},
   "outputs": [
    {
     "name": "stdout",
     "output_type": "stream",
     "text": [
      "<class 'pandas.core.frame.DataFrame'>\n",
      "RangeIndex: 51525 entries, 0 to 51524\n",
      "Data columns (total 13 columns):\n",
      " #   Column        Non-Null Count  Dtype         \n",
      "---  ------        --------------  -----         \n",
      " 0   price         51525 non-null  int64         \n",
      " 1   model_year    51525 non-null  int64         \n",
      " 2   model         51525 non-null  object        \n",
      " 3   condition     51525 non-null  object        \n",
      " 4   cylinders     51525 non-null  int32         \n",
      " 5   fuel          51525 non-null  object        \n",
      " 6   odometer      51525 non-null  int32         \n",
      " 7   transmission  51525 non-null  object        \n",
      " 8   type          51525 non-null  object        \n",
      " 9   paint_color   51525 non-null  object        \n",
      " 10  is_4wd        51525 non-null  int32         \n",
      " 11  date_posted   51525 non-null  datetime64[ns]\n",
      " 12  days_listed   51525 non-null  int64         \n",
      "dtypes: datetime64[ns](1), int32(3), int64(3), object(6)\n",
      "memory usage: 4.5+ MB\n"
     ]
    }
   ],
   "source": [
    "data.info()"
   ]
  },
  {
   "cell_type": "code",
   "execution_count": 55,
   "metadata": {
    "scrolled": true
   },
   "outputs": [
    {
     "data": {
      "text/html": [
       "<div>\n",
       "<style scoped>\n",
       "    .dataframe tbody tr th:only-of-type {\n",
       "        vertical-align: middle;\n",
       "    }\n",
       "\n",
       "    .dataframe tbody tr th {\n",
       "        vertical-align: top;\n",
       "    }\n",
       "\n",
       "    .dataframe thead th {\n",
       "        text-align: right;\n",
       "    }\n",
       "</style>\n",
       "<table border=\"1\" class=\"dataframe\">\n",
       "  <thead>\n",
       "    <tr style=\"text-align: right;\">\n",
       "      <th></th>\n",
       "      <th>price</th>\n",
       "      <th>model_year</th>\n",
       "      <th>model</th>\n",
       "      <th>condition</th>\n",
       "      <th>cylinders</th>\n",
       "      <th>fuel</th>\n",
       "      <th>odometer</th>\n",
       "      <th>transmission</th>\n",
       "      <th>type</th>\n",
       "      <th>paint_color</th>\n",
       "      <th>is_4wd</th>\n",
       "      <th>date_posted</th>\n",
       "      <th>days_listed</th>\n",
       "      <th>year</th>\n",
       "      <th>month</th>\n",
       "      <th>weekday</th>\n",
       "    </tr>\n",
       "  </thead>\n",
       "  <tbody>\n",
       "    <tr>\n",
       "      <th>0</th>\n",
       "      <td>9400</td>\n",
       "      <td>2011</td>\n",
       "      <td>bmw x5</td>\n",
       "      <td>good</td>\n",
       "      <td>6</td>\n",
       "      <td>gas</td>\n",
       "      <td>145000</td>\n",
       "      <td>automatic</td>\n",
       "      <td>suv</td>\n",
       "      <td>n/a</td>\n",
       "      <td>1</td>\n",
       "      <td>2018-06-23</td>\n",
       "      <td>19</td>\n",
       "      <td>2018</td>\n",
       "      <td>6</td>\n",
       "      <td>5</td>\n",
       "    </tr>\n",
       "    <tr>\n",
       "      <th>1</th>\n",
       "      <td>25500</td>\n",
       "      <td>2011</td>\n",
       "      <td>ford f-150</td>\n",
       "      <td>good</td>\n",
       "      <td>6</td>\n",
       "      <td>gas</td>\n",
       "      <td>88705</td>\n",
       "      <td>automatic</td>\n",
       "      <td>pickup</td>\n",
       "      <td>white</td>\n",
       "      <td>1</td>\n",
       "      <td>2018-10-19</td>\n",
       "      <td>50</td>\n",
       "      <td>2018</td>\n",
       "      <td>10</td>\n",
       "      <td>4</td>\n",
       "    </tr>\n",
       "    <tr>\n",
       "      <th>2</th>\n",
       "      <td>5500</td>\n",
       "      <td>2013</td>\n",
       "      <td>hyundai sonata</td>\n",
       "      <td>like new</td>\n",
       "      <td>4</td>\n",
       "      <td>gas</td>\n",
       "      <td>110000</td>\n",
       "      <td>automatic</td>\n",
       "      <td>sedan</td>\n",
       "      <td>red</td>\n",
       "      <td>0</td>\n",
       "      <td>2019-02-07</td>\n",
       "      <td>79</td>\n",
       "      <td>2019</td>\n",
       "      <td>2</td>\n",
       "      <td>3</td>\n",
       "    </tr>\n",
       "    <tr>\n",
       "      <th>3</th>\n",
       "      <td>1500</td>\n",
       "      <td>2003</td>\n",
       "      <td>ford f-150</td>\n",
       "      <td>fair</td>\n",
       "      <td>8</td>\n",
       "      <td>gas</td>\n",
       "      <td>161397</td>\n",
       "      <td>automatic</td>\n",
       "      <td>pickup</td>\n",
       "      <td>n/a</td>\n",
       "      <td>0</td>\n",
       "      <td>2019-03-22</td>\n",
       "      <td>9</td>\n",
       "      <td>2019</td>\n",
       "      <td>3</td>\n",
       "      <td>4</td>\n",
       "    </tr>\n",
       "    <tr>\n",
       "      <th>4</th>\n",
       "      <td>14900</td>\n",
       "      <td>2017</td>\n",
       "      <td>chrysler 200</td>\n",
       "      <td>excellent</td>\n",
       "      <td>4</td>\n",
       "      <td>gas</td>\n",
       "      <td>80903</td>\n",
       "      <td>automatic</td>\n",
       "      <td>sedan</td>\n",
       "      <td>black</td>\n",
       "      <td>0</td>\n",
       "      <td>2019-04-02</td>\n",
       "      <td>28</td>\n",
       "      <td>2019</td>\n",
       "      <td>4</td>\n",
       "      <td>1</td>\n",
       "    </tr>\n",
       "  </tbody>\n",
       "</table>\n",
       "</div>"
      ],
      "text/plain": [
       "   price  model_year           model  condition  cylinders fuel  odometer  \\\n",
       "0   9400        2011          bmw x5       good          6  gas    145000   \n",
       "1  25500        2011      ford f-150       good          6  gas     88705   \n",
       "2   5500        2013  hyundai sonata   like new          4  gas    110000   \n",
       "3   1500        2003      ford f-150       fair          8  gas    161397   \n",
       "4  14900        2017    chrysler 200  excellent          4  gas     80903   \n",
       "\n",
       "  transmission    type paint_color  is_4wd date_posted  days_listed  year  \\\n",
       "0    automatic     suv         n/a       1  2018-06-23           19  2018   \n",
       "1    automatic  pickup       white       1  2018-10-19           50  2018   \n",
       "2    automatic   sedan         red       0  2019-02-07           79  2019   \n",
       "3    automatic  pickup         n/a       0  2019-03-22            9  2019   \n",
       "4    automatic   sedan       black       0  2019-04-02           28  2019   \n",
       "\n",
       "   month  weekday  \n",
       "0      6        5  \n",
       "1     10        4  \n",
       "2      2        3  \n",
       "3      3        4  \n",
       "4      4        1  "
      ]
     },
     "execution_count": 55,
     "metadata": {},
     "output_type": "execute_result"
    }
   ],
   "source": [
    "# Add year, month, weekday columns\n",
    "data['year'] = data['date_posted'].dt.year\n",
    "data['month'] = data['date_posted'].dt.month\n",
    "data['weekday'] = data['date_posted'].dt.weekday\n",
    "data.head()"
   ]
  },
  {
   "cell_type": "code",
   "execution_count": 56,
   "metadata": {},
   "outputs": [
    {
     "data": {
      "text/html": [
       "<div>\n",
       "<style scoped>\n",
       "    .dataframe tbody tr th:only-of-type {\n",
       "        vertical-align: middle;\n",
       "    }\n",
       "\n",
       "    .dataframe tbody tr th {\n",
       "        vertical-align: top;\n",
       "    }\n",
       "\n",
       "    .dataframe thead th {\n",
       "        text-align: right;\n",
       "    }\n",
       "</style>\n",
       "<table border=\"1\" class=\"dataframe\">\n",
       "  <thead>\n",
       "    <tr style=\"text-align: right;\">\n",
       "      <th></th>\n",
       "      <th>price</th>\n",
       "      <th>model_year</th>\n",
       "      <th>model</th>\n",
       "      <th>condition</th>\n",
       "      <th>cylinders</th>\n",
       "      <th>fuel</th>\n",
       "      <th>odometer</th>\n",
       "      <th>transmission</th>\n",
       "      <th>type</th>\n",
       "      <th>paint_color</th>\n",
       "      <th>is_4wd</th>\n",
       "      <th>date_posted</th>\n",
       "      <th>days_listed</th>\n",
       "      <th>year</th>\n",
       "      <th>month</th>\n",
       "      <th>weekday</th>\n",
       "      <th>age</th>\n",
       "    </tr>\n",
       "  </thead>\n",
       "  <tbody>\n",
       "    <tr>\n",
       "      <th>0</th>\n",
       "      <td>9400</td>\n",
       "      <td>2011</td>\n",
       "      <td>bmw x5</td>\n",
       "      <td>good</td>\n",
       "      <td>6</td>\n",
       "      <td>gas</td>\n",
       "      <td>145000</td>\n",
       "      <td>automatic</td>\n",
       "      <td>suv</td>\n",
       "      <td>n/a</td>\n",
       "      <td>1</td>\n",
       "      <td>2018-06-23</td>\n",
       "      <td>19</td>\n",
       "      <td>2018</td>\n",
       "      <td>6</td>\n",
       "      <td>5</td>\n",
       "      <td>8</td>\n",
       "    </tr>\n",
       "    <tr>\n",
       "      <th>1</th>\n",
       "      <td>25500</td>\n",
       "      <td>2011</td>\n",
       "      <td>ford f-150</td>\n",
       "      <td>good</td>\n",
       "      <td>6</td>\n",
       "      <td>gas</td>\n",
       "      <td>88705</td>\n",
       "      <td>automatic</td>\n",
       "      <td>pickup</td>\n",
       "      <td>white</td>\n",
       "      <td>1</td>\n",
       "      <td>2018-10-19</td>\n",
       "      <td>50</td>\n",
       "      <td>2018</td>\n",
       "      <td>10</td>\n",
       "      <td>4</td>\n",
       "      <td>8</td>\n",
       "    </tr>\n",
       "    <tr>\n",
       "      <th>2</th>\n",
       "      <td>5500</td>\n",
       "      <td>2013</td>\n",
       "      <td>hyundai sonata</td>\n",
       "      <td>like new</td>\n",
       "      <td>4</td>\n",
       "      <td>gas</td>\n",
       "      <td>110000</td>\n",
       "      <td>automatic</td>\n",
       "      <td>sedan</td>\n",
       "      <td>red</td>\n",
       "      <td>0</td>\n",
       "      <td>2019-02-07</td>\n",
       "      <td>79</td>\n",
       "      <td>2019</td>\n",
       "      <td>2</td>\n",
       "      <td>3</td>\n",
       "      <td>7</td>\n",
       "    </tr>\n",
       "    <tr>\n",
       "      <th>3</th>\n",
       "      <td>1500</td>\n",
       "      <td>2003</td>\n",
       "      <td>ford f-150</td>\n",
       "      <td>fair</td>\n",
       "      <td>8</td>\n",
       "      <td>gas</td>\n",
       "      <td>161397</td>\n",
       "      <td>automatic</td>\n",
       "      <td>pickup</td>\n",
       "      <td>n/a</td>\n",
       "      <td>0</td>\n",
       "      <td>2019-03-22</td>\n",
       "      <td>9</td>\n",
       "      <td>2019</td>\n",
       "      <td>3</td>\n",
       "      <td>4</td>\n",
       "      <td>17</td>\n",
       "    </tr>\n",
       "    <tr>\n",
       "      <th>4</th>\n",
       "      <td>14900</td>\n",
       "      <td>2017</td>\n",
       "      <td>chrysler 200</td>\n",
       "      <td>excellent</td>\n",
       "      <td>4</td>\n",
       "      <td>gas</td>\n",
       "      <td>80903</td>\n",
       "      <td>automatic</td>\n",
       "      <td>sedan</td>\n",
       "      <td>black</td>\n",
       "      <td>0</td>\n",
       "      <td>2019-04-02</td>\n",
       "      <td>28</td>\n",
       "      <td>2019</td>\n",
       "      <td>4</td>\n",
       "      <td>1</td>\n",
       "      <td>3</td>\n",
       "    </tr>\n",
       "  </tbody>\n",
       "</table>\n",
       "</div>"
      ],
      "text/plain": [
       "   price  model_year           model  condition  cylinders fuel  odometer  \\\n",
       "0   9400        2011          bmw x5       good          6  gas    145000   \n",
       "1  25500        2011      ford f-150       good          6  gas     88705   \n",
       "2   5500        2013  hyundai sonata   like new          4  gas    110000   \n",
       "3   1500        2003      ford f-150       fair          8  gas    161397   \n",
       "4  14900        2017    chrysler 200  excellent          4  gas     80903   \n",
       "\n",
       "  transmission    type paint_color  is_4wd date_posted  days_listed  year  \\\n",
       "0    automatic     suv         n/a       1  2018-06-23           19  2018   \n",
       "1    automatic  pickup       white       1  2018-10-19           50  2018   \n",
       "2    automatic   sedan         red       0  2019-02-07           79  2019   \n",
       "3    automatic  pickup         n/a       0  2019-03-22            9  2019   \n",
       "4    automatic   sedan       black       0  2019-04-02           28  2019   \n",
       "\n",
       "   month  weekday  age  \n",
       "0      6        5    8  \n",
       "1     10        4    8  \n",
       "2      2        3    7  \n",
       "3      3        4   17  \n",
       "4      4        1    3  "
      ]
     },
     "execution_count": 56,
     "metadata": {},
     "output_type": "execute_result"
    }
   ],
   "source": [
    "data['age'] = (data['year'] - data['model_year']).astype(int) + 1\n",
    "data.head()"
   ]
  },
  {
   "cell_type": "code",
   "execution_count": 57,
   "metadata": {},
   "outputs": [
    {
     "data": {
      "text/html": [
       "<div>\n",
       "<style scoped>\n",
       "    .dataframe tbody tr th:only-of-type {\n",
       "        vertical-align: middle;\n",
       "    }\n",
       "\n",
       "    .dataframe tbody tr th {\n",
       "        vertical-align: top;\n",
       "    }\n",
       "\n",
       "    .dataframe thead th {\n",
       "        text-align: right;\n",
       "    }\n",
       "</style>\n",
       "<table border=\"1\" class=\"dataframe\">\n",
       "  <thead>\n",
       "    <tr style=\"text-align: right;\">\n",
       "      <th></th>\n",
       "      <th>price</th>\n",
       "      <th>model_year</th>\n",
       "      <th>model</th>\n",
       "      <th>condition</th>\n",
       "      <th>cylinders</th>\n",
       "      <th>fuel</th>\n",
       "      <th>odometer</th>\n",
       "      <th>transmission</th>\n",
       "      <th>type</th>\n",
       "      <th>paint_color</th>\n",
       "      <th>is_4wd</th>\n",
       "      <th>date_posted</th>\n",
       "      <th>days_listed</th>\n",
       "      <th>year</th>\n",
       "      <th>month</th>\n",
       "      <th>weekday</th>\n",
       "      <th>age</th>\n",
       "      <th>mile_mean</th>\n",
       "    </tr>\n",
       "  </thead>\n",
       "  <tbody>\n",
       "    <tr>\n",
       "      <th>0</th>\n",
       "      <td>9400</td>\n",
       "      <td>2011</td>\n",
       "      <td>bmw x5</td>\n",
       "      <td>good</td>\n",
       "      <td>6</td>\n",
       "      <td>gas</td>\n",
       "      <td>145000</td>\n",
       "      <td>automatic</td>\n",
       "      <td>suv</td>\n",
       "      <td>n/a</td>\n",
       "      <td>1</td>\n",
       "      <td>2018-06-23</td>\n",
       "      <td>19</td>\n",
       "      <td>2018</td>\n",
       "      <td>6</td>\n",
       "      <td>5</td>\n",
       "      <td>8</td>\n",
       "      <td>18125.0</td>\n",
       "    </tr>\n",
       "  </tbody>\n",
       "</table>\n",
       "</div>"
      ],
      "text/plain": [
       "   price  model_year   model condition  cylinders fuel  odometer transmission  \\\n",
       "0   9400        2011  bmw x5      good          6  gas    145000    automatic   \n",
       "\n",
       "  type paint_color  is_4wd date_posted  days_listed  year  month  weekday  \\\n",
       "0  suv         n/a       1  2018-06-23           19  2018      6        5   \n",
       "\n",
       "   age  mile_mean  \n",
       "0    8    18125.0  "
      ]
     },
     "execution_count": 57,
     "metadata": {},
     "output_type": "execute_result"
    }
   ],
   "source": [
    "# Add the vehicle's average mileage per year\n",
    "data['mile_mean'] = (data['odometer']) / (data['age'])\n",
    "data.head(1)"
   ]
  },
  {
   "cell_type": "code",
   "execution_count": 58,
   "metadata": {},
   "outputs": [
    {
     "data": {
      "text/html": [
       "<div>\n",
       "<style scoped>\n",
       "    .dataframe tbody tr th:only-of-type {\n",
       "        vertical-align: middle;\n",
       "    }\n",
       "\n",
       "    .dataframe tbody tr th {\n",
       "        vertical-align: top;\n",
       "    }\n",
       "\n",
       "    .dataframe thead th {\n",
       "        text-align: right;\n",
       "    }\n",
       "</style>\n",
       "<table border=\"1\" class=\"dataframe\">\n",
       "  <thead>\n",
       "    <tr style=\"text-align: right;\">\n",
       "      <th></th>\n",
       "      <th>price</th>\n",
       "      <th>model_year</th>\n",
       "      <th>model</th>\n",
       "      <th>condition</th>\n",
       "      <th>cylinders</th>\n",
       "      <th>fuel</th>\n",
       "      <th>odometer</th>\n",
       "      <th>transmission</th>\n",
       "      <th>type</th>\n",
       "      <th>paint_color</th>\n",
       "      <th>is_4wd</th>\n",
       "      <th>date_posted</th>\n",
       "      <th>days_listed</th>\n",
       "      <th>year</th>\n",
       "      <th>month</th>\n",
       "      <th>weekday</th>\n",
       "      <th>age</th>\n",
       "      <th>mile_mean</th>\n",
       "    </tr>\n",
       "  </thead>\n",
       "  <tbody>\n",
       "  </tbody>\n",
       "</table>\n",
       "</div>"
      ],
      "text/plain": [
       "Empty DataFrame\n",
       "Columns: [price, model_year, model, condition, cylinders, fuel, odometer, transmission, type, paint_color, is_4wd, date_posted, days_listed, year, month, weekday, age, mile_mean]\n",
       "Index: []"
      ]
     },
     "execution_count": 58,
     "metadata": {},
     "output_type": "execute_result"
    }
   ],
   "source": [
    "data[data['age']==0].head()"
   ]
  },
  {
   "cell_type": "code",
   "execution_count": 59,
   "metadata": {},
   "outputs": [
    {
     "data": {
      "text/html": [
       "<div>\n",
       "<style scoped>\n",
       "    .dataframe tbody tr th:only-of-type {\n",
       "        vertical-align: middle;\n",
       "    }\n",
       "\n",
       "    .dataframe tbody tr th {\n",
       "        vertical-align: top;\n",
       "    }\n",
       "\n",
       "    .dataframe thead th {\n",
       "        text-align: right;\n",
       "    }\n",
       "</style>\n",
       "<table border=\"1\" class=\"dataframe\">\n",
       "  <thead>\n",
       "    <tr style=\"text-align: right;\">\n",
       "      <th></th>\n",
       "      <th>price</th>\n",
       "      <th>model_year</th>\n",
       "      <th>model</th>\n",
       "      <th>condition</th>\n",
       "      <th>cylinders</th>\n",
       "      <th>fuel</th>\n",
       "      <th>odometer</th>\n",
       "      <th>transmission</th>\n",
       "      <th>type</th>\n",
       "      <th>paint_color</th>\n",
       "      <th>is_4wd</th>\n",
       "      <th>date_posted</th>\n",
       "      <th>days_listed</th>\n",
       "      <th>year</th>\n",
       "      <th>month</th>\n",
       "      <th>weekday</th>\n",
       "      <th>age</th>\n",
       "      <th>mile_mean</th>\n",
       "    </tr>\n",
       "  </thead>\n",
       "  <tbody>\n",
       "  </tbody>\n",
       "</table>\n",
       "</div>"
      ],
      "text/plain": [
       "Empty DataFrame\n",
       "Columns: [price, model_year, model, condition, cylinders, fuel, odometer, transmission, type, paint_color, is_4wd, date_posted, days_listed, year, month, weekday, age, mile_mean]\n",
       "Index: []"
      ]
     },
     "execution_count": 59,
     "metadata": {},
     "output_type": "execute_result"
    }
   ],
   "source": [
    "#Reviewer's code\n",
    "data[data['mile_mean']== np.inf]"
   ]
  },
  {
   "cell_type": "code",
   "execution_count": 60,
   "metadata": {},
   "outputs": [
    {
     "data": {
      "text/plain": [
       "excellent    24773\n",
       "good         20145\n",
       "like new      4742\n",
       "fair          1607\n",
       "new            143\n",
       "salvage        115\n",
       "Name: condition, dtype: int64"
      ]
     },
     "execution_count": 60,
     "metadata": {},
     "output_type": "execute_result"
    }
   ],
   "source": [
    "data.condition.value_counts()"
   ]
  },
  {
   "cell_type": "code",
   "execution_count": 61,
   "metadata": {},
   "outputs": [],
   "source": [
    "# It might help to replace the condition values with something that can be manipulated more easily\n",
    "replace_dict = {'new':5,'like new':4,'excellent':3,'good':2,'fair':1,'salvage':0}\n",
    "data['condition'] = data['condition'].replace(replace_dict)"
   ]
  },
  {
   "cell_type": "code",
   "execution_count": 62,
   "metadata": {},
   "outputs": [
    {
     "data": {
      "text/plain": [
       "3    24773\n",
       "2    20145\n",
       "4     4742\n",
       "1     1607\n",
       "5      143\n",
       "0      115\n",
       "Name: condition, dtype: int64"
      ]
     },
     "execution_count": 62,
     "metadata": {},
     "output_type": "execute_result"
    }
   ],
   "source": [
    "data.condition.value_counts()"
   ]
  },
  {
   "cell_type": "code",
   "execution_count": 63,
   "metadata": {},
   "outputs": [
    {
     "data": {
      "text/plain": [
       "0"
      ]
     },
     "execution_count": 63,
     "metadata": {},
     "output_type": "execute_result"
    }
   ],
   "source": [
    "data.duplicated().sum()"
   ]
  },
  {
   "cell_type": "markdown",
   "metadata": {},
   "source": [
    "## Check clean data"
   ]
  },
  {
   "cell_type": "code",
   "execution_count": 64,
   "metadata": {},
   "outputs": [
    {
     "name": "stdout",
     "output_type": "stream",
     "text": [
      "<class 'pandas.core.frame.DataFrame'>\n",
      "RangeIndex: 51525 entries, 0 to 51524\n",
      "Data columns (total 18 columns):\n",
      " #   Column        Non-Null Count  Dtype         \n",
      "---  ------        --------------  -----         \n",
      " 0   price         51525 non-null  int64         \n",
      " 1   model_year    51525 non-null  int64         \n",
      " 2   model         51525 non-null  object        \n",
      " 3   condition     51525 non-null  int64         \n",
      " 4   cylinders     51525 non-null  int32         \n",
      " 5   fuel          51525 non-null  object        \n",
      " 6   odometer      51525 non-null  int32         \n",
      " 7   transmission  51525 non-null  object        \n",
      " 8   type          51525 non-null  object        \n",
      " 9   paint_color   51525 non-null  object        \n",
      " 10  is_4wd        51525 non-null  int32         \n",
      " 11  date_posted   51525 non-null  datetime64[ns]\n",
      " 12  days_listed   51525 non-null  int64         \n",
      " 13  year          51525 non-null  int64         \n",
      " 14  month         51525 non-null  int64         \n",
      " 15  weekday       51525 non-null  int64         \n",
      " 16  age           51525 non-null  int32         \n",
      " 17  mile_mean     51525 non-null  float64       \n",
      "dtypes: datetime64[ns](1), float64(1), int32(4), int64(7), object(5)\n",
      "memory usage: 6.3+ MB\n"
     ]
    }
   ],
   "source": [
    "data.info()"
   ]
  },
  {
   "cell_type": "code",
   "execution_count": 65,
   "metadata": {
    "scrolled": true
   },
   "outputs": [
    {
     "data": {
      "text/html": [
       "<div>\n",
       "<style scoped>\n",
       "    .dataframe tbody tr th:only-of-type {\n",
       "        vertical-align: middle;\n",
       "    }\n",
       "\n",
       "    .dataframe tbody tr th {\n",
       "        vertical-align: top;\n",
       "    }\n",
       "\n",
       "    .dataframe thead th {\n",
       "        text-align: right;\n",
       "    }\n",
       "</style>\n",
       "<table border=\"1\" class=\"dataframe\">\n",
       "  <thead>\n",
       "    <tr style=\"text-align: right;\">\n",
       "      <th></th>\n",
       "      <th>price</th>\n",
       "      <th>model_year</th>\n",
       "      <th>model</th>\n",
       "      <th>condition</th>\n",
       "      <th>cylinders</th>\n",
       "      <th>fuel</th>\n",
       "      <th>odometer</th>\n",
       "      <th>transmission</th>\n",
       "      <th>type</th>\n",
       "      <th>paint_color</th>\n",
       "      <th>is_4wd</th>\n",
       "      <th>date_posted</th>\n",
       "      <th>days_listed</th>\n",
       "      <th>year</th>\n",
       "      <th>month</th>\n",
       "      <th>weekday</th>\n",
       "      <th>age</th>\n",
       "      <th>mile_mean</th>\n",
       "    </tr>\n",
       "  </thead>\n",
       "  <tbody>\n",
       "    <tr>\n",
       "      <th>0</th>\n",
       "      <td>9400</td>\n",
       "      <td>2011</td>\n",
       "      <td>bmw x5</td>\n",
       "      <td>2</td>\n",
       "      <td>6</td>\n",
       "      <td>gas</td>\n",
       "      <td>145000</td>\n",
       "      <td>automatic</td>\n",
       "      <td>suv</td>\n",
       "      <td>n/a</td>\n",
       "      <td>1</td>\n",
       "      <td>2018-06-23</td>\n",
       "      <td>19</td>\n",
       "      <td>2018</td>\n",
       "      <td>6</td>\n",
       "      <td>5</td>\n",
       "      <td>8</td>\n",
       "      <td>18125.000000</td>\n",
       "    </tr>\n",
       "    <tr>\n",
       "      <th>1</th>\n",
       "      <td>25500</td>\n",
       "      <td>2011</td>\n",
       "      <td>ford f-150</td>\n",
       "      <td>2</td>\n",
       "      <td>6</td>\n",
       "      <td>gas</td>\n",
       "      <td>88705</td>\n",
       "      <td>automatic</td>\n",
       "      <td>pickup</td>\n",
       "      <td>white</td>\n",
       "      <td>1</td>\n",
       "      <td>2018-10-19</td>\n",
       "      <td>50</td>\n",
       "      <td>2018</td>\n",
       "      <td>10</td>\n",
       "      <td>4</td>\n",
       "      <td>8</td>\n",
       "      <td>11088.125000</td>\n",
       "    </tr>\n",
       "    <tr>\n",
       "      <th>2</th>\n",
       "      <td>5500</td>\n",
       "      <td>2013</td>\n",
       "      <td>hyundai sonata</td>\n",
       "      <td>4</td>\n",
       "      <td>4</td>\n",
       "      <td>gas</td>\n",
       "      <td>110000</td>\n",
       "      <td>automatic</td>\n",
       "      <td>sedan</td>\n",
       "      <td>red</td>\n",
       "      <td>0</td>\n",
       "      <td>2019-02-07</td>\n",
       "      <td>79</td>\n",
       "      <td>2019</td>\n",
       "      <td>2</td>\n",
       "      <td>3</td>\n",
       "      <td>7</td>\n",
       "      <td>15714.285714</td>\n",
       "    </tr>\n",
       "    <tr>\n",
       "      <th>3</th>\n",
       "      <td>1500</td>\n",
       "      <td>2003</td>\n",
       "      <td>ford f-150</td>\n",
       "      <td>1</td>\n",
       "      <td>8</td>\n",
       "      <td>gas</td>\n",
       "      <td>161397</td>\n",
       "      <td>automatic</td>\n",
       "      <td>pickup</td>\n",
       "      <td>n/a</td>\n",
       "      <td>0</td>\n",
       "      <td>2019-03-22</td>\n",
       "      <td>9</td>\n",
       "      <td>2019</td>\n",
       "      <td>3</td>\n",
       "      <td>4</td>\n",
       "      <td>17</td>\n",
       "      <td>9493.941176</td>\n",
       "    </tr>\n",
       "    <tr>\n",
       "      <th>4</th>\n",
       "      <td>14900</td>\n",
       "      <td>2017</td>\n",
       "      <td>chrysler 200</td>\n",
       "      <td>3</td>\n",
       "      <td>4</td>\n",
       "      <td>gas</td>\n",
       "      <td>80903</td>\n",
       "      <td>automatic</td>\n",
       "      <td>sedan</td>\n",
       "      <td>black</td>\n",
       "      <td>0</td>\n",
       "      <td>2019-04-02</td>\n",
       "      <td>28</td>\n",
       "      <td>2019</td>\n",
       "      <td>4</td>\n",
       "      <td>1</td>\n",
       "      <td>3</td>\n",
       "      <td>26967.666667</td>\n",
       "    </tr>\n",
       "  </tbody>\n",
       "</table>\n",
       "</div>"
      ],
      "text/plain": [
       "   price  model_year           model  condition  cylinders fuel  odometer  \\\n",
       "0   9400        2011          bmw x5          2          6  gas    145000   \n",
       "1  25500        2011      ford f-150          2          6  gas     88705   \n",
       "2   5500        2013  hyundai sonata          4          4  gas    110000   \n",
       "3   1500        2003      ford f-150          1          8  gas    161397   \n",
       "4  14900        2017    chrysler 200          3          4  gas     80903   \n",
       "\n",
       "  transmission    type paint_color  is_4wd date_posted  days_listed  year  \\\n",
       "0    automatic     suv         n/a       1  2018-06-23           19  2018   \n",
       "1    automatic  pickup       white       1  2018-10-19           50  2018   \n",
       "2    automatic   sedan         red       0  2019-02-07           79  2019   \n",
       "3    automatic  pickup         n/a       0  2019-03-22            9  2019   \n",
       "4    automatic   sedan       black       0  2019-04-02           28  2019   \n",
       "\n",
       "   month  weekday  age     mile_mean  \n",
       "0      6        5    8  18125.000000  \n",
       "1     10        4    8  11088.125000  \n",
       "2      2        3    7  15714.285714  \n",
       "3      3        4   17   9493.941176  \n",
       "4      4        1    3  26967.666667  "
      ]
     },
     "execution_count": 65,
     "metadata": {},
     "output_type": "execute_result"
    }
   ],
   "source": [
    "data.head()"
   ]
  },
  {
   "cell_type": "markdown",
   "metadata": {},
   "source": [
    "## Study core parameters\n",
    "\n",
    "The parameters are\n",
    "- Price\n",
    "- The vehicle's age when the ad was placed\n",
    "- Mileage\n",
    "- Number of cylinders\n",
    "- Condition"
   ]
  },
  {
   "cell_type": "markdown",
   "metadata": {},
   "source": [
    "**Study price**"
   ]
  },
  {
   "cell_type": "code",
   "execution_count": 66,
   "metadata": {},
   "outputs": [
    {
     "data": {
      "text/plain": [
       "count     51525.000000\n",
       "mean      12132.464920\n",
       "std       10040.803015\n",
       "min           1.000000\n",
       "25%        5000.000000\n",
       "50%        9000.000000\n",
       "75%       16839.000000\n",
       "max      375000.000000\n",
       "Name: price, dtype: float64"
      ]
     },
     "execution_count": 66,
     "metadata": {},
     "output_type": "execute_result"
    }
   ],
   "source": [
    "data.price.describe()"
   ]
  },
  {
   "cell_type": "code",
   "execution_count": 67,
   "metadata": {
    "scrolled": true
   },
   "outputs": [
    {
     "data": {
      "text/plain": [
       "43995.0"
      ]
     },
     "execution_count": 67,
     "metadata": {},
     "output_type": "execute_result"
    }
   ],
   "source": [
    "price_up_limit = np.percentile(data['price'],99)\n",
    "price_up_limit"
   ]
  },
  {
   "cell_type": "code",
   "execution_count": 68,
   "metadata": {
    "scrolled": true
   },
   "outputs": [
    {
     "data": {
      "text/plain": [
       "1000.0"
      ]
     },
     "execution_count": 68,
     "metadata": {},
     "output_type": "execute_result"
    }
   ],
   "source": [
    "price_low_limit = np.percentile(data['price'],3)\n",
    "price_low_limit"
   ]
  },
  {
   "cell_type": "code",
   "execution_count": 69,
   "metadata": {},
   "outputs": [
    {
     "data": {
      "image/png": "[encoded data removed]",
      "text/plain": [
       "<Figure size 432x288 with 1 Axes>"
      ]
     },
     "metadata": {
      "needs_background": "light"
     },
     "output_type": "display_data"
    }
   ],
   "source": [
    "plt.hist(data['price'],bins=30)\n",
    "plt.gca().set(ylabel='Freuency',xlabel='Price', title='Price Frequency Histogram')\n",
    "plt.grid()"
   ]
  },
  {
   "cell_type": "markdown",
   "metadata": {},
   "source": [
    "**We can notice that most of the histogram (values over 60K) are not even has a bar, probably cause by an outlier value**"
   ]
  },
  {
   "cell_type": "markdown",
   "metadata": {},
   "source": [
    "**Study vehicle's age**"
   ]
  },
  {
   "cell_type": "code",
   "execution_count": 70,
   "metadata": {
    "scrolled": true
   },
   "outputs": [
    {
     "data": {
      "text/plain": [
       "count    51525.000000\n",
       "mean         9.513906\n",
       "std          6.112976\n",
       "min          1.000000\n",
       "25%          5.000000\n",
       "50%          9.000000\n",
       "75%         13.000000\n",
       "max        111.000000\n",
       "Name: age, dtype: float64"
      ]
     },
     "execution_count": 70,
     "metadata": {},
     "output_type": "execute_result"
    }
   ],
   "source": [
    "data.age.describe()"
   ]
  },
  {
   "cell_type": "code",
   "execution_count": 71,
   "metadata": {
    "scrolled": true
   },
   "outputs": [
    {
     "data": {
      "text/plain": [
       "28.0"
      ]
     },
     "execution_count": 71,
     "metadata": {},
     "output_type": "execute_result"
    }
   ],
   "source": [
    "age_up_limit = np.percentile(data['age'],99)\n",
    "age_up_limit"
   ]
  },
  {
   "cell_type": "code",
   "execution_count": 72,
   "metadata": {
    "scrolled": true
   },
   "outputs": [
    {
     "data": {
      "text/plain": [
       "1.0"
      ]
     },
     "execution_count": 72,
     "metadata": {},
     "output_type": "execute_result"
    }
   ],
   "source": [
    "age_low_limit = np.percentile(data['age'],1)\n",
    "age_low_limit"
   ]
  },
  {
   "cell_type": "code",
   "execution_count": 73,
   "metadata": {},
   "outputs": [
    {
     "name": "stdout",
     "output_type": "stream",
     "text": [
      "100%\n"
     ]
    }
   ],
   "source": [
    "# Check if the zeros in age column related to 'new' (5) in condition\n",
    "zero_age = len(data['age']==0)\n",
    "new = len((data['age']==0)&(data['condition']==5))\n",
    "print('{:.0%}'.format(new / zero_age))"
   ]
  },
  {
   "cell_type": "code",
   "execution_count": 74,
   "metadata": {},
   "outputs": [
    {
     "data": {
      "image/png": "[encoded data removed]",
      "text/plain": [
       "<Figure size 432x288 with 1 Axes>"
      ]
     },
     "metadata": {
      "needs_background": "light"
     },
     "output_type": "display_data"
    }
   ],
   "source": [
    "plt.hist(data['age'],bins=30)\n",
    "plt.gca().set(ylabel='Freuency',xlabel='Age', title='Age Frequency Histogram')\n",
    "plt.grid()"
   ]
  },
  {
   "cell_type": "markdown",
   "metadata": {},
   "source": [
    "**Most of the histogram (ages greater then 55~) are not even has a bar, probably cause by an outlier value**"
   ]
  },
  {
   "cell_type": "markdown",
   "metadata": {},
   "source": [
    "**Study mileage**"
   ]
  },
  {
   "cell_type": "code",
   "execution_count": 75,
   "metadata": {},
   "outputs": [
    {
     "data": {
      "text/plain": [
       "count     51525.000000\n",
       "mean     115198.042038\n",
       "std       62083.739734\n",
       "min           0.000000\n",
       "25%       73500.000000\n",
       "50%      114072.000000\n",
       "75%      152862.000000\n",
       "max      990000.000000\n",
       "Name: odometer, dtype: float64"
      ]
     },
     "execution_count": 75,
     "metadata": {},
     "output_type": "execute_result"
    }
   ],
   "source": [
    "data.odometer.describe()"
   ]
  },
  {
   "cell_type": "code",
   "execution_count": 76,
   "metadata": {
    "scrolled": true
   },
   "outputs": [
    {
     "data": {
      "text/plain": [
       "280000.0"
      ]
     },
     "execution_count": 76,
     "metadata": {},
     "output_type": "execute_result"
    }
   ],
   "source": [
    "mileage_up_limit = np.percentile(data['odometer'],99)\n",
    "mileage_up_limit"
   ]
  },
  {
   "cell_type": "code",
   "execution_count": 77,
   "metadata": {
    "scrolled": true
   },
   "outputs": [
    {
     "data": {
      "text/plain": [
       "137.0"
      ]
     },
     "execution_count": 77,
     "metadata": {},
     "output_type": "execute_result"
    }
   ],
   "source": [
    "mileage_low_limit = np.percentile(data['odometer'],1)\n",
    "mileage_low_limit"
   ]
  },
  {
   "cell_type": "code",
   "execution_count": 78,
   "metadata": {},
   "outputs": [
    {
     "data": {
      "image/png": "[encoded data removed]",
      "text/plain": [
       "<Figure size 432x288 with 1 Axes>"
      ]
     },
     "metadata": {
      "needs_background": "light"
     },
     "output_type": "display_data"
    }
   ],
   "source": [
    "plt.hist(data['odometer'],bins=30)\n",
    "plt.gca().set(ylabel='Freuency',xlabel='Mileage', title='Mileage Frequency Histogram')\n",
    "plt.grid()"
   ]
  },
  {
   "cell_type": "markdown",
   "metadata": {},
   "source": [
    "**Most of the histogram (mileage higher then 400000) are not even has a bar, probably cause by an outlier value**"
   ]
  },
  {
   "cell_type": "markdown",
   "metadata": {},
   "source": [
    "**Study number of cylinders**"
   ]
  },
  {
   "cell_type": "code",
   "execution_count": 79,
   "metadata": {},
   "outputs": [
    {
     "data": {
      "text/plain": [
       "count    51525.000000\n",
       "mean         6.121067\n",
       "std          1.657457\n",
       "min          3.000000\n",
       "25%          4.000000\n",
       "50%          6.000000\n",
       "75%          8.000000\n",
       "max         12.000000\n",
       "Name: cylinders, dtype: float64"
      ]
     },
     "execution_count": 79,
     "metadata": {},
     "output_type": "execute_result"
    }
   ],
   "source": [
    "data.cylinders.describe()"
   ]
  },
  {
   "cell_type": "code",
   "execution_count": 80,
   "metadata": {},
   "outputs": [
    {
     "data": {
      "image/png": "[encoded data removed]",
      "text/plain": [
       "<Figure size 432x288 with 1 Axes>"
      ]
     },
     "metadata": {
      "needs_background": "light"
     },
     "output_type": "display_data"
    }
   ],
   "source": [
    "data.boxplot(column='cylinders')\n",
    "plt.title('Cylinders')\n",
    "plt.show()"
   ]
  },
  {
   "cell_type": "code",
   "execution_count": 81,
   "metadata": {},
   "outputs": [
    {
     "data": {
      "image/png": "[encoded data removed]",
      "text/plain": [
       "<Figure size 432x288 with 1 Axes>"
      ]
     },
     "metadata": {
      "needs_background": "light"
     },
     "output_type": "display_data"
    }
   ],
   "source": [
    "plt.hist(data['cylinders'],bins=30)\n",
    "plt.gca().set(ylabel='Freuency',xlabel='Cylinders', title='Cylinders Frequency Histogram')\n",
    "plt.grid()"
   ]
  },
  {
   "cell_type": "markdown",
   "metadata": {},
   "source": [
    "**Study condition**"
   ]
  },
  {
   "cell_type": "code",
   "execution_count": 82,
   "metadata": {},
   "outputs": [
    {
     "data": {
      "text/plain": [
       "count    51525.000000\n",
       "mean         2.637535\n",
       "std          0.712447\n",
       "min          0.000000\n",
       "25%          2.000000\n",
       "50%          3.000000\n",
       "75%          3.000000\n",
       "max          5.000000\n",
       "Name: condition, dtype: float64"
      ]
     },
     "execution_count": 82,
     "metadata": {},
     "output_type": "execute_result"
    }
   ],
   "source": [
    "data.condition.describe()"
   ]
  },
  {
   "cell_type": "code",
   "execution_count": 83,
   "metadata": {
    "scrolled": true
   },
   "outputs": [
    {
     "data": {
      "image/png": "[encoded data removed]",
      "text/plain": [
       "<Figure size 432x288 with 1 Axes>"
      ]
     },
     "metadata": {
      "needs_background": "light"
     },
     "output_type": "display_data"
    }
   ],
   "source": [
    "data.boxplot(column='condition')\n",
    "plt.title('Condition')\n",
    "plt.show()"
   ]
  },
  {
   "cell_type": "code",
   "execution_count": 84,
   "metadata": {},
   "outputs": [
    {
     "data": {
      "image/png": "[encoded data removed]",
      "text/plain": [
       "<Figure size 432x288 with 1 Axes>"
      ]
     },
     "metadata": {
      "needs_background": "light"
     },
     "output_type": "display_data"
    }
   ],
   "source": [
    "plt.hist(data['condition'],bins=30)\n",
    "plt.gca().set(ylabel='Freuency',xlabel='Condition', title='Condition Frequency Histogram')\n",
    "plt.grid()"
   ]
  },
  {
   "cell_type": "markdown",
   "metadata": {},
   "source": [
    "**We may want to filter out '0' and '5'** "
   ]
  },
  {
   "cell_type": "code",
   "execution_count": 85,
   "metadata": {},
   "outputs": [
    {
     "data": {
      "image/png": "[encoded data removed]",
      "text/plain": [
       "<Figure size 720x360 with 4 Axes>"
      ]
     },
     "metadata": {
      "needs_background": "light"
     },
     "output_type": "display_data"
    }
   ],
   "source": [
    "#Reviewer's code\n",
    "WIDTH = 2 #3 graphs in rows\n",
    "columns = ['price', 'age', 'odometer', 'cylinders', 'condition'] #what parameters you choose to plot\n",
    "plot_amount = len(columns)#amount of plots\n",
    "height = plot_amount//WIDTH #how many rows you need to plot your charts\n",
    "fig, axs = plt.subplots(height, WIDTH, figsize=(10, 5)) #subplots help you to make several charts together, figsize - size of picture\n",
    "fig.suptitle('Histograms',  y=1.03, size=14) #title of your charts\n",
    "\n",
    "for item, ax in zip(columns, np.ravel(axs)): # writing `for` loop where you alternately сhoose columns from your dataset to plot\n",
    "    data.hist(item, ax=ax) #plotting histograms\n",
    "    ax.set_title(item.capitalize().replace('_', ' '), size=12) #Setting chart names: capitalize().replace('_', ' ') - remove _ and make space between words \n",
    "    ax.set_xlabel(item) #x-axes name\n",
    "    ax.set_ylabel('frequency') #y-axes name\n",
    "\n",
    "plt.tight_layout()#this module makes the graphs not stick together\n",
    "plt.show()"
   ]
  },
  {
   "cell_type": "markdown",
   "metadata": {},
   "source": [
    "## Study and treat outliers\n"
   ]
  },
  {
   "cell_type": "code",
   "execution_count": 86,
   "metadata": {},
   "outputs": [],
   "source": [
    "#filter outliers prices\n",
    "filtered_data = \\\n",
    "data.query('price > @price_low_limit and price < @price_up_limit')"
   ]
  },
  {
   "cell_type": "code",
   "execution_count": 87,
   "metadata": {},
   "outputs": [],
   "source": [
    "filtered_data = filtered_data.query('age > @age_low_limit and age < @age_up_limit')"
   ]
  },
  {
   "cell_type": "code",
   "execution_count": 88,
   "metadata": {},
   "outputs": [],
   "source": [
    "filtered_data = filtered_data.query('odometer > @mileage_low_limit and odometer < @mileage_up_limit')"
   ]
  },
  {
   "cell_type": "code",
   "execution_count": 89,
   "metadata": {},
   "outputs": [
    {
     "data": {
      "text/html": [
       "<div>\n",
       "<style scoped>\n",
       "    .dataframe tbody tr th:only-of-type {\n",
       "        vertical-align: middle;\n",
       "    }\n",
       "\n",
       "    .dataframe tbody tr th {\n",
       "        vertical-align: top;\n",
       "    }\n",
       "\n",
       "    .dataframe thead th {\n",
       "        text-align: right;\n",
       "    }\n",
       "</style>\n",
       "<table border=\"1\" class=\"dataframe\">\n",
       "  <thead>\n",
       "    <tr style=\"text-align: right;\">\n",
       "      <th></th>\n",
       "      <th>price</th>\n",
       "      <th>model_year</th>\n",
       "      <th>condition</th>\n",
       "      <th>cylinders</th>\n",
       "      <th>odometer</th>\n",
       "      <th>is_4wd</th>\n",
       "      <th>days_listed</th>\n",
       "      <th>year</th>\n",
       "      <th>month</th>\n",
       "      <th>weekday</th>\n",
       "      <th>age</th>\n",
       "      <th>mile_mean</th>\n",
       "    </tr>\n",
       "  </thead>\n",
       "  <tbody>\n",
       "    <tr>\n",
       "      <th>count</th>\n",
       "      <td>46458.000000</td>\n",
       "      <td>46458.000000</td>\n",
       "      <td>46458.000000</td>\n",
       "      <td>46458.000000</td>\n",
       "      <td>46458.000000</td>\n",
       "      <td>46458.000000</td>\n",
       "      <td>46458.000000</td>\n",
       "      <td>46458.000000</td>\n",
       "      <td>46458.000000</td>\n",
       "      <td>46458.000000</td>\n",
       "      <td>46458.000000</td>\n",
       "      <td>46458.000000</td>\n",
       "    </tr>\n",
       "    <tr>\n",
       "      <th>mean</th>\n",
       "      <td>11694.438870</td>\n",
       "      <td>2009.790133</td>\n",
       "      <td>2.628374</td>\n",
       "      <td>6.083021</td>\n",
       "      <td>118825.462504</td>\n",
       "      <td>0.491024</td>\n",
       "      <td>39.601360</td>\n",
       "      <td>2018.312088</td>\n",
       "      <td>6.599918</td>\n",
       "      <td>2.996900</td>\n",
       "      <td>9.521955</td>\n",
       "      <td>14324.194866</td>\n",
       "    </tr>\n",
       "    <tr>\n",
       "      <th>std</th>\n",
       "      <td>8210.586353</td>\n",
       "      <td>4.968259</td>\n",
       "      <td>0.687385</td>\n",
       "      <td>1.635532</td>\n",
       "      <td>53395.780927</td>\n",
       "      <td>0.499925</td>\n",
       "      <td>28.244936</td>\n",
       "      <td>0.463351</td>\n",
       "      <td>3.482108</td>\n",
       "      <td>1.994026</td>\n",
       "      <td>4.974577</td>\n",
       "      <td>7046.320876</td>\n",
       "    </tr>\n",
       "    <tr>\n",
       "      <th>min</th>\n",
       "      <td>1005.000000</td>\n",
       "      <td>1992.000000</td>\n",
       "      <td>0.000000</td>\n",
       "      <td>3.000000</td>\n",
       "      <td>138.000000</td>\n",
       "      <td>0.000000</td>\n",
       "      <td>0.000000</td>\n",
       "      <td>2018.000000</td>\n",
       "      <td>1.000000</td>\n",
       "      <td>0.000000</td>\n",
       "      <td>2.000000</td>\n",
       "      <td>6.666667</td>\n",
       "    </tr>\n",
       "    <tr>\n",
       "      <th>25%</th>\n",
       "      <td>5450.000000</td>\n",
       "      <td>2007.000000</td>\n",
       "      <td>2.000000</td>\n",
       "      <td>4.000000</td>\n",
       "      <td>81500.000000</td>\n",
       "      <td>0.000000</td>\n",
       "      <td>19.000000</td>\n",
       "      <td>2018.000000</td>\n",
       "      <td>3.000000</td>\n",
       "      <td>1.000000</td>\n",
       "      <td>6.000000</td>\n",
       "      <td>10000.000000</td>\n",
       "    </tr>\n",
       "    <tr>\n",
       "      <th>50%</th>\n",
       "      <td>9000.000000</td>\n",
       "      <td>2011.000000</td>\n",
       "      <td>3.000000</td>\n",
       "      <td>6.000000</td>\n",
       "      <td>119230.500000</td>\n",
       "      <td>0.000000</td>\n",
       "      <td>33.000000</td>\n",
       "      <td>2018.000000</td>\n",
       "      <td>7.000000</td>\n",
       "      <td>3.000000</td>\n",
       "      <td>9.000000</td>\n",
       "      <td>13256.802005</td>\n",
       "    </tr>\n",
       "    <tr>\n",
       "      <th>75%</th>\n",
       "      <td>15995.000000</td>\n",
       "      <td>2014.000000</td>\n",
       "      <td>3.000000</td>\n",
       "      <td>8.000000</td>\n",
       "      <td>153108.000000</td>\n",
       "      <td>1.000000</td>\n",
       "      <td>53.000000</td>\n",
       "      <td>2019.000000</td>\n",
       "      <td>10.000000</td>\n",
       "      <td>5.000000</td>\n",
       "      <td>13.000000</td>\n",
       "      <td>17276.303571</td>\n",
       "    </tr>\n",
       "    <tr>\n",
       "      <th>max</th>\n",
       "      <td>43990.000000</td>\n",
       "      <td>2018.000000</td>\n",
       "      <td>5.000000</td>\n",
       "      <td>12.000000</td>\n",
       "      <td>279937.000000</td>\n",
       "      <td>1.000000</td>\n",
       "      <td>271.000000</td>\n",
       "      <td>2019.000000</td>\n",
       "      <td>12.000000</td>\n",
       "      <td>6.000000</td>\n",
       "      <td>27.000000</td>\n",
       "      <td>82204.500000</td>\n",
       "    </tr>\n",
       "  </tbody>\n",
       "</table>\n",
       "</div>"
      ],
      "text/plain": [
       "              price    model_year     condition     cylinders       odometer  \\\n",
       "count  46458.000000  46458.000000  46458.000000  46458.000000   46458.000000   \n",
       "mean   11694.438870   2009.790133      2.628374      6.083021  118825.462504   \n",
       "std     8210.586353      4.968259      0.687385      1.635532   53395.780927   \n",
       "min     1005.000000   1992.000000      0.000000      3.000000     138.000000   \n",
       "25%     5450.000000   2007.000000      2.000000      4.000000   81500.000000   \n",
       "50%     9000.000000   2011.000000      3.000000      6.000000  119230.500000   \n",
       "75%    15995.000000   2014.000000      3.000000      8.000000  153108.000000   \n",
       "max    43990.000000   2018.000000      5.000000     12.000000  279937.000000   \n",
       "\n",
       "             is_4wd   days_listed          year         month       weekday  \\\n",
       "count  46458.000000  46458.000000  46458.000000  46458.000000  46458.000000   \n",
       "mean       0.491024     39.601360   2018.312088      6.599918      2.996900   \n",
       "std        0.499925     28.244936      0.463351      3.482108      1.994026   \n",
       "min        0.000000      0.000000   2018.000000      1.000000      0.000000   \n",
       "25%        0.000000     19.000000   2018.000000      3.000000      1.000000   \n",
       "50%        0.000000     33.000000   2018.000000      7.000000      3.000000   \n",
       "75%        1.000000     53.000000   2019.000000     10.000000      5.000000   \n",
       "max        1.000000    271.000000   2019.000000     12.000000      6.000000   \n",
       "\n",
       "                age     mile_mean  \n",
       "count  46458.000000  46458.000000  \n",
       "mean       9.521955  14324.194866  \n",
       "std        4.974577   7046.320876  \n",
       "min        2.000000      6.666667  \n",
       "25%        6.000000  10000.000000  \n",
       "50%        9.000000  13256.802005  \n",
       "75%       13.000000  17276.303571  \n",
       "max       27.000000  82204.500000  "
      ]
     },
     "execution_count": 89,
     "metadata": {},
     "output_type": "execute_result"
    }
   ],
   "source": [
    "filtered_data.describe()"
   ]
  },
  {
   "cell_type": "markdown",
   "metadata": {},
   "source": [
    "## Study core parameters without outliers"
   ]
  },
  {
   "cell_type": "markdown",
   "metadata": {},
   "source": [
    "[Use the filtered data to make new plots. Compare with the earlier ones (that included outliers). Draw conclusions for each.]"
   ]
  },
  {
   "cell_type": "code",
   "execution_count": 90,
   "metadata": {},
   "outputs": [
    {
     "data": {
      "image/png": "[encoded data removed]",
      "text/plain": [
       "<Figure size 432x288 with 1 Axes>"
      ]
     },
     "metadata": {
      "needs_background": "light"
     },
     "output_type": "display_data"
    }
   ],
   "source": [
    "plt.hist(filtered_data['price'],bins=50)\n",
    "plt.gca().set(ylabel='Freuency',xlabel='Price', title='Price Frequency Histogram')\n",
    "plt.grid()"
   ]
  },
  {
   "cell_type": "markdown",
   "metadata": {},
   "source": [
    "**Our new histogrm is now much more informative after we drop the outliers**\n",
    "\n",
    "* We can see that the bars in our histogram are getting lower when the price move up."
   ]
  },
  {
   "cell_type": "code",
   "execution_count": 91,
   "metadata": {},
   "outputs": [
    {
     "data": {
      "image/png": "[encoded data removed]",
      "text/plain": [
       "<Figure size 432x288 with 1 Axes>"
      ]
     },
     "metadata": {
      "needs_background": "light"
     },
     "output_type": "display_data"
    }
   ],
   "source": [
    "plt.hist(filtered_data['age'],bins=50)\n",
    "plt.gca().set(ylabel='Freuency',xlabel='Age', title='Age Frequency Histogram')\n",
    "plt.grid()"
   ]
  },
  {
   "cell_type": "markdown",
   "metadata": {},
   "source": [
    "**The most common age for car listed are 7-8 years of age**\n"
   ]
  },
  {
   "cell_type": "code",
   "execution_count": 92,
   "metadata": {},
   "outputs": [
    {
     "data": {
      "image/png": "[encoded data removed]",
      "text/plain": [
       "<Figure size 432x288 with 1 Axes>"
      ]
     },
     "metadata": {
      "needs_background": "light"
     },
     "output_type": "display_data"
    }
   ],
   "source": [
    "plt.hist(filtered_data['odometer'],bins=50)\n",
    "plt.gca().set(ylabel='Freuency',xlabel='Mileage', title='Mileage Frequency Histogram')\n",
    "plt.grid()"
   ]
  },
  {
   "cell_type": "markdown",
   "metadata": {},
   "source": [
    "## Ads lifetime\n"
   ]
  },
  {
   "cell_type": "code",
   "execution_count": 93,
   "metadata": {},
   "outputs": [
    {
     "data": {
      "image/png": "[encoded data removed]",
      "text/plain": [
       "<Figure size 432x288 with 1 Axes>"
      ]
     },
     "metadata": {
      "needs_background": "light"
     },
     "output_type": "display_data"
    }
   ],
   "source": [
    "plt.hist(filtered_data['days_listed'],bins=50)\n",
    "plt.gca().set(ylabel='Freuency',xlabel='Days listed', title='Days listed Frequency Histogram')\n",
    "plt.grid()"
   ]
  },
  {
   "cell_type": "code",
   "execution_count": 94,
   "metadata": {},
   "outputs": [
    {
     "data": {
      "image/png": "[encoded data removed]",
      "text/plain": [
       "<Figure size 432x288 with 1 Axes>"
      ]
     },
     "metadata": {
      "needs_background": "light"
     },
     "output_type": "display_data"
    }
   ],
   "source": [
    "filtered_data.boxplot(column='days_listed')\n",
    "plt.title('Days listed')\n",
    "plt.show()"
   ]
  },
  {
   "cell_type": "code",
   "execution_count": 95,
   "metadata": {},
   "outputs": [
    {
     "name": "stdout",
     "output_type": "stream",
     "text": [
      "The median amount of days listed for ad is: 33\n",
      "The average amount of days listed for ad is: 40\n"
     ]
    }
   ],
   "source": [
    "print('The median amount of days listed for ad is: {:.0f}'\\\n",
    "      .format(filtered_data.days_listed.median()))\n",
    "print('The average amount of days listed for ad is: {:.0f}'\\\n",
    "      .format(filtered_data.days_listed.mean()))"
   ]
  },
  {
   "cell_type": "code",
   "execution_count": 96,
   "metadata": {},
   "outputs": [
    {
     "name": "stdout",
     "output_type": "stream",
     "text": [
      "Ads listed less then 3 days are consider as removed quickly\n",
      "Ads listed more then 115 days are consider as abnormally long time listed\n"
     ]
    }
   ],
   "source": [
    "print('Ads listed less then {:.0f} days are consider as removed quickly'\\\n",
    "     .format(np.percentile(filtered_data['days_listed'],1))\n",
    "     )\n",
    "print('Ads listed more then {:.0f} days are consider as abnormally long time listed'\\\n",
    "     .format(np.percentile(filtered_data['days_listed'],98)))"
   ]
  },
  {
   "cell_type": "markdown",
   "metadata": {},
   "source": [
    "## Average price per each type of vehicle"
   ]
  },
  {
   "cell_type": "markdown",
   "metadata": {},
   "source": [
    "[Analyze the number of ads and the average price for each type of vehicle. Plot a graph showing the dependence of the number of ads on the vehicle type. Select the two types with the greatest number of ads.]"
   ]
  },
  {
   "cell_type": "code",
   "execution_count": 97,
   "metadata": {},
   "outputs": [
    {
     "data": {
      "text/html": [
       "<div>\n",
       "<style scoped>\n",
       "    .dataframe tbody tr th:only-of-type {\n",
       "        vertical-align: middle;\n",
       "    }\n",
       "\n",
       "    .dataframe tbody tr th {\n",
       "        vertical-align: top;\n",
       "    }\n",
       "\n",
       "    .dataframe thead th {\n",
       "        text-align: right;\n",
       "    }\n",
       "</style>\n",
       "<table border=\"1\" class=\"dataframe\">\n",
       "  <thead>\n",
       "    <tr style=\"text-align: right;\">\n",
       "      <th></th>\n",
       "      <th>type</th>\n",
       "      <th>count</th>\n",
       "      <th>mean</th>\n",
       "    </tr>\n",
       "  </thead>\n",
       "  <tbody>\n",
       "    <tr>\n",
       "      <th>9</th>\n",
       "      <td>suv</td>\n",
       "      <td>11389</td>\n",
       "      <td>10828.966722</td>\n",
       "    </tr>\n",
       "    <tr>\n",
       "      <th>8</th>\n",
       "      <td>sedan</td>\n",
       "      <td>11146</td>\n",
       "      <td>6984.236497</td>\n",
       "    </tr>\n",
       "    <tr>\n",
       "      <th>10</th>\n",
       "      <td>truck</td>\n",
       "      <td>11021</td>\n",
       "      <td>16057.404954</td>\n",
       "    </tr>\n",
       "    <tr>\n",
       "      <th>7</th>\n",
       "      <td>pickup</td>\n",
       "      <td>6178</td>\n",
       "      <td>15273.804306</td>\n",
       "    </tr>\n",
       "    <tr>\n",
       "      <th>2</th>\n",
       "      <td>coupe</td>\n",
       "      <td>1889</td>\n",
       "      <td>13968.098994</td>\n",
       "    </tr>\n",
       "    <tr>\n",
       "      <th>12</th>\n",
       "      <td>wagon</td>\n",
       "      <td>1445</td>\n",
       "      <td>9218.505882</td>\n",
       "    </tr>\n",
       "    <tr>\n",
       "      <th>4</th>\n",
       "      <td>mini-van</td>\n",
       "      <td>1095</td>\n",
       "      <td>7834.674886</td>\n",
       "    </tr>\n",
       "    <tr>\n",
       "      <th>3</th>\n",
       "      <td>hatchback</td>\n",
       "      <td>944</td>\n",
       "      <td>6872.944915</td>\n",
       "    </tr>\n",
       "    <tr>\n",
       "      <th>11</th>\n",
       "      <td>van</td>\n",
       "      <td>572</td>\n",
       "      <td>10692.912587</td>\n",
       "    </tr>\n",
       "    <tr>\n",
       "      <th>1</th>\n",
       "      <td>convertible</td>\n",
       "      <td>349</td>\n",
       "      <td>12884.140401</td>\n",
       "    </tr>\n",
       "    <tr>\n",
       "      <th>6</th>\n",
       "      <td>other</td>\n",
       "      <td>223</td>\n",
       "      <td>10608.515695</td>\n",
       "    </tr>\n",
       "    <tr>\n",
       "      <th>5</th>\n",
       "      <td>offroad</td>\n",
       "      <td>184</td>\n",
       "      <td>14343.701087</td>\n",
       "    </tr>\n",
       "    <tr>\n",
       "      <th>0</th>\n",
       "      <td>bus</td>\n",
       "      <td>23</td>\n",
       "      <td>17445.913043</td>\n",
       "    </tr>\n",
       "  </tbody>\n",
       "</table>\n",
       "</div>"
      ],
      "text/plain": [
       "           type  count          mean\n",
       "9           suv  11389  10828.966722\n",
       "8         sedan  11146   6984.236497\n",
       "10        truck  11021  16057.404954\n",
       "7        pickup   6178  15273.804306\n",
       "2         coupe   1889  13968.098994\n",
       "12        wagon   1445   9218.505882\n",
       "4      mini-van   1095   7834.674886\n",
       "3     hatchback    944   6872.944915\n",
       "11          van    572  10692.912587\n",
       "1   convertible    349  12884.140401\n",
       "6         other    223  10608.515695\n",
       "5       offroad    184  14343.701087\n",
       "0           bus     23  17445.913043"
      ]
     },
     "execution_count": 97,
     "metadata": {},
     "output_type": "execute_result"
    }
   ],
   "source": [
    "types = filtered_data.pivot_table(index='type', values=['price'], aggfunc=['count','mean']).reset_index()\n",
    "types.columns = ['type','count','mean']\n",
    "types = types.sort_values('count', ascending=False)\n",
    "types"
   ]
  },
  {
   "cell_type": "code",
   "execution_count": 98,
   "metadata": {},
   "outputs": [
    {
     "data": {
      "image/png": "[encoded data removed]",
      "text/plain": [
       "<Figure size 864x360 with 1 Axes>"
      ]
     },
     "metadata": {
      "needs_background": "light"
     },
     "output_type": "display_data"
    }
   ],
   "source": [
    "plt.figure(figsize=(12,5))\n",
    "sns.barplot(data=types,x='type',y='count')\n",
    "plt.title('Vehicle Types')\n",
    "plt.show()"
   ]
  },
  {
   "cell_type": "code",
   "execution_count": 99,
   "metadata": {},
   "outputs": [
    {
     "data": {
      "text/plain": [
       "['suv', 'sedan']"
      ]
     },
     "execution_count": 99,
     "metadata": {},
     "output_type": "execute_result"
    }
   ],
   "source": [
    "top_2 = list(types.head(2)['type'])\n",
    "top_2"
   ]
  },
  {
   "cell_type": "markdown",
   "metadata": {},
   "source": [
    "## Price factors"
   ]
  },
  {
   "cell_type": "markdown",
   "metadata": {},
   "source": [
    "**Checking dependencies for numerical values**"
   ]
  },
  {
   "cell_type": "code",
   "execution_count": 100,
   "metadata": {},
   "outputs": [
    {
     "data": {
      "text/html": [
       "<div>\n",
       "<style scoped>\n",
       "    .dataframe tbody tr th:only-of-type {\n",
       "        vertical-align: middle;\n",
       "    }\n",
       "\n",
       "    .dataframe tbody tr th {\n",
       "        vertical-align: top;\n",
       "    }\n",
       "\n",
       "    .dataframe thead th {\n",
       "        text-align: right;\n",
       "    }\n",
       "</style>\n",
       "<table border=\"1\" class=\"dataframe\">\n",
       "  <thead>\n",
       "    <tr style=\"text-align: right;\">\n",
       "      <th></th>\n",
       "      <th>price</th>\n",
       "      <th>model_year</th>\n",
       "      <th>model</th>\n",
       "      <th>condition</th>\n",
       "      <th>cylinders</th>\n",
       "      <th>fuel</th>\n",
       "      <th>odometer</th>\n",
       "      <th>transmission</th>\n",
       "      <th>type</th>\n",
       "      <th>paint_color</th>\n",
       "      <th>is_4wd</th>\n",
       "      <th>date_posted</th>\n",
       "      <th>days_listed</th>\n",
       "      <th>year</th>\n",
       "      <th>month</th>\n",
       "      <th>weekday</th>\n",
       "      <th>age</th>\n",
       "      <th>mile_mean</th>\n",
       "    </tr>\n",
       "  </thead>\n",
       "  <tbody>\n",
       "    <tr>\n",
       "      <th>0</th>\n",
       "      <td>9400</td>\n",
       "      <td>2011</td>\n",
       "      <td>bmw x5</td>\n",
       "      <td>2</td>\n",
       "      <td>6</td>\n",
       "      <td>gas</td>\n",
       "      <td>145000</td>\n",
       "      <td>automatic</td>\n",
       "      <td>suv</td>\n",
       "      <td>n/a</td>\n",
       "      <td>1</td>\n",
       "      <td>2018-06-23</td>\n",
       "      <td>19</td>\n",
       "      <td>2018</td>\n",
       "      <td>6</td>\n",
       "      <td>5</td>\n",
       "      <td>8</td>\n",
       "      <td>18125.000000</td>\n",
       "    </tr>\n",
       "    <tr>\n",
       "      <th>7</th>\n",
       "      <td>15990</td>\n",
       "      <td>2013</td>\n",
       "      <td>honda pilot</td>\n",
       "      <td>3</td>\n",
       "      <td>6</td>\n",
       "      <td>gas</td>\n",
       "      <td>109473</td>\n",
       "      <td>automatic</td>\n",
       "      <td>suv</td>\n",
       "      <td>black</td>\n",
       "      <td>1</td>\n",
       "      <td>2019-01-07</td>\n",
       "      <td>68</td>\n",
       "      <td>2019</td>\n",
       "      <td>1</td>\n",
       "      <td>0</td>\n",
       "      <td>7</td>\n",
       "      <td>15639.000000</td>\n",
       "    </tr>\n",
       "    <tr>\n",
       "      <th>8</th>\n",
       "      <td>11500</td>\n",
       "      <td>2012</td>\n",
       "      <td>kia sorento</td>\n",
       "      <td>3</td>\n",
       "      <td>4</td>\n",
       "      <td>gas</td>\n",
       "      <td>104174</td>\n",
       "      <td>automatic</td>\n",
       "      <td>suv</td>\n",
       "      <td>n/a</td>\n",
       "      <td>1</td>\n",
       "      <td>2018-07-16</td>\n",
       "      <td>19</td>\n",
       "      <td>2018</td>\n",
       "      <td>7</td>\n",
       "      <td>0</td>\n",
       "      <td>7</td>\n",
       "      <td>14882.000000</td>\n",
       "    </tr>\n",
       "    <tr>\n",
       "      <th>9</th>\n",
       "      <td>9200</td>\n",
       "      <td>2008</td>\n",
       "      <td>honda pilot</td>\n",
       "      <td>3</td>\n",
       "      <td>6</td>\n",
       "      <td>gas</td>\n",
       "      <td>147191</td>\n",
       "      <td>automatic</td>\n",
       "      <td>suv</td>\n",
       "      <td>blue</td>\n",
       "      <td>1</td>\n",
       "      <td>2019-02-15</td>\n",
       "      <td>17</td>\n",
       "      <td>2019</td>\n",
       "      <td>2</td>\n",
       "      <td>4</td>\n",
       "      <td>12</td>\n",
       "      <td>12265.916667</td>\n",
       "    </tr>\n",
       "    <tr>\n",
       "      <th>14</th>\n",
       "      <td>12990</td>\n",
       "      <td>2009</td>\n",
       "      <td>gmc yukon</td>\n",
       "      <td>3</td>\n",
       "      <td>8</td>\n",
       "      <td>gas</td>\n",
       "      <td>132285</td>\n",
       "      <td>automatic</td>\n",
       "      <td>suv</td>\n",
       "      <td>black</td>\n",
       "      <td>1</td>\n",
       "      <td>2019-01-31</td>\n",
       "      <td>24</td>\n",
       "      <td>2019</td>\n",
       "      <td>1</td>\n",
       "      <td>3</td>\n",
       "      <td>11</td>\n",
       "      <td>12025.909091</td>\n",
       "    </tr>\n",
       "  </tbody>\n",
       "</table>\n",
       "</div>"
      ],
      "text/plain": [
       "    price  model_year        model  condition  cylinders fuel  odometer  \\\n",
       "0    9400        2011       bmw x5          2          6  gas    145000   \n",
       "7   15990        2013  honda pilot          3          6  gas    109473   \n",
       "8   11500        2012  kia sorento          3          4  gas    104174   \n",
       "9    9200        2008  honda pilot          3          6  gas    147191   \n",
       "14  12990        2009    gmc yukon          3          8  gas    132285   \n",
       "\n",
       "   transmission type paint_color  is_4wd date_posted  days_listed  year  \\\n",
       "0     automatic  suv         n/a       1  2018-06-23           19  2018   \n",
       "7     automatic  suv       black       1  2019-01-07           68  2019   \n",
       "8     automatic  suv         n/a       1  2018-07-16           19  2018   \n",
       "9     automatic  suv        blue       1  2019-02-15           17  2019   \n",
       "14    automatic  suv       black       1  2019-01-31           24  2019   \n",
       "\n",
       "    month  weekday  age     mile_mean  \n",
       "0       6        5    8  18125.000000  \n",
       "7       1        0    7  15639.000000  \n",
       "8       7        0    7  14882.000000  \n",
       "9       2        4   12  12265.916667  \n",
       "14      1        3   11  12025.909091  "
      ]
     },
     "execution_count": 100,
     "metadata": {},
     "output_type": "execute_result"
    }
   ],
   "source": [
    "suv = filtered_data[filtered_data['type']=='suv']\n",
    "suv.head()"
   ]
  },
  {
   "cell_type": "code",
   "execution_count": 101,
   "metadata": {},
   "outputs": [
    {
     "data": {
      "text/html": [
       "<div>\n",
       "<style scoped>\n",
       "    .dataframe tbody tr th:only-of-type {\n",
       "        vertical-align: middle;\n",
       "    }\n",
       "\n",
       "    .dataframe tbody tr th {\n",
       "        vertical-align: top;\n",
       "    }\n",
       "\n",
       "    .dataframe thead th {\n",
       "        text-align: right;\n",
       "    }\n",
       "</style>\n",
       "<table border=\"1\" class=\"dataframe\">\n",
       "  <thead>\n",
       "    <tr style=\"text-align: right;\">\n",
       "      <th></th>\n",
       "      <th>price</th>\n",
       "      <th>age</th>\n",
       "      <th>odometer</th>\n",
       "    </tr>\n",
       "  </thead>\n",
       "  <tbody>\n",
       "    <tr>\n",
       "      <th>0</th>\n",
       "      <td>9400</td>\n",
       "      <td>8</td>\n",
       "      <td>145000</td>\n",
       "    </tr>\n",
       "    <tr>\n",
       "      <th>7</th>\n",
       "      <td>15990</td>\n",
       "      <td>7</td>\n",
       "      <td>109473</td>\n",
       "    </tr>\n",
       "    <tr>\n",
       "      <th>8</th>\n",
       "      <td>11500</td>\n",
       "      <td>7</td>\n",
       "      <td>104174</td>\n",
       "    </tr>\n",
       "    <tr>\n",
       "      <th>9</th>\n",
       "      <td>9200</td>\n",
       "      <td>12</td>\n",
       "      <td>147191</td>\n",
       "    </tr>\n",
       "    <tr>\n",
       "      <th>14</th>\n",
       "      <td>12990</td>\n",
       "      <td>11</td>\n",
       "      <td>132285</td>\n",
       "    </tr>\n",
       "  </tbody>\n",
       "</table>\n",
       "</div>"
      ],
      "text/plain": [
       "    price  age  odometer\n",
       "0    9400    8    145000\n",
       "7   15990    7    109473\n",
       "8   11500    7    104174\n",
       "9    9200   12    147191\n",
       "14  12990   11    132285"
      ]
     },
     "execution_count": 101,
     "metadata": {},
     "output_type": "execute_result"
    }
   ],
   "source": [
    "suv_scatter = suv[['price','age','odometer']]\n",
    "suv_scatter.head()"
   ]
  },
  {
   "cell_type": "code",
   "execution_count": 102,
   "metadata": {},
   "outputs": [
    {
     "data": {
      "image/png": "[encoded data removed]",
      "text/plain": [
       "<Figure size 540x540 with 12 Axes>"
      ]
     },
     "metadata": {
      "needs_background": "light"
     },
     "output_type": "display_data"
    }
   ],
   "source": [
    "g = sns.pairplot(suv_scatter)\n",
    "\n",
    "g.fig.suptitle(\"numerical factors dependencies\", y=1.05, size=20)\n",
    "\n",
    "plt.show()"
   ]
  },
  {
   "cell_type": "code",
   "execution_count": 103,
   "metadata": {},
   "outputs": [
    {
     "data": {
      "text/html": [
       "<div>\n",
       "<style scoped>\n",
       "    .dataframe tbody tr th:only-of-type {\n",
       "        vertical-align: middle;\n",
       "    }\n",
       "\n",
       "    .dataframe tbody tr th {\n",
       "        vertical-align: top;\n",
       "    }\n",
       "\n",
       "    .dataframe thead th {\n",
       "        text-align: right;\n",
       "    }\n",
       "</style>\n",
       "<table border=\"1\" class=\"dataframe\">\n",
       "  <thead>\n",
       "    <tr style=\"text-align: right;\">\n",
       "      <th></th>\n",
       "      <th>price</th>\n",
       "      <th>age</th>\n",
       "      <th>odometer</th>\n",
       "    </tr>\n",
       "  </thead>\n",
       "  <tbody>\n",
       "    <tr>\n",
       "      <th>price</th>\n",
       "      <td>1.000000</td>\n",
       "      <td>-0.619561</td>\n",
       "      <td>-0.605617</td>\n",
       "    </tr>\n",
       "    <tr>\n",
       "      <th>age</th>\n",
       "      <td>-0.619561</td>\n",
       "      <td>1.000000</td>\n",
       "      <td>0.610607</td>\n",
       "    </tr>\n",
       "    <tr>\n",
       "      <th>odometer</th>\n",
       "      <td>-0.605617</td>\n",
       "      <td>0.610607</td>\n",
       "      <td>1.000000</td>\n",
       "    </tr>\n",
       "  </tbody>\n",
       "</table>\n",
       "</div>"
      ],
      "text/plain": [
       "             price       age  odometer\n",
       "price     1.000000 -0.619561 -0.605617\n",
       "age      -0.619561  1.000000  0.610607\n",
       "odometer -0.605617  0.610607  1.000000"
      ]
     },
     "execution_count": 103,
     "metadata": {},
     "output_type": "execute_result"
    }
   ],
   "source": [
    "suv_scatter.corr()"
   ]
  },
  {
   "cell_type": "markdown",
   "metadata": {},
   "source": [
    "**There is now specific parameter that as a strong correlation (over 0.7) with the price.**"
   ]
  },
  {
   "cell_type": "code",
   "execution_count": 104,
   "metadata": {},
   "outputs": [
    {
     "data": {
      "text/html": [
       "<div>\n",
       "<style scoped>\n",
       "    .dataframe tbody tr th:only-of-type {\n",
       "        vertical-align: middle;\n",
       "    }\n",
       "\n",
       "    .dataframe tbody tr th {\n",
       "        vertical-align: top;\n",
       "    }\n",
       "\n",
       "    .dataframe thead th {\n",
       "        text-align: right;\n",
       "    }\n",
       "</style>\n",
       "<table border=\"1\" class=\"dataframe\">\n",
       "  <thead>\n",
       "    <tr style=\"text-align: right;\">\n",
       "      <th></th>\n",
       "      <th>price</th>\n",
       "      <th>model_year</th>\n",
       "      <th>model</th>\n",
       "      <th>condition</th>\n",
       "      <th>cylinders</th>\n",
       "      <th>fuel</th>\n",
       "      <th>odometer</th>\n",
       "      <th>transmission</th>\n",
       "      <th>type</th>\n",
       "      <th>paint_color</th>\n",
       "      <th>is_4wd</th>\n",
       "      <th>date_posted</th>\n",
       "      <th>days_listed</th>\n",
       "      <th>year</th>\n",
       "      <th>month</th>\n",
       "      <th>weekday</th>\n",
       "      <th>age</th>\n",
       "      <th>mile_mean</th>\n",
       "    </tr>\n",
       "  </thead>\n",
       "  <tbody>\n",
       "    <tr>\n",
       "      <th>2</th>\n",
       "      <td>5500</td>\n",
       "      <td>2013</td>\n",
       "      <td>hyundai sonata</td>\n",
       "      <td>4</td>\n",
       "      <td>4</td>\n",
       "      <td>gas</td>\n",
       "      <td>110000</td>\n",
       "      <td>automatic</td>\n",
       "      <td>sedan</td>\n",
       "      <td>red</td>\n",
       "      <td>0</td>\n",
       "      <td>2019-02-07</td>\n",
       "      <td>79</td>\n",
       "      <td>2019</td>\n",
       "      <td>2</td>\n",
       "      <td>3</td>\n",
       "      <td>7</td>\n",
       "      <td>15714.285714</td>\n",
       "    </tr>\n",
       "    <tr>\n",
       "      <th>4</th>\n",
       "      <td>14900</td>\n",
       "      <td>2017</td>\n",
       "      <td>chrysler 200</td>\n",
       "      <td>3</td>\n",
       "      <td>4</td>\n",
       "      <td>gas</td>\n",
       "      <td>80903</td>\n",
       "      <td>automatic</td>\n",
       "      <td>sedan</td>\n",
       "      <td>black</td>\n",
       "      <td>0</td>\n",
       "      <td>2019-04-02</td>\n",
       "      <td>28</td>\n",
       "      <td>2019</td>\n",
       "      <td>4</td>\n",
       "      <td>1</td>\n",
       "      <td>3</td>\n",
       "      <td>26967.666667</td>\n",
       "    </tr>\n",
       "    <tr>\n",
       "      <th>5</th>\n",
       "      <td>14990</td>\n",
       "      <td>2014</td>\n",
       "      <td>chrysler 300</td>\n",
       "      <td>3</td>\n",
       "      <td>6</td>\n",
       "      <td>gas</td>\n",
       "      <td>57954</td>\n",
       "      <td>automatic</td>\n",
       "      <td>sedan</td>\n",
       "      <td>black</td>\n",
       "      <td>1</td>\n",
       "      <td>2018-06-20</td>\n",
       "      <td>15</td>\n",
       "      <td>2018</td>\n",
       "      <td>6</td>\n",
       "      <td>2</td>\n",
       "      <td>5</td>\n",
       "      <td>11590.800000</td>\n",
       "    </tr>\n",
       "    <tr>\n",
       "      <th>6</th>\n",
       "      <td>12990</td>\n",
       "      <td>2015</td>\n",
       "      <td>toyota camry</td>\n",
       "      <td>3</td>\n",
       "      <td>4</td>\n",
       "      <td>gas</td>\n",
       "      <td>79212</td>\n",
       "      <td>automatic</td>\n",
       "      <td>sedan</td>\n",
       "      <td>white</td>\n",
       "      <td>0</td>\n",
       "      <td>2018-12-27</td>\n",
       "      <td>73</td>\n",
       "      <td>2018</td>\n",
       "      <td>12</td>\n",
       "      <td>3</td>\n",
       "      <td>4</td>\n",
       "      <td>19803.000000</td>\n",
       "    </tr>\n",
       "    <tr>\n",
       "      <th>11</th>\n",
       "      <td>8990</td>\n",
       "      <td>2012</td>\n",
       "      <td>honda accord</td>\n",
       "      <td>3</td>\n",
       "      <td>4</td>\n",
       "      <td>gas</td>\n",
       "      <td>111142</td>\n",
       "      <td>automatic</td>\n",
       "      <td>sedan</td>\n",
       "      <td>grey</td>\n",
       "      <td>0</td>\n",
       "      <td>2019-03-28</td>\n",
       "      <td>29</td>\n",
       "      <td>2019</td>\n",
       "      <td>3</td>\n",
       "      <td>3</td>\n",
       "      <td>8</td>\n",
       "      <td>13892.750000</td>\n",
       "    </tr>\n",
       "  </tbody>\n",
       "</table>\n",
       "</div>"
      ],
      "text/plain": [
       "    price  model_year           model  condition  cylinders fuel  odometer  \\\n",
       "2    5500        2013  hyundai sonata          4          4  gas    110000   \n",
       "4   14900        2017    chrysler 200          3          4  gas     80903   \n",
       "5   14990        2014    chrysler 300          3          6  gas     57954   \n",
       "6   12990        2015    toyota camry          3          4  gas     79212   \n",
       "11   8990        2012    honda accord          3          4  gas    111142   \n",
       "\n",
       "   transmission   type paint_color  is_4wd date_posted  days_listed  year  \\\n",
       "2     automatic  sedan         red       0  2019-02-07           79  2019   \n",
       "4     automatic  sedan       black       0  2019-04-02           28  2019   \n",
       "5     automatic  sedan       black       1  2018-06-20           15  2018   \n",
       "6     automatic  sedan       white       0  2018-12-27           73  2018   \n",
       "11    automatic  sedan        grey       0  2019-03-28           29  2019   \n",
       "\n",
       "    month  weekday  age     mile_mean  \n",
       "2       2        3    7  15714.285714  \n",
       "4       4        1    3  26967.666667  \n",
       "5       6        2    5  11590.800000  \n",
       "6      12        3    4  19803.000000  \n",
       "11      3        3    8  13892.750000  "
      ]
     },
     "execution_count": 104,
     "metadata": {},
     "output_type": "execute_result"
    }
   ],
   "source": [
    "sedan = filtered_data[filtered_data['type']=='sedan']\n",
    "sedan.head()"
   ]
  },
  {
   "cell_type": "code",
   "execution_count": 105,
   "metadata": {},
   "outputs": [
    {
     "data": {
      "text/html": [
       "<div>\n",
       "<style scoped>\n",
       "    .dataframe tbody tr th:only-of-type {\n",
       "        vertical-align: middle;\n",
       "    }\n",
       "\n",
       "    .dataframe tbody tr th {\n",
       "        vertical-align: top;\n",
       "    }\n",
       "\n",
       "    .dataframe thead th {\n",
       "        text-align: right;\n",
       "    }\n",
       "</style>\n",
       "<table border=\"1\" class=\"dataframe\">\n",
       "  <thead>\n",
       "    <tr style=\"text-align: right;\">\n",
       "      <th></th>\n",
       "      <th>price</th>\n",
       "      <th>age</th>\n",
       "      <th>odometer</th>\n",
       "    </tr>\n",
       "  </thead>\n",
       "  <tbody>\n",
       "    <tr>\n",
       "      <th>2</th>\n",
       "      <td>5500</td>\n",
       "      <td>7</td>\n",
       "      <td>110000</td>\n",
       "    </tr>\n",
       "    <tr>\n",
       "      <th>4</th>\n",
       "      <td>14900</td>\n",
       "      <td>3</td>\n",
       "      <td>80903</td>\n",
       "    </tr>\n",
       "    <tr>\n",
       "      <th>5</th>\n",
       "      <td>14990</td>\n",
       "      <td>5</td>\n",
       "      <td>57954</td>\n",
       "    </tr>\n",
       "    <tr>\n",
       "      <th>6</th>\n",
       "      <td>12990</td>\n",
       "      <td>4</td>\n",
       "      <td>79212</td>\n",
       "    </tr>\n",
       "    <tr>\n",
       "      <th>11</th>\n",
       "      <td>8990</td>\n",
       "      <td>8</td>\n",
       "      <td>111142</td>\n",
       "    </tr>\n",
       "  </tbody>\n",
       "</table>\n",
       "</div>"
      ],
      "text/plain": [
       "    price  age  odometer\n",
       "2    5500    7    110000\n",
       "4   14900    3     80903\n",
       "5   14990    5     57954\n",
       "6   12990    4     79212\n",
       "11   8990    8    111142"
      ]
     },
     "execution_count": 105,
     "metadata": {},
     "output_type": "execute_result"
    }
   ],
   "source": [
    "sedan_scatter = sedan[['price','age','odometer']]\n",
    "sedan_scatter.head()"
   ]
  },
  {
   "cell_type": "code",
   "execution_count": 106,
   "metadata": {},
   "outputs": [
    {
     "data": {
      "image/png": "[encoded data removed]",
      "text/plain": [
       "<Figure size 540x540 with 12 Axes>"
      ]
     },
     "metadata": {
      "needs_background": "light"
     },
     "output_type": "display_data"
    }
   ],
   "source": [
    "g = sns.pairplot(sedan_scatter)\n",
    "\n",
    "g.fig.suptitle(\"numerical factors dependencies\", y=1.05, size=20)\n",
    "\n",
    "plt.show()"
   ]
  },
  {
   "cell_type": "code",
   "execution_count": 107,
   "metadata": {},
   "outputs": [
    {
     "data": {
      "text/html": [
       "<div>\n",
       "<style scoped>\n",
       "    .dataframe tbody tr th:only-of-type {\n",
       "        vertical-align: middle;\n",
       "    }\n",
       "\n",
       "    .dataframe tbody tr th {\n",
       "        vertical-align: top;\n",
       "    }\n",
       "\n",
       "    .dataframe thead th {\n",
       "        text-align: right;\n",
       "    }\n",
       "</style>\n",
       "<table border=\"1\" class=\"dataframe\">\n",
       "  <thead>\n",
       "    <tr style=\"text-align: right;\">\n",
       "      <th></th>\n",
       "      <th>price</th>\n",
       "      <th>age</th>\n",
       "      <th>odometer</th>\n",
       "    </tr>\n",
       "  </thead>\n",
       "  <tbody>\n",
       "    <tr>\n",
       "      <th>price</th>\n",
       "      <td>1.000000</td>\n",
       "      <td>-0.665916</td>\n",
       "      <td>-0.629733</td>\n",
       "    </tr>\n",
       "    <tr>\n",
       "      <th>age</th>\n",
       "      <td>-0.665916</td>\n",
       "      <td>1.000000</td>\n",
       "      <td>0.595552</td>\n",
       "    </tr>\n",
       "    <tr>\n",
       "      <th>odometer</th>\n",
       "      <td>-0.629733</td>\n",
       "      <td>0.595552</td>\n",
       "      <td>1.000000</td>\n",
       "    </tr>\n",
       "  </tbody>\n",
       "</table>\n",
       "</div>"
      ],
      "text/plain": [
       "             price       age  odometer\n",
       "price     1.000000 -0.665916 -0.629733\n",
       "age      -0.665916  1.000000  0.595552\n",
       "odometer -0.629733  0.595552  1.000000"
      ]
     },
     "execution_count": 107,
     "metadata": {},
     "output_type": "execute_result"
    }
   ],
   "source": [
    "sedan_scatter.corr()"
   ]
  },
  {
   "cell_type": "markdown",
   "metadata": {},
   "source": [
    "**There is now specific parameter that as a strong correlation (over 0.7) with the price.**"
   ]
  },
  {
   "cell_type": "markdown",
   "metadata": {},
   "source": [
    "**Checking dependencies for categorical values**"
   ]
  },
  {
   "cell_type": "code",
   "execution_count": 108,
   "metadata": {},
   "outputs": [
    {
     "data": {
      "text/html": [
       "<div>\n",
       "<style scoped>\n",
       "    .dataframe tbody tr th:only-of-type {\n",
       "        vertical-align: middle;\n",
       "    }\n",
       "\n",
       "    .dataframe tbody tr th {\n",
       "        vertical-align: top;\n",
       "    }\n",
       "\n",
       "    .dataframe thead th {\n",
       "        text-align: right;\n",
       "    }\n",
       "</style>\n",
       "<table border=\"1\" class=\"dataframe\">\n",
       "  <thead>\n",
       "    <tr style=\"text-align: right;\">\n",
       "      <th></th>\n",
       "      <th>price</th>\n",
       "      <th>transmission</th>\n",
       "      <th>paint_color</th>\n",
       "      <th>condition</th>\n",
       "    </tr>\n",
       "  </thead>\n",
       "  <tbody>\n",
       "    <tr>\n",
       "      <th>0</th>\n",
       "      <td>9400</td>\n",
       "      <td>automatic</td>\n",
       "      <td>n/a</td>\n",
       "      <td>2</td>\n",
       "    </tr>\n",
       "    <tr>\n",
       "      <th>7</th>\n",
       "      <td>15990</td>\n",
       "      <td>automatic</td>\n",
       "      <td>black</td>\n",
       "      <td>3</td>\n",
       "    </tr>\n",
       "    <tr>\n",
       "      <th>8</th>\n",
       "      <td>11500</td>\n",
       "      <td>automatic</td>\n",
       "      <td>n/a</td>\n",
       "      <td>3</td>\n",
       "    </tr>\n",
       "    <tr>\n",
       "      <th>9</th>\n",
       "      <td>9200</td>\n",
       "      <td>automatic</td>\n",
       "      <td>blue</td>\n",
       "      <td>3</td>\n",
       "    </tr>\n",
       "    <tr>\n",
       "      <th>14</th>\n",
       "      <td>12990</td>\n",
       "      <td>automatic</td>\n",
       "      <td>black</td>\n",
       "      <td>3</td>\n",
       "    </tr>\n",
       "  </tbody>\n",
       "</table>\n",
       "</div>"
      ],
      "text/plain": [
       "    price transmission paint_color  condition\n",
       "0    9400    automatic         n/a          2\n",
       "7   15990    automatic       black          3\n",
       "8   11500    automatic         n/a          3\n",
       "9    9200    automatic        blue          3\n",
       "14  12990    automatic       black          3"
      ]
     },
     "execution_count": 108,
     "metadata": {},
     "output_type": "execute_result"
    }
   ],
   "source": [
    "suv_categorical = suv[['price','transmission','paint_color','condition']]\n",
    "suv_categorical.head()"
   ]
  },
  {
   "cell_type": "code",
   "execution_count": 109,
   "metadata": {
    "scrolled": false
   },
   "outputs": [
    {
     "data": {
      "image/png": "[encoded data removed]",
      "text/plain": [
       "<Figure size 864x576 with 1 Axes>"
      ]
     },
     "metadata": {
      "needs_background": "light"
     },
     "output_type": "display_data"
    }
   ],
   "source": [
    "plt.figure(figsize=(12,8))\n",
    "sns.boxplot(data=suv_categorical,x='transmission', y='price',showfliers=False)\n",
    "plt.title('SUV transmission')\n",
    "plt.show()"
   ]
  },
  {
   "cell_type": "markdown",
   "metadata": {},
   "source": [
    "**We cannot claim that the transmission type is an obvious factor for the price, but In general, cars with automatic transmission tend to be cheaper then the others**"
   ]
  },
  {
   "cell_type": "code",
   "execution_count": 110,
   "metadata": {
    "scrolled": false
   },
   "outputs": [
    {
     "data": {
      "image/png": "[encoded data removed]",
      "text/plain": [
       "<Figure size 864x576 with 1 Axes>"
      ]
     },
     "metadata": {
      "needs_background": "light"
     },
     "output_type": "display_data"
    }
   ],
   "source": [
    "plt.figure(figsize=(12,8))\n",
    "sns.boxplot(data=suv_categorical,x='paint_color', y='price',showfliers=False)\n",
    "plt.title('SUV paint color')\n",
    "plt.show()"
   ]
  },
  {
   "cell_type": "markdown",
   "metadata": {},
   "source": [
    "* Orange cars tend to e a little more expensive then other cars\n",
    "* Yellow cars seem to have bigger distribution comparing to other cars."
   ]
  },
  {
   "cell_type": "code",
   "execution_count": 111,
   "metadata": {
    "scrolled": false
   },
   "outputs": [
    {
     "data": {
      "image/png": "[encoded data removed]",
      "text/plain": [
       "<Figure size 864x576 with 1 Axes>"
      ]
     },
     "metadata": {
      "needs_background": "light"
     },
     "output_type": "display_data"
    }
   ],
   "source": [
    "plt.figure(figsize=(12,8))\n",
    "sns.boxplot(data=suv_categorical,x='condition', y='price',showfliers=False)\n",
    "plt.title('SUV conditions')\n",
    "plt.show()"
   ]
  },
  {
   "cell_type": "markdown",
   "metadata": {},
   "source": [
    "**In general and as expected: Older cars are cheaper then new ones**"
   ]
  },
  {
   "cell_type": "code",
   "execution_count": 112,
   "metadata": {},
   "outputs": [
    {
     "data": {
      "text/html": [
       "<div>\n",
       "<style scoped>\n",
       "    .dataframe tbody tr th:only-of-type {\n",
       "        vertical-align: middle;\n",
       "    }\n",
       "\n",
       "    .dataframe tbody tr th {\n",
       "        vertical-align: top;\n",
       "    }\n",
       "\n",
       "    .dataframe thead th {\n",
       "        text-align: right;\n",
       "    }\n",
       "</style>\n",
       "<table border=\"1\" class=\"dataframe\">\n",
       "  <thead>\n",
       "    <tr style=\"text-align: right;\">\n",
       "      <th></th>\n",
       "      <th>price</th>\n",
       "      <th>transmission</th>\n",
       "      <th>paint_color</th>\n",
       "      <th>condition</th>\n",
       "    </tr>\n",
       "  </thead>\n",
       "  <tbody>\n",
       "    <tr>\n",
       "      <th>2</th>\n",
       "      <td>5500</td>\n",
       "      <td>automatic</td>\n",
       "      <td>red</td>\n",
       "      <td>4</td>\n",
       "    </tr>\n",
       "    <tr>\n",
       "      <th>4</th>\n",
       "      <td>14900</td>\n",
       "      <td>automatic</td>\n",
       "      <td>black</td>\n",
       "      <td>3</td>\n",
       "    </tr>\n",
       "    <tr>\n",
       "      <th>5</th>\n",
       "      <td>14990</td>\n",
       "      <td>automatic</td>\n",
       "      <td>black</td>\n",
       "      <td>3</td>\n",
       "    </tr>\n",
       "    <tr>\n",
       "      <th>6</th>\n",
       "      <td>12990</td>\n",
       "      <td>automatic</td>\n",
       "      <td>white</td>\n",
       "      <td>3</td>\n",
       "    </tr>\n",
       "    <tr>\n",
       "      <th>11</th>\n",
       "      <td>8990</td>\n",
       "      <td>automatic</td>\n",
       "      <td>grey</td>\n",
       "      <td>3</td>\n",
       "    </tr>\n",
       "  </tbody>\n",
       "</table>\n",
       "</div>"
      ],
      "text/plain": [
       "    price transmission paint_color  condition\n",
       "2    5500    automatic         red          4\n",
       "4   14900    automatic       black          3\n",
       "5   14990    automatic       black          3\n",
       "6   12990    automatic       white          3\n",
       "11   8990    automatic        grey          3"
      ]
     },
     "execution_count": 112,
     "metadata": {},
     "output_type": "execute_result"
    }
   ],
   "source": [
    "sedan_categorical = sedan[['price','transmission','paint_color','condition']]\n",
    "sedan_categorical.head()"
   ]
  },
  {
   "cell_type": "code",
   "execution_count": 113,
   "metadata": {
    "scrolled": true
   },
   "outputs": [
    {
     "data": {
      "image/png": "[encoded data removed]",
      "text/plain": [
       "<Figure size 864x576 with 1 Axes>"
      ]
     },
     "metadata": {
      "needs_background": "light"
     },
     "output_type": "display_data"
    }
   ],
   "source": [
    "plt.figure(figsize=(12,8))\n",
    "sns.boxplot(data=sedan_categorical,x='transmission', y='price',showfliers=False)\n",
    "plt.title('Sedan transmission')\n",
    "plt.show()"
   ]
  },
  {
   "cell_type": "markdown",
   "metadata": {},
   "source": [
    "**There is no pattern suggest that transmission type have an affect on sedan prices**"
   ]
  },
  {
   "cell_type": "code",
   "execution_count": 114,
   "metadata": {
    "scrolled": true
   },
   "outputs": [
    {
     "data": {
      "image/png": "[encoded data removed]",
      "text/plain": [
       "<Figure size 864x576 with 1 Axes>"
      ]
     },
     "metadata": {
      "needs_background": "light"
     },
     "output_type": "display_data"
    }
   ],
   "source": [
    "plt.figure(figsize=(12,8))\n",
    "sns.boxplot(data=sedan_categorical,x='paint_color', y='price',showfliers=False)\n",
    "plt.title('Sedan paint color')\n",
    "plt.show()"
   ]
  },
  {
   "cell_type": "markdown",
   "metadata": {},
   "source": [
    "**There is no pattern suggest that paint color have an affect on sedan prices**"
   ]
  },
  {
   "cell_type": "code",
   "execution_count": 115,
   "metadata": {
    "scrolled": false
   },
   "outputs": [
    {
     "data": {
      "image/png": "[encoded data removed]",
      "text/plain": [
       "<Figure size 864x576 with 1 Axes>"
      ]
     },
     "metadata": {
      "needs_background": "light"
     },
     "output_type": "display_data"
    }
   ],
   "source": [
    "plt.figure(figsize=(12,8))\n",
    "sns.boxplot(data=sedan_categorical,x='condition', y='price',showfliers=False)\n",
    "plt.title('Sedan condition')\n",
    "plt.show()"
   ]
  },
  {
   "cell_type": "markdown",
   "metadata": {},
   "source": [
    "**looks similar to the boxplots for the SUV condition, older cars tend to be cheaper then new ones**"
   ]
  },
  {
   "cell_type": "markdown",
   "metadata": {},
   "source": [
    "## General conclusion\n"
   ]
  },
  {
   "cell_type": "markdown",
   "metadata": {},
   "source": [
    "**Conclusion**\n",
    "\n",
    "* We started with the missing values and filled them with median after grouping model/year_model.\n",
    "\n",
    "* We made further invesigate for each column in order to convert problematic data type.\n",
    "\n",
    "* We added few more columns (year/month/weekday for the ad posted date, Average miles per year, vehicle age).\n",
    "\n",
    "* We change the condition column to numerical values.\n",
    "\n",
    "\n",
    "**main conclusion**\n",
    "\n",
    "* There is now specific parameter that as a strong correlation (over 0.7) with the price.\n",
    "\n",
    "* The parameter which have the most effect on the price is mileage with a correlation score of around 0.6.\n",
    "\n",
    "* In general we can see that older cars are cheaper.\n"
   ]
  }
 ],
 "metadata": {
  "ExecuteTimeLog": [
   {
    "duration": 828,
    "start_time": "2021-11-16T09:21:11.304Z"
   },
   {
    "duration": 893,
    "start_time": "2021-11-16T09:21:17.728Z"
   },
   {
    "duration": 1150,
    "start_time": "2021-11-16T09:21:29.568Z"
   },
   {
    "duration": 3,
    "start_time": "2021-11-16T09:24:14.495Z"
   },
   {
    "duration": 120,
    "start_time": "2021-11-16T09:24:46.630Z"
   },
   {
    "duration": 3,
    "start_time": "2021-11-16T09:28:27.882Z"
   },
   {
    "duration": 4,
    "start_time": "2021-11-16T09:29:54.281Z"
   },
   {
    "duration": 3,
    "start_time": "2021-11-16T09:30:45.936Z"
   },
   {
    "duration": 4,
    "start_time": "2021-11-16T09:31:06.300Z"
   },
   {
    "duration": 113,
    "start_time": "2021-11-16T09:31:37.208Z"
   },
   {
    "duration": 143,
    "start_time": "2021-11-16T09:31:48.656Z"
   },
   {
    "duration": 98,
    "start_time": "2021-11-16T09:31:55.678Z"
   },
   {
    "duration": 3,
    "start_time": "2021-11-16T09:32:08.535Z"
   },
   {
    "duration": 111,
    "start_time": "2021-11-16T09:32:10.120Z"
   },
   {
    "duration": 3,
    "start_time": "2021-11-16T09:32:15.732Z"
   },
   {
    "duration": 4,
    "start_time": "2021-11-16T09:32:29.423Z"
   },
   {
    "duration": 3,
    "start_time": "2021-11-16T10:03:03.074Z"
   },
   {
    "duration": 3,
    "start_time": "2021-11-16T10:10:01.288Z"
   },
   {
    "duration": 3,
    "start_time": "2021-11-16T10:10:46.923Z"
   },
   {
    "duration": 121,
    "start_time": "2021-11-16T10:37:46.494Z"
   },
   {
    "duration": 125,
    "start_time": "2021-11-16T10:38:20.632Z"
   },
   {
    "duration": 112,
    "start_time": "2021-11-16T10:46:53.001Z"
   },
   {
    "duration": 110,
    "start_time": "2021-11-16T10:48:25.775Z"
   },
   {
    "duration": 3,
    "start_time": "2021-11-16T10:50:18.720Z"
   },
   {
    "duration": 4,
    "start_time": "2021-11-16T10:50:37.649Z"
   },
   {
    "duration": 2,
    "start_time": "2021-11-16T10:50:51.884Z"
   },
   {
    "duration": 3,
    "start_time": "2021-11-16T10:51:56.237Z"
   },
   {
    "duration": 101,
    "start_time": "2021-11-16T10:53:13.791Z"
   },
   {
    "duration": 3,
    "start_time": "2021-11-16T10:55:59.186Z"
   },
   {
    "duration": 3,
    "start_time": "2021-11-16T10:56:10.751Z"
   },
   {
    "duration": 3,
    "start_time": "2021-11-16T10:56:49.038Z"
   },
   {
    "duration": 3,
    "start_time": "2021-11-16T10:56:49.174Z"
   },
   {
    "duration": 4,
    "start_time": "2021-11-16T10:56:49.414Z"
   },
   {
    "duration": 3,
    "start_time": "2021-11-16T10:56:49.680Z"
   },
   {
    "duration": 3,
    "start_time": "2021-11-16T10:56:50.370Z"
   },
   {
    "duration": 114,
    "start_time": "2021-11-16T10:59:34.518Z"
   },
   {
    "duration": 3,
    "start_time": "2021-11-16T11:01:41.201Z"
   },
   {
    "duration": 116,
    "start_time": "2021-11-16T11:01:48.754Z"
   },
   {
    "duration": 3,
    "start_time": "2021-11-16T11:02:16.685Z"
   },
   {
    "duration": 3,
    "start_time": "2021-11-16T11:02:19.479Z"
   },
   {
    "duration": 3,
    "start_time": "2021-11-16T11:02:47.067Z"
   },
   {
    "duration": 3,
    "start_time": "2021-11-16T11:02:49.353Z"
   },
   {
    "duration": 3,
    "start_time": "2021-11-16T11:03:07.835Z"
   },
   {
    "duration": 3,
    "start_time": "2021-11-16T11:03:07.953Z"
   },
   {
    "duration": 112,
    "start_time": "2021-11-16T11:07:52.072Z"
   },
   {
    "duration": 187,
    "start_time": "2021-11-16T11:09:23.468Z"
   },
   {
    "duration": 4,
    "start_time": "2021-11-16T11:10:01.455Z"
   },
   {
    "duration": 3,
    "start_time": "2021-11-16T11:10:05.069Z"
   },
   {
    "duration": 4,
    "start_time": "2021-11-16T11:10:13.376Z"
   },
   {
    "duration": 3,
    "start_time": "2021-11-16T11:10:14.434Z"
   },
   {
    "duration": 3,
    "start_time": "2021-11-16T11:10:22.853Z"
   },
   {
    "duration": 4,
    "start_time": "2021-11-16T11:27:29.279Z"
   },
   {
    "duration": 4,
    "start_time": "2021-11-16T11:29:08.919Z"
   },
   {
    "duration": 118,
    "start_time": "2021-11-16T11:29:46.703Z"
   },
   {
    "duration": 437,
    "start_time": "2021-11-16T11:36:02.181Z"
   },
   {
    "duration": 157,
    "start_time": "2021-11-16T11:36:14.388Z"
   },
   {
    "duration": 207,
    "start_time": "2021-11-16T11:47:15.898Z"
   },
   {
    "duration": 3,
    "start_time": "2021-11-16T11:53:52.092Z"
   },
   {
    "duration": 3,
    "start_time": "2021-11-16T11:53:52.236Z"
   },
   {
    "duration": 3,
    "start_time": "2021-11-16T11:59:12.005Z"
   },
   {
    "duration": 112,
    "start_time": "2021-11-16T12:00:33.446Z"
   },
   {
    "duration": 3,
    "start_time": "2021-11-16T12:02:14.453Z"
   },
   {
    "duration": 3,
    "start_time": "2021-11-16T12:02:39.512Z"
   },
   {
    "duration": 106,
    "start_time": "2021-11-16T12:03:03.460Z"
   },
   {
    "duration": 1158,
    "start_time": "2022-01-27T17:54:47.097Z"
   },
   {
    "duration": 247,
    "start_time": "2022-01-27T17:54:48.257Z"
   },
   {
    "duration": 40,
    "start_time": "2022-01-27T17:54:48.506Z"
   },
   {
    "duration": 18,
    "start_time": "2022-01-27T17:54:48.548Z"
   },
   {
    "duration": 12,
    "start_time": "2022-01-27T17:54:48.568Z"
   },
   {
    "duration": 45,
    "start_time": "2022-01-27T17:54:48.581Z"
   },
   {
    "duration": 17,
    "start_time": "2022-01-27T17:54:48.628Z"
   },
   {
    "duration": 19,
    "start_time": "2022-01-27T17:54:48.648Z"
   },
   {
    "duration": 4,
    "start_time": "2022-01-27T17:54:48.669Z"
   },
   {
    "duration": 39,
    "start_time": "2022-01-27T17:54:48.674Z"
   },
   {
    "duration": 10,
    "start_time": "2022-01-27T17:54:48.715Z"
   },
   {
    "duration": 4,
    "start_time": "2022-01-27T17:54:48.726Z"
   },
   {
    "duration": 4,
    "start_time": "2022-01-27T17:54:48.732Z"
   },
   {
    "duration": 15,
    "start_time": "2022-01-27T17:54:48.738Z"
   },
   {
    "duration": 8,
    "start_time": "2022-01-27T17:54:48.755Z"
   },
   {
    "duration": 4,
    "start_time": "2022-01-27T17:54:48.765Z"
   },
   {
    "duration": 41,
    "start_time": "2022-01-27T17:54:48.771Z"
   },
   {
    "duration": 15,
    "start_time": "2022-01-27T17:54:48.813Z"
   },
   {
    "duration": 7,
    "start_time": "2022-01-27T17:54:48.829Z"
   },
   {
    "duration": 12,
    "start_time": "2022-01-27T17:54:48.837Z"
   },
   {
    "duration": 12,
    "start_time": "2022-01-27T17:54:48.851Z"
   },
   {
    "duration": 13,
    "start_time": "2022-01-27T17:54:48.864Z"
   },
   {
    "duration": 3,
    "start_time": "2022-01-27T17:54:48.913Z"
   },
   {
    "duration": 5,
    "start_time": "2022-01-27T17:54:48.918Z"
   },
   {
    "duration": 6,
    "start_time": "2022-01-27T17:54:48.924Z"
   },
   {
    "duration": 18,
    "start_time": "2022-01-27T17:54:48.932Z"
   },
   {
    "duration": 8,
    "start_time": "2022-01-27T17:54:48.952Z"
   },
   {
    "duration": 12,
    "start_time": "2022-01-27T17:54:48.962Z"
   },
   {
    "duration": 42,
    "start_time": "2022-01-27T17:54:48.976Z"
   },
   {
    "duration": 6,
    "start_time": "2022-01-27T17:54:49.020Z"
   },
   {
    "duration": 7,
    "start_time": "2022-01-27T17:54:49.028Z"
   },
   {
    "duration": 5,
    "start_time": "2022-01-27T17:54:49.036Z"
   },
   {
    "duration": 12,
    "start_time": "2022-01-27T17:54:49.042Z"
   },
   {
    "duration": 11,
    "start_time": "2022-01-27T17:54:49.056Z"
   },
   {
    "duration": 46,
    "start_time": "2022-01-27T17:54:49.069Z"
   },
   {
    "duration": 13,
    "start_time": "2022-01-27T17:54:49.117Z"
   },
   {
    "duration": 6,
    "start_time": "2022-01-27T17:54:49.132Z"
   },
   {
    "duration": 14,
    "start_time": "2022-01-27T17:54:49.139Z"
   },
   {
    "duration": 20,
    "start_time": "2022-01-27T17:54:49.154Z"
   },
   {
    "duration": 40,
    "start_time": "2022-01-27T17:54:49.175Z"
   },
   {
    "duration": 9,
    "start_time": "2022-01-27T17:54:49.216Z"
   },
   {
    "duration": 19,
    "start_time": "2022-01-27T17:54:49.226Z"
   },
   {
    "duration": 7,
    "start_time": "2022-01-27T17:54:49.247Z"
   },
   {
    "duration": 4,
    "start_time": "2022-01-27T17:54:49.256Z"
   },
   {
    "duration": 10,
    "start_time": "2022-01-27T17:54:49.262Z"
   },
   {
    "duration": 42,
    "start_time": "2022-01-27T17:54:49.273Z"
   },
   {
    "duration": 9,
    "start_time": "2022-01-27T17:54:49.317Z"
   },
   {
    "duration": 9,
    "start_time": "2022-01-27T17:54:49.328Z"
   },
   {
    "duration": 16,
    "start_time": "2022-01-27T17:54:49.339Z"
   },
   {
    "duration": 3,
    "start_time": "2022-01-27T17:54:49.357Z"
   },
   {
    "duration": 10,
    "start_time": "2022-01-27T17:54:49.361Z"
   },
   {
    "duration": 40,
    "start_time": "2022-01-27T17:54:49.372Z"
   },
   {
    "duration": 11,
    "start_time": "2022-01-27T17:54:49.414Z"
   },
   {
    "duration": 16,
    "start_time": "2022-01-27T17:54:49.427Z"
   },
   {
    "duration": 27,
    "start_time": "2022-01-27T17:54:49.444Z"
   },
   {
    "duration": 12,
    "start_time": "2022-01-27T17:54:49.473Z"
   },
   {
    "duration": 12,
    "start_time": "2022-01-27T17:54:49.512Z"
   },
   {
    "duration": 9,
    "start_time": "2022-01-27T17:54:49.525Z"
   },
   {
    "duration": 23,
    "start_time": "2022-01-27T17:54:49.535Z"
   },
   {
    "duration": 5,
    "start_time": "2022-01-27T17:54:49.559Z"
   },
   {
    "duration": 63,
    "start_time": "2022-01-27T17:54:49.566Z"
   },
   {
    "duration": 21,
    "start_time": "2022-01-27T17:54:49.631Z"
   },
   {
    "duration": 11,
    "start_time": "2022-01-27T17:54:49.653Z"
   },
   {
    "duration": 9,
    "start_time": "2022-01-27T17:54:49.666Z"
   },
   {
    "duration": 4,
    "start_time": "2022-01-27T17:54:49.676Z"
   },
   {
    "duration": 31,
    "start_time": "2022-01-27T17:54:49.682Z"
   },
   {
    "duration": 188,
    "start_time": "2022-01-27T17:54:49.714Z"
   },
   {
    "duration": 12,
    "start_time": "2022-01-27T17:54:49.907Z"
   },
   {
    "duration": 4,
    "start_time": "2022-01-27T17:54:49.921Z"
   },
   {
    "duration": 4,
    "start_time": "2022-01-27T17:54:49.927Z"
   },
   {
    "duration": 5,
    "start_time": "2022-01-27T17:54:49.932Z"
   },
   {
    "duration": 198,
    "start_time": "2022-01-27T17:54:49.938Z"
   },
   {
    "duration": 8,
    "start_time": "2022-01-27T17:54:50.137Z"
   },
   {
    "duration": 5,
    "start_time": "2022-01-27T17:54:50.147Z"
   },
   {
    "duration": 5,
    "start_time": "2022-01-27T17:54:50.153Z"
   },
   {
    "duration": 190,
    "start_time": "2022-01-27T17:54:50.159Z"
   },
   {
    "duration": 8,
    "start_time": "2022-01-27T17:54:50.351Z"
   },
   {
    "duration": 140,
    "start_time": "2022-01-27T17:54:50.361Z"
   },
   {
    "duration": 181,
    "start_time": "2022-01-27T17:54:50.503Z"
   },
   {
    "duration": 9,
    "start_time": "2022-01-27T17:54:50.686Z"
   },
   {
    "duration": 153,
    "start_time": "2022-01-27T17:54:50.697Z"
   },
   {
    "duration": 239,
    "start_time": "2022-01-27T17:54:50.852Z"
   },
   {
    "duration": 20,
    "start_time": "2022-01-27T17:54:51.093Z"
   },
   {
    "duration": 16,
    "start_time": "2022-01-27T17:54:51.115Z"
   },
   {
    "duration": 12,
    "start_time": "2022-01-27T17:54:51.132Z"
   },
   {
    "duration": 74,
    "start_time": "2022-01-27T17:54:51.145Z"
   },
   {
    "duration": 213,
    "start_time": "2022-01-27T17:54:51.221Z"
   },
   {
    "duration": 189,
    "start_time": "2022-01-27T17:54:51.435Z"
   },
   {
    "duration": 185,
    "start_time": "2022-01-27T17:54:51.626Z"
   },
   {
    "duration": 200,
    "start_time": "2022-01-27T17:54:51.812Z"
   },
   {
    "duration": 140,
    "start_time": "2022-01-27T17:54:52.013Z"
   },
   {
    "duration": 5,
    "start_time": "2022-01-27T17:54:52.154Z"
   },
   {
    "duration": 4,
    "start_time": "2022-01-27T17:54:52.161Z"
   },
   {
    "duration": 51,
    "start_time": "2022-01-27T17:54:52.166Z"
   },
   {
    "duration": 263,
    "start_time": "2022-01-27T17:54:52.219Z"
   },
   {
    "duration": 4,
    "start_time": "2022-01-27T17:54:52.484Z"
   },
   {
    "duration": 29,
    "start_time": "2022-01-27T17:54:52.489Z"
   },
   {
    "duration": 7,
    "start_time": "2022-01-27T17:54:52.519Z"
   },
   {
    "duration": 3168,
    "start_time": "2022-01-27T17:54:52.527Z"
   },
   {
    "duration": 16,
    "start_time": "2022-01-27T17:54:55.697Z"
   },
   {
    "duration": 21,
    "start_time": "2022-01-27T17:54:55.715Z"
   },
   {
    "duration": 7,
    "start_time": "2022-01-27T17:54:55.738Z"
   },
   {
    "duration": 3273,
    "start_time": "2022-01-27T17:54:55.746Z"
   },
   {
    "duration": 9,
    "start_time": "2022-01-27T17:54:59.021Z"
   },
   {
    "duration": 8,
    "start_time": "2022-01-27T17:54:59.032Z"
   },
   {
    "duration": 286,
    "start_time": "2022-01-27T17:54:59.042Z"
   },
   {
    "duration": 454,
    "start_time": "2022-01-27T17:54:59.330Z"
   },
   {
    "duration": 415,
    "start_time": "2022-01-27T17:54:59.786Z"
   },
   {
    "duration": 15,
    "start_time": "2022-01-27T17:55:00.202Z"
   },
   {
    "duration": 276,
    "start_time": "2022-01-27T17:55:00.218Z"
   },
   {
    "duration": 414,
    "start_time": "2022-01-27T17:55:00.496Z"
   },
   {
    "duration": 296,
    "start_time": "2022-01-27T17:55:00.912Z"
   },
   {
    "duration": 93,
    "start_time": "2022-01-27T17:56:55.249Z"
   },
   {
    "duration": 524,
    "start_time": "2022-01-27T18:00:49.640Z"
   },
   {
    "duration": 1144,
    "start_time": "2022-01-27T18:01:19.493Z"
   },
   {
    "duration": 262,
    "start_time": "2022-01-27T18:01:20.639Z"
   },
   {
    "duration": 40,
    "start_time": "2022-01-27T18:01:20.903Z"
   },
   {
    "duration": 18,
    "start_time": "2022-01-27T18:01:20.945Z"
   },
   {
    "duration": 12,
    "start_time": "2022-01-27T18:01:20.965Z"
   },
   {
    "duration": 39,
    "start_time": "2022-01-27T18:01:20.979Z"
   },
   {
    "duration": 19,
    "start_time": "2022-01-27T18:01:21.019Z"
   },
   {
    "duration": 578,
    "start_time": "2022-01-27T18:01:21.040Z"
   },
   {
    "duration": 21,
    "start_time": "2022-01-27T18:01:21.620Z"
   },
   {
    "duration": 4,
    "start_time": "2022-01-27T18:01:21.643Z"
   },
   {
    "duration": 18,
    "start_time": "2022-01-27T18:01:21.648Z"
   },
   {
    "duration": 10,
    "start_time": "2022-01-27T18:01:21.668Z"
   },
   {
    "duration": 33,
    "start_time": "2022-01-27T18:01:21.680Z"
   },
   {
    "duration": 4,
    "start_time": "2022-01-27T18:01:21.715Z"
   },
   {
    "duration": 16,
    "start_time": "2022-01-27T18:01:21.721Z"
   },
   {
    "duration": 11,
    "start_time": "2022-01-27T18:01:21.738Z"
   },
   {
    "duration": 5,
    "start_time": "2022-01-27T18:01:21.750Z"
   },
   {
    "duration": 4,
    "start_time": "2022-01-27T18:01:21.756Z"
   },
   {
    "duration": 50,
    "start_time": "2022-01-27T18:01:21.762Z"
   },
   {
    "duration": 9,
    "start_time": "2022-01-27T18:01:21.814Z"
   },
   {
    "duration": 13,
    "start_time": "2022-01-27T18:01:21.824Z"
   },
   {
    "duration": 11,
    "start_time": "2022-01-27T18:01:21.839Z"
   },
   {
    "duration": 14,
    "start_time": "2022-01-27T18:01:21.854Z"
   },
   {
    "duration": 3,
    "start_time": "2022-01-27T18:01:21.871Z"
   },
   {
    "duration": 39,
    "start_time": "2022-01-27T18:01:21.875Z"
   },
   {
    "duration": 8,
    "start_time": "2022-01-27T18:01:21.916Z"
   },
   {
    "duration": 19,
    "start_time": "2022-01-27T18:01:21.926Z"
   },
   {
    "duration": 10,
    "start_time": "2022-01-27T18:01:21.947Z"
   },
   {
    "duration": 12,
    "start_time": "2022-01-27T18:01:21.959Z"
   },
   {
    "duration": 41,
    "start_time": "2022-01-27T18:01:21.973Z"
   },
   {
    "duration": 6,
    "start_time": "2022-01-27T18:01:22.016Z"
   },
   {
    "duration": 7,
    "start_time": "2022-01-27T18:01:22.024Z"
   },
   {
    "duration": 5,
    "start_time": "2022-01-27T18:01:22.033Z"
   },
   {
    "duration": 13,
    "start_time": "2022-01-27T18:01:22.039Z"
   },
   {
    "duration": 12,
    "start_time": "2022-01-27T18:01:22.054Z"
   },
   {
    "duration": 46,
    "start_time": "2022-01-27T18:01:22.068Z"
   },
   {
    "duration": 15,
    "start_time": "2022-01-27T18:01:22.116Z"
   },
   {
    "duration": 11,
    "start_time": "2022-01-27T18:01:22.133Z"
   },
   {
    "duration": 12,
    "start_time": "2022-01-27T18:01:22.146Z"
   },
   {
    "duration": 19,
    "start_time": "2022-01-27T18:01:22.160Z"
   },
   {
    "duration": 7,
    "start_time": "2022-01-27T18:01:22.181Z"
   },
   {
    "duration": 7,
    "start_time": "2022-01-27T18:01:22.212Z"
   },
   {
    "duration": 18,
    "start_time": "2022-01-27T18:01:22.221Z"
   },
   {
    "duration": 6,
    "start_time": "2022-01-27T18:01:22.241Z"
   },
   {
    "duration": 4,
    "start_time": "2022-01-27T18:01:22.248Z"
   },
   {
    "duration": 9,
    "start_time": "2022-01-27T18:01:22.253Z"
   },
   {
    "duration": 4,
    "start_time": "2022-01-27T18:01:22.264Z"
   },
   {
    "duration": 44,
    "start_time": "2022-01-27T18:01:22.269Z"
   },
   {
    "duration": 9,
    "start_time": "2022-01-27T18:01:22.314Z"
   },
   {
    "duration": 22,
    "start_time": "2022-01-27T18:01:22.325Z"
   },
   {
    "duration": 3,
    "start_time": "2022-01-27T18:01:22.349Z"
   },
   {
    "duration": 11,
    "start_time": "2022-01-27T18:01:22.354Z"
   },
   {
    "duration": 4,
    "start_time": "2022-01-27T18:01:22.366Z"
   },
   {
    "duration": 11,
    "start_time": "2022-01-27T18:01:22.372Z"
   },
   {
    "duration": 42,
    "start_time": "2022-01-27T18:01:22.384Z"
   },
   {
    "duration": 29,
    "start_time": "2022-01-27T18:01:22.428Z"
   },
   {
    "duration": 14,
    "start_time": "2022-01-27T18:01:22.458Z"
   },
   {
    "duration": 12,
    "start_time": "2022-01-27T18:01:22.473Z"
   },
   {
    "duration": 8,
    "start_time": "2022-01-27T18:01:22.513Z"
   },
   {
    "duration": 23,
    "start_time": "2022-01-27T18:01:22.523Z"
   },
   {
    "duration": 5,
    "start_time": "2022-01-27T18:01:22.548Z"
   },
   {
    "duration": 59,
    "start_time": "2022-01-27T18:01:22.554Z"
   },
   {
    "duration": 21,
    "start_time": "2022-01-27T18:01:22.615Z"
   },
   {
    "duration": 12,
    "start_time": "2022-01-27T18:01:22.638Z"
   },
   {
    "duration": 10,
    "start_time": "2022-01-27T18:01:22.652Z"
   },
   {
    "duration": 4,
    "start_time": "2022-01-27T18:01:22.663Z"
   },
   {
    "duration": 4,
    "start_time": "2022-01-27T18:01:22.669Z"
   },
   {
    "duration": 236,
    "start_time": "2022-01-27T18:01:22.678Z"
   },
   {
    "duration": 9,
    "start_time": "2022-01-27T18:01:22.916Z"
   },
   {
    "duration": 4,
    "start_time": "2022-01-27T18:01:22.926Z"
   },
   {
    "duration": 5,
    "start_time": "2022-01-27T18:01:22.932Z"
   },
   {
    "duration": 5,
    "start_time": "2022-01-27T18:01:22.938Z"
   },
   {
    "duration": 209,
    "start_time": "2022-01-27T18:01:22.944Z"
   },
   {
    "duration": 8,
    "start_time": "2022-01-27T18:01:23.155Z"
   },
   {
    "duration": 7,
    "start_time": "2022-01-27T18:01:23.165Z"
   },
   {
    "duration": 4,
    "start_time": "2022-01-27T18:01:23.173Z"
   },
   {
    "duration": 194,
    "start_time": "2022-01-27T18:01:23.179Z"
   },
   {
    "duration": 8,
    "start_time": "2022-01-27T18:01:23.374Z"
   },
   {
    "duration": 148,
    "start_time": "2022-01-27T18:01:23.384Z"
   },
   {
    "duration": 257,
    "start_time": "2022-01-27T18:01:23.534Z"
   },
   {
    "duration": 9,
    "start_time": "2022-01-27T18:01:23.792Z"
   },
   {
    "duration": 144,
    "start_time": "2022-01-27T18:01:23.812Z"
   },
   {
    "duration": 184,
    "start_time": "2022-01-27T18:01:23.957Z"
   },
   {
    "duration": 12,
    "start_time": "2022-01-27T18:01:24.143Z"
   },
   {
    "duration": 15,
    "start_time": "2022-01-27T18:01:24.156Z"
   },
   {
    "duration": 11,
    "start_time": "2022-01-27T18:01:24.172Z"
   },
   {
    "duration": 76,
    "start_time": "2022-01-27T18:01:24.184Z"
   },
   {
    "duration": 190,
    "start_time": "2022-01-27T18:01:24.261Z"
   },
   {
    "duration": 189,
    "start_time": "2022-01-27T18:01:24.453Z"
   },
   {
    "duration": 180,
    "start_time": "2022-01-27T18:01:24.644Z"
   },
   {
    "duration": 190,
    "start_time": "2022-01-27T18:01:24.826Z"
   },
   {
    "duration": 146,
    "start_time": "2022-01-27T18:01:25.017Z"
   },
   {
    "duration": 5,
    "start_time": "2022-01-27T18:01:25.165Z"
   },
   {
    "duration": 7,
    "start_time": "2022-01-27T18:01:25.171Z"
   },
   {
    "duration": 47,
    "start_time": "2022-01-27T18:01:25.179Z"
   },
   {
    "duration": 255,
    "start_time": "2022-01-27T18:01:25.227Z"
   },
   {
    "duration": 4,
    "start_time": "2022-01-27T18:01:25.483Z"
   },
   {
    "duration": 31,
    "start_time": "2022-01-27T18:01:25.489Z"
   },
   {
    "duration": 8,
    "start_time": "2022-01-27T18:01:25.521Z"
   },
   {
    "duration": 3276,
    "start_time": "2022-01-27T18:01:25.530Z"
   },
   {
    "duration": 11,
    "start_time": "2022-01-27T18:01:28.807Z"
   },
   {
    "duration": 17,
    "start_time": "2022-01-27T18:01:28.820Z"
   },
   {
    "duration": 7,
    "start_time": "2022-01-27T18:01:28.839Z"
   },
   {
    "duration": 3120,
    "start_time": "2022-01-27T18:01:28.847Z"
   },
   {
    "duration": 7,
    "start_time": "2022-01-27T18:01:31.969Z"
   },
   {
    "duration": 7,
    "start_time": "2022-01-27T18:01:31.978Z"
   },
   {
    "duration": 326,
    "start_time": "2022-01-27T18:01:31.987Z"
   },
   {
    "duration": 375,
    "start_time": "2022-01-27T18:01:32.315Z"
   },
   {
    "duration": 269,
    "start_time": "2022-01-27T18:01:32.692Z"
   },
   {
    "duration": 8,
    "start_time": "2022-01-27T18:01:32.963Z"
   },
   {
    "duration": 246,
    "start_time": "2022-01-27T18:01:32.973Z"
   },
   {
    "duration": 382,
    "start_time": "2022-01-27T18:01:33.221Z"
   },
   {
    "duration": 285,
    "start_time": "2022-01-27T18:01:33.604Z"
   },
   {
    "duration": 5,
    "start_time": "2022-01-27T18:09:02.784Z"
   },
   {
    "duration": 90,
    "start_time": "2022-01-27T18:27:47.572Z"
   },
   {
    "duration": 23,
    "start_time": "2022-01-27T18:27:55.725Z"
   },
   {
    "duration": 1379,
    "start_time": "2022-01-27T18:46:49.712Z"
   },
   {
    "duration": 769,
    "start_time": "2022-01-27T18:48:04.765Z"
   },
   {
    "duration": 799,
    "start_time": "2022-01-27T18:48:15.654Z"
   },
   {
    "duration": 849,
    "start_time": "2022-01-27T18:48:21.025Z"
   },
   {
    "duration": 4,
    "start_time": "2022-01-27T18:49:42.126Z"
   },
   {
    "duration": 436,
    "start_time": "2022-01-30T09:41:51.805Z"
   },
   {
    "duration": 1431,
    "start_time": "2022-01-30T09:42:20.268Z"
   },
   {
    "duration": 315,
    "start_time": "2022-01-30T09:42:21.702Z"
   },
   {
    "duration": 62,
    "start_time": "2022-01-30T09:42:22.020Z"
   },
   {
    "duration": 29,
    "start_time": "2022-01-30T09:42:22.086Z"
   },
   {
    "duration": 44,
    "start_time": "2022-01-30T09:42:22.118Z"
   },
   {
    "duration": 25,
    "start_time": "2022-01-30T09:42:22.165Z"
   },
   {
    "duration": 57,
    "start_time": "2022-01-30T09:42:22.193Z"
   },
   {
    "duration": 1351,
    "start_time": "2022-01-30T09:42:22.254Z"
   },
   {
    "duration": 26,
    "start_time": "2022-01-30T09:42:23.608Z"
   },
   {
    "duration": 11,
    "start_time": "2022-01-30T09:42:23.637Z"
   },
   {
    "duration": 23,
    "start_time": "2022-01-30T09:42:23.651Z"
   },
   {
    "duration": 14,
    "start_time": "2022-01-30T09:42:23.676Z"
   },
   {
    "duration": 6,
    "start_time": "2022-01-30T09:42:23.693Z"
   },
   {
    "duration": 9,
    "start_time": "2022-01-30T09:42:23.701Z"
   },
   {
    "duration": 23,
    "start_time": "2022-01-30T09:42:23.712Z"
   },
   {
    "duration": 22,
    "start_time": "2022-01-30T09:42:23.738Z"
   },
   {
    "duration": 5,
    "start_time": "2022-01-30T09:42:23.763Z"
   },
   {
    "duration": 8,
    "start_time": "2022-01-30T09:42:23.771Z"
   },
   {
    "duration": 68,
    "start_time": "2022-01-30T09:42:23.782Z"
   },
   {
    "duration": 11,
    "start_time": "2022-01-30T09:42:23.852Z"
   },
   {
    "duration": 18,
    "start_time": "2022-01-30T09:42:23.866Z"
   },
   {
    "duration": 73,
    "start_time": "2022-01-30T09:42:23.887Z"
   },
   {
    "duration": 23,
    "start_time": "2022-01-30T09:42:23.966Z"
   },
   {
    "duration": 4,
    "start_time": "2022-01-30T09:42:23.993Z"
   },
   {
    "duration": 8,
    "start_time": "2022-01-30T09:42:23.999Z"
   },
   {
    "duration": 8,
    "start_time": "2022-01-30T09:42:24.009Z"
   },
   {
    "duration": 42,
    "start_time": "2022-01-30T09:42:24.019Z"
   },
   {
    "duration": 13,
    "start_time": "2022-01-30T09:42:24.063Z"
   },
   {
    "duration": 21,
    "start_time": "2022-01-30T09:42:24.078Z"
   },
   {
    "duration": 9,
    "start_time": "2022-01-30T09:42:24.101Z"
   },
   {
    "duration": 36,
    "start_time": "2022-01-30T09:42:24.113Z"
   },
   {
    "duration": 9,
    "start_time": "2022-01-30T09:42:24.151Z"
   },
   {
    "duration": 9,
    "start_time": "2022-01-30T09:42:24.162Z"
   },
   {
    "duration": 18,
    "start_time": "2022-01-30T09:42:24.174Z"
   },
   {
    "duration": 66,
    "start_time": "2022-01-30T09:42:24.194Z"
   },
   {
    "duration": 6,
    "start_time": "2022-01-30T09:42:24.262Z"
   },
   {
    "duration": 82,
    "start_time": "2022-01-30T09:42:24.271Z"
   },
   {
    "duration": 9,
    "start_time": "2022-01-30T09:42:24.356Z"
   },
   {
    "duration": 20,
    "start_time": "2022-01-30T09:42:24.368Z"
   },
   {
    "duration": 78,
    "start_time": "2022-01-30T09:42:24.390Z"
   },
   {
    "duration": 10,
    "start_time": "2022-01-30T09:42:24.470Z"
   },
   {
    "duration": 65,
    "start_time": "2022-01-30T09:42:24.483Z"
   },
   {
    "duration": 28,
    "start_time": "2022-01-30T09:42:24.551Z"
   },
   {
    "duration": 66,
    "start_time": "2022-01-30T09:42:24.582Z"
   },
   {
    "duration": 7,
    "start_time": "2022-01-30T09:42:24.652Z"
   },
   {
    "duration": 13,
    "start_time": "2022-01-30T09:42:24.662Z"
   },
   {
    "duration": 6,
    "start_time": "2022-01-30T09:42:24.677Z"
   },
   {
    "duration": 65,
    "start_time": "2022-01-30T09:42:24.685Z"
   },
   {
    "duration": 15,
    "start_time": "2022-01-30T09:42:24.752Z"
   },
   {
    "duration": 83,
    "start_time": "2022-01-30T09:42:24.770Z"
   },
   {
    "duration": 5,
    "start_time": "2022-01-30T09:42:24.856Z"
   },
   {
    "duration": 17,
    "start_time": "2022-01-30T09:42:24.864Z"
   },
   {
    "duration": 7,
    "start_time": "2022-01-30T09:42:24.884Z"
   },
   {
    "duration": 25,
    "start_time": "2022-01-30T09:42:24.893Z"
   },
   {
    "duration": 24,
    "start_time": "2022-01-30T09:42:24.949Z"
   },
   {
    "duration": 42,
    "start_time": "2022-01-30T09:42:24.976Z"
   },
   {
    "duration": 44,
    "start_time": "2022-01-30T09:42:25.021Z"
   },
   {
    "duration": 18,
    "start_time": "2022-01-30T09:42:25.068Z"
   },
   {
    "duration": 66,
    "start_time": "2022-01-30T09:42:25.088Z"
   },
   {
    "duration": 12,
    "start_time": "2022-01-30T09:42:25.156Z"
   },
   {
    "duration": 59,
    "start_time": "2022-01-30T09:42:25.170Z"
   },
   {
    "duration": 8,
    "start_time": "2022-01-30T09:42:25.231Z"
   },
   {
    "duration": 69,
    "start_time": "2022-01-30T09:42:25.241Z"
   },
   {
    "duration": 28,
    "start_time": "2022-01-30T09:42:25.312Z"
   },
   {
    "duration": 20,
    "start_time": "2022-01-30T09:42:25.349Z"
   },
   {
    "duration": 20,
    "start_time": "2022-01-30T09:42:25.372Z"
   },
   {
    "duration": 18,
    "start_time": "2022-01-30T09:42:25.395Z"
   },
   {
    "duration": 28,
    "start_time": "2022-01-30T09:42:25.422Z"
   },
   {
    "duration": 318,
    "start_time": "2022-01-30T09:42:25.454Z"
   },
   {
    "duration": 11,
    "start_time": "2022-01-30T09:42:25.775Z"
   },
   {
    "duration": 7,
    "start_time": "2022-01-30T09:42:25.788Z"
   },
   {
    "duration": 11,
    "start_time": "2022-01-30T09:42:25.797Z"
   },
   {
    "duration": 42,
    "start_time": "2022-01-30T09:42:25.810Z"
   },
   {
    "duration": 301,
    "start_time": "2022-01-30T09:42:25.854Z"
   },
   {
    "duration": 14,
    "start_time": "2022-01-30T09:42:26.158Z"
   },
   {
    "duration": 8,
    "start_time": "2022-01-30T09:42:26.175Z"
   },
   {
    "duration": 8,
    "start_time": "2022-01-30T09:42:26.186Z"
   },
   {
    "duration": 339,
    "start_time": "2022-01-30T09:42:26.197Z"
   },
   {
    "duration": 19,
    "start_time": "2022-01-30T09:42:26.540Z"
   },
   {
    "duration": 223,
    "start_time": "2022-01-30T09:42:26.562Z"
   },
   {
    "duration": 383,
    "start_time": "2022-01-30T09:42:26.788Z"
   },
   {
    "duration": 13,
    "start_time": "2022-01-30T09:42:27.175Z"
   },
   {
    "duration": 235,
    "start_time": "2022-01-30T09:42:27.191Z"
   },
   {
    "duration": 280,
    "start_time": "2022-01-30T09:42:27.428Z"
   },
   {
    "duration": 1358,
    "start_time": "2022-01-30T09:42:27.711Z"
   },
   {
    "duration": 20,
    "start_time": "2022-01-30T09:42:29.072Z"
   },
   {
    "duration": 23,
    "start_time": "2022-01-30T09:42:29.094Z"
   },
   {
    "duration": 39,
    "start_time": "2022-01-30T09:42:29.120Z"
   },
   {
    "duration": 88,
    "start_time": "2022-01-30T09:42:29.161Z"
   },
   {
    "duration": 292,
    "start_time": "2022-01-30T09:42:29.251Z"
   },
   {
    "duration": 295,
    "start_time": "2022-01-30T09:42:29.545Z"
   },
   {
    "duration": 293,
    "start_time": "2022-01-30T09:42:29.843Z"
   },
   {
    "duration": 312,
    "start_time": "2022-01-30T09:42:30.138Z"
   },
   {
    "duration": 246,
    "start_time": "2022-01-30T09:42:30.453Z"
   },
   {
    "duration": 7,
    "start_time": "2022-01-30T09:42:30.702Z"
   },
   {
    "duration": 15,
    "start_time": "2022-01-30T09:42:30.711Z"
   },
   {
    "duration": 58,
    "start_time": "2022-01-30T09:42:30.729Z"
   },
   {
    "duration": 486,
    "start_time": "2022-01-30T09:42:30.789Z"
   },
   {
    "duration": 6,
    "start_time": "2022-01-30T09:42:31.278Z"
   },
   {
    "duration": 38,
    "start_time": "2022-01-30T09:42:31.286Z"
   },
   {
    "duration": 29,
    "start_time": "2022-01-30T09:42:31.327Z"
   },
   {
    "duration": 4929,
    "start_time": "2022-01-30T09:42:31.359Z"
   },
   {
    "duration": 14,
    "start_time": "2022-01-30T09:42:36.291Z"
   },
   {
    "duration": 58,
    "start_time": "2022-01-30T09:42:36.308Z"
   },
   {
    "duration": 12,
    "start_time": "2022-01-30T09:42:36.369Z"
   },
   {
    "duration": 5365,
    "start_time": "2022-01-30T09:42:36.384Z"
   },
   {
    "duration": 15,
    "start_time": "2022-01-30T09:42:41.754Z"
   },
   {
    "duration": 13,
    "start_time": "2022-01-30T09:42:41.772Z"
   },
   {
    "duration": 487,
    "start_time": "2022-01-30T09:42:41.788Z"
   },
   {
    "duration": 711,
    "start_time": "2022-01-30T09:42:42.278Z"
   },
   {
    "duration": 477,
    "start_time": "2022-01-30T09:42:42.992Z"
   },
   {
    "duration": 13,
    "start_time": "2022-01-30T09:42:43.472Z"
   },
   {
    "duration": 407,
    "start_time": "2022-01-30T09:42:43.487Z"
   },
   {
    "duration": 671,
    "start_time": "2022-01-30T09:42:43.897Z"
   },
   {
    "duration": 511,
    "start_time": "2022-01-30T09:42:44.571Z"
   },
   {
    "duration": -304,
    "start_time": "2022-01-30T09:46:49.840Z"
   },
   {
    "duration": 55,
    "start_time": "2022-01-30T09:46:55.365Z"
   },
   {
    "duration": 31,
    "start_time": "2022-01-30T09:47:16.186Z"
   },
   {
    "duration": 3,
    "start_time": "2022-01-30T09:48:45.522Z"
   },
   {
    "duration": 7,
    "start_time": "2022-01-30T09:49:15.944Z"
   },
   {
    "duration": 24,
    "start_time": "2022-01-30T09:49:25.885Z"
   },
   {
    "duration": 22,
    "start_time": "2022-01-30T09:49:41.504Z"
   },
   {
    "duration": 15,
    "start_time": "2022-01-30T09:49:50.987Z"
   },
   {
    "duration": 963,
    "start_time": "2022-01-30T09:54:07.200Z"
   },
   {
    "duration": 389,
    "start_time": "2022-01-30T09:55:02.971Z"
   },
   {
    "duration": 385,
    "start_time": "2022-01-30T10:00:57.944Z"
   },
   {
    "duration": 547,
    "start_time": "2022-01-30T10:03:03.106Z"
   },
   {
    "duration": 385,
    "start_time": "2022-01-30T10:04:21.853Z"
   },
   {
    "duration": 676,
    "start_time": "2022-01-30T10:04:35.631Z"
   },
   {
    "duration": 653,
    "start_time": "2022-01-30T10:04:53.316Z"
   },
   {
    "duration": 464,
    "start_time": "2022-01-30T10:05:02.432Z"
   },
   {
    "duration": 382,
    "start_time": "2022-01-30T10:06:09.598Z"
   },
   {
    "duration": 1530,
    "start_time": "2022-01-30T10:08:45.418Z"
   },
   {
    "duration": 332,
    "start_time": "2022-01-30T10:12:59.239Z"
   },
   {
    "duration": 342,
    "start_time": "2022-01-30T10:13:46.524Z"
   },
   {
    "duration": 334,
    "start_time": "2022-01-30T10:14:04.131Z"
   },
   {
    "duration": 365,
    "start_time": "2022-01-30T10:14:14.599Z"
   },
   {
    "duration": 364,
    "start_time": "2022-01-30T10:14:19.883Z"
   },
   {
    "duration": 355,
    "start_time": "2022-01-30T10:14:25.724Z"
   },
   {
    "duration": 352,
    "start_time": "2022-01-30T10:14:34.177Z"
   },
   {
    "duration": 545,
    "start_time": "2022-01-30T10:18:27.335Z"
   },
   {
    "duration": 812,
    "start_time": "2022-01-30T10:18:45.796Z"
   },
   {
    "duration": 373,
    "start_time": "2022-01-30T10:18:49.755Z"
   },
   {
    "duration": 283,
    "start_time": "2022-01-30T10:19:07.545Z"
   },
   {
    "duration": 410,
    "start_time": "2022-01-30T10:19:17.481Z"
   },
   {
    "duration": 399,
    "start_time": "2022-01-30T10:19:25.410Z"
   },
   {
    "duration": 378,
    "start_time": "2022-01-30T10:22:08.093Z"
   },
   {
    "duration": 377,
    "start_time": "2022-01-30T10:22:17.529Z"
   },
   {
    "duration": 540,
    "start_time": "2022-01-30T10:22:23.921Z"
   },
   {
    "duration": 426,
    "start_time": "2022-01-30T10:23:50.713Z"
   },
   {
    "duration": 567,
    "start_time": "2022-01-30T10:23:54.044Z"
   },
   {
    "duration": 405,
    "start_time": "2022-01-30T10:25:40.200Z"
   },
   {
    "duration": 5499,
    "start_time": "2022-01-30T10:26:15.657Z"
   },
   {
    "duration": 5638,
    "start_time": "2022-01-30T10:26:52.729Z"
   },
   {
    "duration": 5458,
    "start_time": "2022-01-30T10:27:33.786Z"
   },
   {
    "duration": 5873,
    "start_time": "2022-01-30T10:28:54.626Z"
   },
   {
    "duration": 5445,
    "start_time": "2022-01-30T10:30:03.035Z"
   },
   {
    "duration": 1554,
    "start_time": "2022-01-30T19:32:42.839Z"
   },
   {
    "duration": 341,
    "start_time": "2022-01-30T19:32:44.396Z"
   },
   {
    "duration": 57,
    "start_time": "2022-01-30T19:32:44.740Z"
   },
   {
    "duration": 38,
    "start_time": "2022-01-30T19:32:44.799Z"
   },
   {
    "duration": 18,
    "start_time": "2022-01-30T19:32:44.840Z"
   },
   {
    "duration": 23,
    "start_time": "2022-01-30T19:32:44.860Z"
   },
   {
    "duration": 60,
    "start_time": "2022-01-30T19:32:44.886Z"
   },
   {
    "duration": 868,
    "start_time": "2022-01-30T19:32:44.950Z"
   },
   {
    "duration": 25,
    "start_time": "2022-01-30T19:32:45.825Z"
   },
   {
    "duration": 5,
    "start_time": "2022-01-30T19:32:45.853Z"
   },
   {
    "duration": 23,
    "start_time": "2022-01-30T19:32:45.860Z"
   },
   {
    "duration": 51,
    "start_time": "2022-01-30T19:32:45.885Z"
   },
   {
    "duration": 6,
    "start_time": "2022-01-30T19:32:45.939Z"
   },
   {
    "duration": 6,
    "start_time": "2022-01-30T19:32:45.948Z"
   },
   {
    "duration": 23,
    "start_time": "2022-01-30T19:32:45.957Z"
   },
   {
    "duration": 14,
    "start_time": "2022-01-30T19:32:46.022Z"
   },
   {
    "duration": 7,
    "start_time": "2022-01-30T19:32:46.038Z"
   },
   {
    "duration": 6,
    "start_time": "2022-01-30T19:32:46.048Z"
   },
   {
    "duration": 24,
    "start_time": "2022-01-30T19:32:46.057Z"
   },
   {
    "duration": 48,
    "start_time": "2022-01-30T19:32:46.083Z"
   },
   {
    "duration": 28,
    "start_time": "2022-01-30T19:32:46.133Z"
   },
   {
    "duration": 22,
    "start_time": "2022-01-30T19:32:46.163Z"
   },
   {
    "duration": 46,
    "start_time": "2022-01-30T19:32:46.192Z"
   },
   {
    "duration": 4,
    "start_time": "2022-01-30T19:32:46.241Z"
   },
   {
    "duration": 7,
    "start_time": "2022-01-30T19:32:46.248Z"
   },
   {
    "duration": 7,
    "start_time": "2022-01-30T19:32:46.258Z"
   },
   {
    "duration": 66,
    "start_time": "2022-01-30T19:32:46.267Z"
   },
   {
    "duration": 12,
    "start_time": "2022-01-30T19:32:46.336Z"
   },
   {
    "duration": 15,
    "start_time": "2022-01-30T19:32:46.351Z"
   },
   {
    "duration": 8,
    "start_time": "2022-01-30T19:32:46.368Z"
   },
   {
    "duration": 9,
    "start_time": "2022-01-30T19:32:46.378Z"
   },
   {
    "duration": 7,
    "start_time": "2022-01-30T19:32:46.424Z"
   },
   {
    "duration": 5,
    "start_time": "2022-01-30T19:32:46.434Z"
   },
   {
    "duration": 19,
    "start_time": "2022-01-30T19:32:46.441Z"
   },
   {
    "duration": 15,
    "start_time": "2022-01-30T19:32:46.463Z"
   },
   {
    "duration": 42,
    "start_time": "2022-01-30T19:32:46.481Z"
   },
   {
    "duration": 21,
    "start_time": "2022-01-30T19:32:46.525Z"
   },
   {
    "duration": 7,
    "start_time": "2022-01-30T19:32:46.548Z"
   },
   {
    "duration": 21,
    "start_time": "2022-01-30T19:32:46.557Z"
   },
   {
    "duration": 63,
    "start_time": "2022-01-30T19:32:46.581Z"
   },
   {
    "duration": 10,
    "start_time": "2022-01-30T19:32:46.647Z"
   },
   {
    "duration": 10,
    "start_time": "2022-01-30T19:32:46.660Z"
   },
   {
    "duration": 56,
    "start_time": "2022-01-30T19:32:46.672Z"
   },
   {
    "duration": 15,
    "start_time": "2022-01-30T19:32:46.731Z"
   },
   {
    "duration": 5,
    "start_time": "2022-01-30T19:32:46.749Z"
   },
   {
    "duration": 14,
    "start_time": "2022-01-30T19:32:46.756Z"
   },
   {
    "duration": 5,
    "start_time": "2022-01-30T19:32:46.772Z"
   },
   {
    "duration": 14,
    "start_time": "2022-01-30T19:32:46.779Z"
   },
   {
    "duration": 13,
    "start_time": "2022-01-30T19:32:46.824Z"
   },
   {
    "duration": 27,
    "start_time": "2022-01-30T19:32:46.839Z"
   },
   {
    "duration": 5,
    "start_time": "2022-01-30T19:32:46.868Z"
   },
   {
    "duration": 13,
    "start_time": "2022-01-30T19:32:46.875Z"
   },
   {
    "duration": 36,
    "start_time": "2022-01-30T19:32:46.890Z"
   },
   {
    "duration": 17,
    "start_time": "2022-01-30T19:32:46.928Z"
   },
   {
    "duration": 23,
    "start_time": "2022-01-30T19:32:46.948Z"
   },
   {
    "duration": 76,
    "start_time": "2022-01-30T19:32:46.973Z"
   },
   {
    "duration": 21,
    "start_time": "2022-01-30T19:32:47.051Z"
   },
   {
    "duration": 20,
    "start_time": "2022-01-30T19:32:47.075Z"
   },
   {
    "duration": 20,
    "start_time": "2022-01-30T19:32:47.124Z"
   },
   {
    "duration": 13,
    "start_time": "2022-01-30T19:32:47.147Z"
   },
   {
    "duration": 15,
    "start_time": "2022-01-30T19:32:47.163Z"
   },
   {
    "duration": 74,
    "start_time": "2022-01-30T19:32:47.181Z"
   },
   {
    "duration": 12,
    "start_time": "2022-01-30T19:32:47.258Z"
   },
   {
    "duration": 81,
    "start_time": "2022-01-30T19:32:47.272Z"
   },
   {
    "duration": 29,
    "start_time": "2022-01-30T19:32:47.356Z"
   },
   {
    "duration": 38,
    "start_time": "2022-01-30T19:32:47.387Z"
   },
   {
    "duration": 11,
    "start_time": "2022-01-30T19:32:47.427Z"
   },
   {
    "duration": 5,
    "start_time": "2022-01-30T19:32:47.447Z"
   },
   {
    "duration": 7,
    "start_time": "2022-01-30T19:32:47.456Z"
   },
   {
    "duration": 409,
    "start_time": "2022-01-30T19:32:47.465Z"
   },
   {
    "duration": 13,
    "start_time": "2022-01-30T19:32:47.877Z"
   },
   {
    "duration": 31,
    "start_time": "2022-01-30T19:32:47.892Z"
   },
   {
    "duration": 6,
    "start_time": "2022-01-30T19:32:47.926Z"
   },
   {
    "duration": 10,
    "start_time": "2022-01-30T19:32:47.935Z"
   },
   {
    "duration": 401,
    "start_time": "2022-01-30T19:32:47.948Z"
   },
   {
    "duration": 12,
    "start_time": "2022-01-30T19:32:48.351Z"
   },
   {
    "duration": 7,
    "start_time": "2022-01-30T19:32:48.366Z"
   },
   {
    "duration": 6,
    "start_time": "2022-01-30T19:32:48.376Z"
   },
   {
    "duration": 394,
    "start_time": "2022-01-30T19:32:48.384Z"
   },
   {
    "duration": 12,
    "start_time": "2022-01-30T19:32:48.780Z"
   },
   {
    "duration": 234,
    "start_time": "2022-01-30T19:32:48.794Z"
   },
   {
    "duration": 431,
    "start_time": "2022-01-30T19:32:49.031Z"
   },
   {
    "duration": 11,
    "start_time": "2022-01-30T19:32:49.465Z"
   },
   {
    "duration": 235,
    "start_time": "2022-01-30T19:32:49.478Z"
   },
   {
    "duration": 339,
    "start_time": "2022-01-30T19:32:49.715Z"
   },
   {
    "duration": 1306,
    "start_time": "2022-01-30T19:32:50.056Z"
   },
   {
    "duration": 18,
    "start_time": "2022-01-30T19:32:51.364Z"
   },
   {
    "duration": 39,
    "start_time": "2022-01-30T19:32:51.385Z"
   },
   {
    "duration": 16,
    "start_time": "2022-01-30T19:32:51.426Z"
   },
   {
    "duration": 96,
    "start_time": "2022-01-30T19:32:51.444Z"
   },
   {
    "duration": 398,
    "start_time": "2022-01-30T19:32:51.542Z"
   },
   {
    "duration": 426,
    "start_time": "2022-01-30T19:32:51.943Z"
   },
   {
    "duration": 405,
    "start_time": "2022-01-30T19:32:52.372Z"
   },
   {
    "duration": 416,
    "start_time": "2022-01-30T19:32:52.780Z"
   },
   {
    "duration": 326,
    "start_time": "2022-01-30T19:32:53.199Z"
   },
   {
    "duration": 7,
    "start_time": "2022-01-30T19:32:53.527Z"
   },
   {
    "duration": 9,
    "start_time": "2022-01-30T19:32:53.537Z"
   },
   {
    "duration": 38,
    "start_time": "2022-01-30T19:32:53.548Z"
   },
   {
    "duration": 441,
    "start_time": "2022-01-30T19:32:53.589Z"
   },
   {
    "duration": 6,
    "start_time": "2022-01-30T19:32:54.032Z"
   },
   {
    "duration": 28,
    "start_time": "2022-01-30T19:32:54.041Z"
   },
   {
    "duration": 11,
    "start_time": "2022-01-30T19:32:54.071Z"
   },
   {
    "duration": 4972,
    "start_time": "2022-01-30T19:32:54.084Z"
   },
   {
    "duration": 10,
    "start_time": "2022-01-30T19:32:59.059Z"
   },
   {
    "duration": 55,
    "start_time": "2022-01-30T19:32:59.072Z"
   },
   {
    "duration": 10,
    "start_time": "2022-01-30T19:32:59.129Z"
   },
   {
    "duration": 4848,
    "start_time": "2022-01-30T19:32:59.142Z"
   },
   {
    "duration": 11,
    "start_time": "2022-01-30T19:33:03.992Z"
   },
   {
    "duration": 29,
    "start_time": "2022-01-30T19:33:04.005Z"
   },
   {
    "duration": 389,
    "start_time": "2022-01-30T19:33:04.037Z"
   },
   {
    "duration": 648,
    "start_time": "2022-01-30T19:33:04.428Z"
   },
   {
    "duration": 487,
    "start_time": "2022-01-30T19:33:05.079Z"
   },
   {
    "duration": 13,
    "start_time": "2022-01-30T19:33:05.569Z"
   },
   {
    "duration": 417,
    "start_time": "2022-01-30T19:33:05.585Z"
   },
   {
    "duration": 642,
    "start_time": "2022-01-30T19:33:06.004Z"
   },
   {
    "duration": 476,
    "start_time": "2022-01-30T19:33:06.649Z"
   },
   {
    "duration": 454,
    "start_time": "2022-01-30T19:39:26.119Z"
   },
   {
    "duration": 203,
    "start_time": "2022-01-30T19:39:45.878Z"
   },
   {
    "duration": 940,
    "start_time": "2022-01-30T19:40:13.448Z"
   },
   {
    "duration": 191,
    "start_time": "2022-01-30T19:40:26.540Z"
   },
   {
    "duration": 364,
    "start_time": "2022-01-31T08:24:43.052Z"
   },
   {
    "duration": 368,
    "start_time": "2022-01-31T08:25:04.016Z"
   },
   {
    "duration": 1444,
    "start_time": "2022-01-31T08:25:18.813Z"
   },
   {
    "duration": 298,
    "start_time": "2022-01-31T08:25:20.259Z"
   },
   {
    "duration": 58,
    "start_time": "2022-01-31T08:25:20.568Z"
   },
   {
    "duration": 47,
    "start_time": "2022-01-31T08:25:20.628Z"
   },
   {
    "duration": 21,
    "start_time": "2022-01-31T08:25:20.678Z"
   },
   {
    "duration": 26,
    "start_time": "2022-01-31T08:25:20.702Z"
   },
   {
    "duration": 65,
    "start_time": "2022-01-31T08:25:20.731Z"
   },
   {
    "duration": 624,
    "start_time": "2022-01-31T08:25:20.801Z"
   },
   {
    "duration": 44,
    "start_time": "2022-01-31T08:25:21.428Z"
   },
   {
    "duration": 5,
    "start_time": "2022-01-31T08:25:21.475Z"
   },
   {
    "duration": 41,
    "start_time": "2022-01-31T08:25:21.482Z"
   },
   {
    "duration": 15,
    "start_time": "2022-01-31T08:25:21.525Z"
   },
   {
    "duration": 26,
    "start_time": "2022-01-31T08:25:21.543Z"
   },
   {
    "duration": 6,
    "start_time": "2022-01-31T08:25:21.571Z"
   },
   {
    "duration": 34,
    "start_time": "2022-01-31T08:25:21.580Z"
   },
   {
    "duration": 14,
    "start_time": "2022-01-31T08:25:21.616Z"
   },
   {
    "duration": 6,
    "start_time": "2022-01-31T08:25:21.632Z"
   },
   {
    "duration": 32,
    "start_time": "2022-01-31T08:25:21.640Z"
   },
   {
    "duration": 27,
    "start_time": "2022-01-31T08:25:21.674Z"
   },
   {
    "duration": 12,
    "start_time": "2022-01-31T08:25:21.703Z"
   },
   {
    "duration": 52,
    "start_time": "2022-01-31T08:25:21.717Z"
   },
   {
    "duration": 22,
    "start_time": "2022-01-31T08:25:21.771Z"
   },
   {
    "duration": 28,
    "start_time": "2022-01-31T08:25:21.799Z"
   },
   {
    "duration": 10,
    "start_time": "2022-01-31T08:25:21.831Z"
   },
   {
    "duration": 26,
    "start_time": "2022-01-31T08:25:21.844Z"
   },
   {
    "duration": 8,
    "start_time": "2022-01-31T08:25:21.873Z"
   },
   {
    "duration": 32,
    "start_time": "2022-01-31T08:25:21.883Z"
   },
   {
    "duration": 15,
    "start_time": "2022-01-31T08:25:21.918Z"
   },
   {
    "duration": 52,
    "start_time": "2022-01-31T08:25:21.935Z"
   },
   {
    "duration": 10,
    "start_time": "2022-01-31T08:25:21.990Z"
   },
   {
    "duration": 22,
    "start_time": "2022-01-31T08:25:22.003Z"
   },
   {
    "duration": 18,
    "start_time": "2022-01-31T08:25:22.028Z"
   },
   {
    "duration": 5,
    "start_time": "2022-01-31T08:25:22.069Z"
   },
   {
    "duration": 32,
    "start_time": "2022-01-31T08:25:22.077Z"
   },
   {
    "duration": 20,
    "start_time": "2022-01-31T08:25:22.112Z"
   },
   {
    "duration": 34,
    "start_time": "2022-01-31T08:25:22.135Z"
   },
   {
    "duration": 35,
    "start_time": "2022-01-31T08:25:22.172Z"
   },
   {
    "duration": 16,
    "start_time": "2022-01-31T08:25:22.210Z"
   },
   {
    "duration": 30,
    "start_time": "2022-01-31T08:25:22.229Z"
   },
   {
    "duration": 43,
    "start_time": "2022-01-31T08:25:22.270Z"
   },
   {
    "duration": 10,
    "start_time": "2022-01-31T08:25:22.316Z"
   },
   {
    "duration": 14,
    "start_time": "2022-01-31T08:25:22.329Z"
   },
   {
    "duration": 43,
    "start_time": "2022-01-31T08:25:22.345Z"
   },
   {
    "duration": 9,
    "start_time": "2022-01-31T08:25:22.390Z"
   },
   {
    "duration": 8,
    "start_time": "2022-01-31T08:25:22.402Z"
   },
   {
    "duration": 29,
    "start_time": "2022-01-31T08:25:22.412Z"
   },
   {
    "duration": 6,
    "start_time": "2022-01-31T08:25:22.443Z"
   },
   {
    "duration": 13,
    "start_time": "2022-01-31T08:25:22.468Z"
   },
   {
    "duration": 15,
    "start_time": "2022-01-31T08:25:22.484Z"
   },
   {
    "duration": 40,
    "start_time": "2022-01-31T08:25:22.502Z"
   },
   {
    "duration": 13,
    "start_time": "2022-01-31T08:25:22.545Z"
   },
   {
    "duration": 14,
    "start_time": "2022-01-31T08:25:22.569Z"
   },
   {
    "duration": 22,
    "start_time": "2022-01-31T08:25:22.586Z"
   },
   {
    "duration": 24,
    "start_time": "2022-01-31T08:25:22.610Z"
   },
   {
    "duration": 29,
    "start_time": "2022-01-31T08:25:22.637Z"
   },
   {
    "duration": 45,
    "start_time": "2022-01-31T08:25:22.670Z"
   },
   {
    "duration": 22,
    "start_time": "2022-01-31T08:25:22.717Z"
   },
   {
    "duration": 44,
    "start_time": "2022-01-31T08:25:22.741Z"
   },
   {
    "duration": 22,
    "start_time": "2022-01-31T08:25:22.787Z"
   },
   {
    "duration": 13,
    "start_time": "2022-01-31T08:25:22.811Z"
   },
   {
    "duration": 44,
    "start_time": "2022-01-31T08:25:22.826Z"
   },
   {
    "duration": 34,
    "start_time": "2022-01-31T08:25:22.873Z"
   },
   {
    "duration": 9,
    "start_time": "2022-01-31T08:25:22.909Z"
   },
   {
    "duration": 75,
    "start_time": "2022-01-31T08:25:22.920Z"
   },
   {
    "duration": 28,
    "start_time": "2022-01-31T08:25:22.998Z"
   },
   {
    "duration": 40,
    "start_time": "2022-01-31T08:25:23.029Z"
   },
   {
    "duration": 11,
    "start_time": "2022-01-31T08:25:23.072Z"
   },
   {
    "duration": 15,
    "start_time": "2022-01-31T08:25:23.092Z"
   },
   {
    "duration": 18,
    "start_time": "2022-01-31T08:25:23.110Z"
   },
   {
    "duration": 393,
    "start_time": "2022-01-31T08:25:23.130Z"
   },
   {
    "duration": 12,
    "start_time": "2022-01-31T08:25:23.525Z"
   },
   {
    "duration": 30,
    "start_time": "2022-01-31T08:25:23.539Z"
   },
   {
    "duration": 7,
    "start_time": "2022-01-31T08:25:23.571Z"
   },
   {
    "duration": 7,
    "start_time": "2022-01-31T08:25:23.580Z"
   },
   {
    "duration": 389,
    "start_time": "2022-01-31T08:25:23.590Z"
   },
   {
    "duration": 11,
    "start_time": "2022-01-31T08:25:23.982Z"
   },
   {
    "duration": 7,
    "start_time": "2022-01-31T08:25:23.996Z"
   },
   {
    "duration": 6,
    "start_time": "2022-01-31T08:25:24.006Z"
   },
   {
    "duration": 399,
    "start_time": "2022-01-31T08:25:24.015Z"
   },
   {
    "duration": 12,
    "start_time": "2022-01-31T08:25:24.417Z"
   },
   {
    "duration": 238,
    "start_time": "2022-01-31T08:25:24.431Z"
   },
   {
    "duration": 442,
    "start_time": "2022-01-31T08:25:24.672Z"
   },
   {
    "duration": 11,
    "start_time": "2022-01-31T08:25:25.117Z"
   },
   {
    "duration": 245,
    "start_time": "2022-01-31T08:25:25.130Z"
   },
   {
    "duration": 365,
    "start_time": "2022-01-31T08:25:25.377Z"
   },
   {
    "duration": 1570,
    "start_time": "2022-01-31T08:25:25.744Z"
   },
   {
    "duration": 20,
    "start_time": "2022-01-31T08:25:27.317Z"
   },
   {
    "duration": 41,
    "start_time": "2022-01-31T08:25:27.339Z"
   },
   {
    "duration": 15,
    "start_time": "2022-01-31T08:25:27.382Z"
   },
   {
    "duration": 99,
    "start_time": "2022-01-31T08:25:27.400Z"
   },
   {
    "duration": 425,
    "start_time": "2022-01-31T08:25:27.502Z"
   },
   {
    "duration": 426,
    "start_time": "2022-01-31T08:25:27.930Z"
   },
   {
    "duration": 424,
    "start_time": "2022-01-31T08:25:28.358Z"
   },
   {
    "duration": 420,
    "start_time": "2022-01-31T08:25:28.785Z"
   },
   {
    "duration": 322,
    "start_time": "2022-01-31T08:25:29.207Z"
   },
   {
    "duration": 7,
    "start_time": "2022-01-31T08:25:29.531Z"
   },
   {
    "duration": 30,
    "start_time": "2022-01-31T08:25:29.541Z"
   },
   {
    "duration": 41,
    "start_time": "2022-01-31T08:25:29.574Z"
   },
   {
    "duration": 429,
    "start_time": "2022-01-31T08:25:29.618Z"
   },
   {
    "duration": 6,
    "start_time": "2022-01-31T08:25:30.050Z"
   },
   {
    "duration": 29,
    "start_time": "2022-01-31T08:25:30.070Z"
   },
   {
    "duration": 11,
    "start_time": "2022-01-31T08:25:30.102Z"
   },
   {
    "duration": 4868,
    "start_time": "2022-01-31T08:25:30.116Z"
   },
   {
    "duration": 12,
    "start_time": "2022-01-31T08:25:34.986Z"
   },
   {
    "duration": 31,
    "start_time": "2022-01-31T08:25:35.000Z"
   },
   {
    "duration": 43,
    "start_time": "2022-01-31T08:25:35.034Z"
   },
   {
    "duration": 5317,
    "start_time": "2022-01-31T08:25:35.079Z"
   },
   {
    "duration": 10,
    "start_time": "2022-01-31T08:25:40.399Z"
   },
   {
    "duration": 16,
    "start_time": "2022-01-31T08:25:40.411Z"
   },
   {
    "duration": 432,
    "start_time": "2022-01-31T08:25:40.430Z"
   },
   {
    "duration": 775,
    "start_time": "2022-01-31T08:25:40.864Z"
   },
   {
    "duration": 494,
    "start_time": "2022-01-31T08:25:41.642Z"
   },
   {
    "duration": 13,
    "start_time": "2022-01-31T08:25:42.138Z"
   },
   {
    "duration": 400,
    "start_time": "2022-01-31T08:25:42.169Z"
   },
   {
    "duration": 659,
    "start_time": "2022-01-31T08:25:42.571Z"
   },
   {
    "duration": 492,
    "start_time": "2022-01-31T08:25:43.233Z"
   },
   {
    "duration": 324,
    "start_time": "2022-01-31T08:26:22.912Z"
   },
   {
    "duration": 218,
    "start_time": "2022-01-31T08:26:48.845Z"
   },
   {
    "duration": 395,
    "start_time": "2022-01-31T08:27:35.724Z"
   },
   {
    "duration": 389,
    "start_time": "2022-01-31T08:29:31.278Z"
   },
   {
    "duration": 494,
    "start_time": "2022-01-31T08:29:42.875Z"
   },
   {
    "duration": 644,
    "start_time": "2022-01-31T08:30:45.610Z"
   },
   {
    "duration": 464,
    "start_time": "2022-01-31T08:31:03.047Z"
   },
   {
    "duration": 400,
    "start_time": "2022-01-31T08:31:45.706Z"
   },
   {
    "duration": 653,
    "start_time": "2022-01-31T08:32:01.729Z"
   },
   {
    "duration": 647,
    "start_time": "2022-01-31T08:32:04.010Z"
   },
   {
    "duration": 477,
    "start_time": "2022-01-31T08:32:15.506Z"
   },
   {
    "duration": 790,
    "start_time": "2022-01-31T08:45:28.881Z"
   },
   {
    "duration": 1527,
    "start_time": "2022-01-31T08:45:36.448Z"
   },
   {
    "duration": 285,
    "start_time": "2022-01-31T08:45:37.978Z"
   },
   {
    "duration": 57,
    "start_time": "2022-01-31T08:45:38.266Z"
   },
   {
    "duration": 27,
    "start_time": "2022-01-31T08:45:38.326Z"
   },
   {
    "duration": 23,
    "start_time": "2022-01-31T08:45:38.355Z"
   },
   {
    "duration": 35,
    "start_time": "2022-01-31T08:45:38.381Z"
   },
   {
    "duration": 25,
    "start_time": "2022-01-31T08:45:38.418Z"
   },
   {
    "duration": 734,
    "start_time": "2022-01-31T08:45:38.445Z"
   },
   {
    "duration": 28,
    "start_time": "2022-01-31T08:45:39.183Z"
   },
   {
    "duration": 5,
    "start_time": "2022-01-31T08:45:39.214Z"
   },
   {
    "duration": 53,
    "start_time": "2022-01-31T08:45:39.221Z"
   },
   {
    "duration": 15,
    "start_time": "2022-01-31T08:45:39.276Z"
   },
   {
    "duration": 6,
    "start_time": "2022-01-31T08:45:39.293Z"
   },
   {
    "duration": 5,
    "start_time": "2022-01-31T08:45:39.302Z"
   },
   {
    "duration": 62,
    "start_time": "2022-01-31T08:45:39.309Z"
   },
   {
    "duration": 14,
    "start_time": "2022-01-31T08:45:39.373Z"
   },
   {
    "duration": 5,
    "start_time": "2022-01-31T08:45:39.390Z"
   },
   {
    "duration": 7,
    "start_time": "2022-01-31T08:45:39.398Z"
   },
   {
    "duration": 23,
    "start_time": "2022-01-31T08:45:39.407Z"
   },
   {
    "duration": 43,
    "start_time": "2022-01-31T08:45:39.433Z"
   },
   {
    "duration": 19,
    "start_time": "2022-01-31T08:45:39.479Z"
   },
   {
    "duration": 19,
    "start_time": "2022-01-31T08:45:39.500Z"
   },
   {
    "duration": 57,
    "start_time": "2022-01-31T08:45:39.522Z"
   },
   {
    "duration": 5,
    "start_time": "2022-01-31T08:45:39.581Z"
   },
   {
    "duration": 7,
    "start_time": "2022-01-31T08:45:39.588Z"
   },
   {
    "duration": 7,
    "start_time": "2022-01-31T08:45:39.597Z"
   },
   {
    "duration": 65,
    "start_time": "2022-01-31T08:45:39.612Z"
   },
   {
    "duration": 13,
    "start_time": "2022-01-31T08:45:39.681Z"
   },
   {
    "duration": 22,
    "start_time": "2022-01-31T08:45:39.697Z"
   },
   {
    "duration": 9,
    "start_time": "2022-01-31T08:45:39.721Z"
   },
   {
    "duration": 39,
    "start_time": "2022-01-31T08:45:39.732Z"
   },
   {
    "duration": 18,
    "start_time": "2022-01-31T08:45:39.773Z"
   },
   {
    "duration": 7,
    "start_time": "2022-01-31T08:45:39.793Z"
   },
   {
    "duration": 25,
    "start_time": "2022-01-31T08:45:39.802Z"
   },
   {
    "duration": 43,
    "start_time": "2022-01-31T08:45:39.829Z"
   },
   {
    "duration": 5,
    "start_time": "2022-01-31T08:45:39.874Z"
   },
   {
    "duration": 26,
    "start_time": "2022-01-31T08:45:39.881Z"
   },
   {
    "duration": 6,
    "start_time": "2022-01-31T08:45:39.909Z"
   },
   {
    "duration": 54,
    "start_time": "2022-01-31T08:45:39.917Z"
   },
   {
    "duration": 33,
    "start_time": "2022-01-31T08:45:39.973Z"
   },
   {
    "duration": 20,
    "start_time": "2022-01-31T08:45:40.008Z"
   },
   {
    "duration": 17,
    "start_time": "2022-01-31T08:45:40.030Z"
   },
   {
    "duration": 35,
    "start_time": "2022-01-31T08:45:40.050Z"
   },
   {
    "duration": 11,
    "start_time": "2022-01-31T08:45:40.088Z"
   },
   {
    "duration": 5,
    "start_time": "2022-01-31T08:45:40.101Z"
   },
   {
    "duration": 13,
    "start_time": "2022-01-31T08:45:40.108Z"
   },
   {
    "duration": 6,
    "start_time": "2022-01-31T08:45:40.123Z"
   },
   {
    "duration": 48,
    "start_time": "2022-01-31T08:45:40.131Z"
   },
   {
    "duration": 13,
    "start_time": "2022-01-31T08:45:40.181Z"
   },
   {
    "duration": 26,
    "start_time": "2022-01-31T08:45:40.197Z"
   },
   {
    "duration": 4,
    "start_time": "2022-01-31T08:45:40.226Z"
   },
   {
    "duration": 46,
    "start_time": "2022-01-31T08:45:40.233Z"
   },
   {
    "duration": 6,
    "start_time": "2022-01-31T08:45:40.281Z"
   },
   {
    "duration": 16,
    "start_time": "2022-01-31T08:45:40.290Z"
   },
   {
    "duration": 24,
    "start_time": "2022-01-31T08:45:40.309Z"
   },
   {
    "duration": 44,
    "start_time": "2022-01-31T08:45:40.370Z"
   },
   {
    "duration": 24,
    "start_time": "2022-01-31T08:45:40.416Z"
   },
   {
    "duration": 46,
    "start_time": "2022-01-31T08:45:40.443Z"
   },
   {
    "duration": 21,
    "start_time": "2022-01-31T08:45:40.491Z"
   },
   {
    "duration": 13,
    "start_time": "2022-01-31T08:45:40.515Z"
   },
   {
    "duration": 47,
    "start_time": "2022-01-31T08:45:40.530Z"
   },
   {
    "duration": 33,
    "start_time": "2022-01-31T08:45:40.580Z"
   },
   {
    "duration": 8,
    "start_time": "2022-01-31T08:45:40.616Z"
   },
   {
    "duration": 84,
    "start_time": "2022-01-31T08:45:40.626Z"
   },
   {
    "duration": 28,
    "start_time": "2022-01-31T08:45:40.712Z"
   },
   {
    "duration": 37,
    "start_time": "2022-01-31T08:45:40.743Z"
   },
   {
    "duration": 12,
    "start_time": "2022-01-31T08:45:40.783Z"
   },
   {
    "duration": 6,
    "start_time": "2022-01-31T08:45:40.797Z"
   },
   {
    "duration": 12,
    "start_time": "2022-01-31T08:45:40.805Z"
   },
   {
    "duration": 416,
    "start_time": "2022-01-31T08:45:40.819Z"
   },
   {
    "duration": 11,
    "start_time": "2022-01-31T08:45:41.238Z"
   },
   {
    "duration": 23,
    "start_time": "2022-01-31T08:45:41.251Z"
   },
   {
    "duration": 7,
    "start_time": "2022-01-31T08:45:41.277Z"
   },
   {
    "duration": 8,
    "start_time": "2022-01-31T08:45:41.286Z"
   },
   {
    "duration": 404,
    "start_time": "2022-01-31T08:45:41.296Z"
   },
   {
    "duration": 12,
    "start_time": "2022-01-31T08:45:41.702Z"
   },
   {
    "duration": 5,
    "start_time": "2022-01-31T08:45:41.717Z"
   },
   {
    "duration": 6,
    "start_time": "2022-01-31T08:45:41.725Z"
   },
   {
    "duration": 372,
    "start_time": "2022-01-31T08:45:41.768Z"
   },
   {
    "duration": 11,
    "start_time": "2022-01-31T08:45:42.143Z"
   },
   {
    "duration": 227,
    "start_time": "2022-01-31T08:45:42.176Z"
   },
   {
    "duration": 466,
    "start_time": "2022-01-31T08:45:42.406Z"
   },
   {
    "duration": 13,
    "start_time": "2022-01-31T08:45:42.875Z"
   },
   {
    "duration": 245,
    "start_time": "2022-01-31T08:45:42.891Z"
   },
   {
    "duration": 369,
    "start_time": "2022-01-31T08:45:43.139Z"
   },
   {
    "duration": 1369,
    "start_time": "2022-01-31T08:45:43.510Z"
   },
   {
    "duration": 20,
    "start_time": "2022-01-31T08:45:44.882Z"
   },
   {
    "duration": 22,
    "start_time": "2022-01-31T08:45:44.905Z"
   },
   {
    "duration": 51,
    "start_time": "2022-01-31T08:45:44.929Z"
   },
   {
    "duration": 97,
    "start_time": "2022-01-31T08:45:44.983Z"
   },
   {
    "duration": 436,
    "start_time": "2022-01-31T08:45:45.084Z"
   },
   {
    "duration": 433,
    "start_time": "2022-01-31T08:45:45.523Z"
   },
   {
    "duration": 426,
    "start_time": "2022-01-31T08:45:45.958Z"
   },
   {
    "duration": 431,
    "start_time": "2022-01-31T08:45:46.386Z"
   },
   {
    "duration": 326,
    "start_time": "2022-01-31T08:45:46.820Z"
   },
   {
    "duration": 19,
    "start_time": "2022-01-31T08:45:47.149Z"
   },
   {
    "duration": 8,
    "start_time": "2022-01-31T08:45:47.171Z"
   },
   {
    "duration": 43,
    "start_time": "2022-01-31T08:45:47.181Z"
   },
   {
    "duration": 450,
    "start_time": "2022-01-31T08:45:47.226Z"
   },
   {
    "duration": 7,
    "start_time": "2022-01-31T08:45:47.678Z"
   },
   {
    "duration": 30,
    "start_time": "2022-01-31T08:45:47.687Z"
   },
   {
    "duration": 11,
    "start_time": "2022-01-31T08:45:47.719Z"
   },
   {
    "duration": 4872,
    "start_time": "2022-01-31T08:45:47.733Z"
   },
   {
    "duration": 12,
    "start_time": "2022-01-31T08:45:52.607Z"
   },
   {
    "duration": 58,
    "start_time": "2022-01-31T08:45:52.621Z"
   },
   {
    "duration": 11,
    "start_time": "2022-01-31T08:45:52.681Z"
   },
   {
    "duration": 5340,
    "start_time": "2022-01-31T08:45:52.695Z"
   },
   {
    "duration": 11,
    "start_time": "2022-01-31T08:45:58.038Z"
   },
   {
    "duration": 14,
    "start_time": "2022-01-31T08:45:58.068Z"
   },
   {
    "duration": 420,
    "start_time": "2022-01-31T08:45:58.085Z"
   },
   {
    "duration": 674,
    "start_time": "2022-01-31T08:45:58.508Z"
   },
   {
    "duration": 522,
    "start_time": "2022-01-31T08:45:59.185Z"
   },
   {
    "duration": 14,
    "start_time": "2022-01-31T08:45:59.709Z"
   },
   {
    "duration": 413,
    "start_time": "2022-01-31T08:45:59.725Z"
   },
   {
    "duration": 666,
    "start_time": "2022-01-31T08:46:00.140Z"
   },
   {
    "duration": 617,
    "start_time": "2022-01-31T08:46:00.809Z"
   },
   {
    "duration": 1732,
    "start_time": "2022-01-31T18:10:49.342Z"
   },
   {
    "duration": 549,
    "start_time": "2022-01-31T18:10:51.084Z"
   },
   {
    "duration": 71,
    "start_time": "2022-01-31T18:10:51.636Z"
   },
   {
    "duration": 61,
    "start_time": "2022-01-31T18:10:51.710Z"
   },
   {
    "duration": 37,
    "start_time": "2022-01-31T18:10:51.778Z"
   },
   {
    "duration": 56,
    "start_time": "2022-01-31T18:10:51.819Z"
   },
   {
    "duration": 36,
    "start_time": "2022-01-31T18:10:51.882Z"
   },
   {
    "duration": 1135,
    "start_time": "2022-01-31T18:10:51.921Z"
   },
   {
    "duration": 33,
    "start_time": "2022-01-31T18:10:53.060Z"
   },
   {
    "duration": 7,
    "start_time": "2022-01-31T18:10:53.096Z"
   },
   {
    "duration": 52,
    "start_time": "2022-01-31T18:10:53.106Z"
   },
   {
    "duration": 22,
    "start_time": "2022-01-31T18:10:53.164Z"
   },
   {
    "duration": 8,
    "start_time": "2022-01-31T18:10:53.189Z"
   },
   {
    "duration": 7,
    "start_time": "2022-01-31T18:10:53.201Z"
   },
   {
    "duration": 56,
    "start_time": "2022-01-31T18:10:53.211Z"
   },
   {
    "duration": 26,
    "start_time": "2022-01-31T18:10:53.269Z"
   },
   {
    "duration": 33,
    "start_time": "2022-01-31T18:10:53.300Z"
   },
   {
    "duration": 8,
    "start_time": "2022-01-31T18:10:53.348Z"
   },
   {
    "duration": 43,
    "start_time": "2022-01-31T18:10:53.360Z"
   },
   {
    "duration": 11,
    "start_time": "2022-01-31T18:10:53.406Z"
   },
   {
    "duration": 27,
    "start_time": "2022-01-31T18:10:53.420Z"
   },
   {
    "duration": 51,
    "start_time": "2022-01-31T18:10:53.450Z"
   },
   {
    "duration": 36,
    "start_time": "2022-01-31T18:10:53.503Z"
   },
   {
    "duration": 9,
    "start_time": "2022-01-31T18:10:53.542Z"
   },
   {
    "duration": 37,
    "start_time": "2022-01-31T18:10:53.555Z"
   },
   {
    "duration": 8,
    "start_time": "2022-01-31T18:10:53.595Z"
   },
   {
    "duration": 51,
    "start_time": "2022-01-31T18:10:53.607Z"
   },
   {
    "duration": 18,
    "start_time": "2022-01-31T18:10:53.660Z"
   },
   {
    "duration": 45,
    "start_time": "2022-01-31T18:10:53.681Z"
   },
   {
    "duration": 38,
    "start_time": "2022-01-31T18:10:53.733Z"
   },
   {
    "duration": 26,
    "start_time": "2022-01-31T18:10:53.775Z"
   },
   {
    "duration": 11,
    "start_time": "2022-01-31T18:10:53.805Z"
   },
   {
    "duration": 23,
    "start_time": "2022-01-31T18:10:53.819Z"
   },
   {
    "duration": 63,
    "start_time": "2022-01-31T18:10:53.845Z"
   },
   {
    "duration": 30,
    "start_time": "2022-01-31T18:10:53.911Z"
   },
   {
    "duration": 5,
    "start_time": "2022-01-31T18:10:53.944Z"
   },
   {
    "duration": 54,
    "start_time": "2022-01-31T18:10:53.952Z"
   },
   {
    "duration": 8,
    "start_time": "2022-01-31T18:10:54.008Z"
   },
   {
    "duration": 59,
    "start_time": "2022-01-31T18:10:54.018Z"
   },
   {
    "duration": 27,
    "start_time": "2022-01-31T18:10:54.080Z"
   },
   {
    "duration": 31,
    "start_time": "2022-01-31T18:10:54.110Z"
   },
   {
    "duration": 25,
    "start_time": "2022-01-31T18:10:54.144Z"
   },
   {
    "duration": 42,
    "start_time": "2022-01-31T18:10:54.171Z"
   },
   {
    "duration": 31,
    "start_time": "2022-01-31T18:10:54.216Z"
   },
   {
    "duration": 29,
    "start_time": "2022-01-31T18:10:54.252Z"
   },
   {
    "duration": 13,
    "start_time": "2022-01-31T18:10:54.284Z"
   },
   {
    "duration": 5,
    "start_time": "2022-01-31T18:10:54.300Z"
   },
   {
    "duration": 23,
    "start_time": "2022-01-31T18:10:54.308Z"
   },
   {
    "duration": 67,
    "start_time": "2022-01-31T18:10:54.334Z"
   },
   {
    "duration": 32,
    "start_time": "2022-01-31T18:10:54.404Z"
   },
   {
    "duration": 41,
    "start_time": "2022-01-31T18:10:54.439Z"
   },
   {
    "duration": 17,
    "start_time": "2022-01-31T18:10:54.483Z"
   },
   {
    "duration": 7,
    "start_time": "2022-01-31T18:10:54.503Z"
   },
   {
    "duration": 32,
    "start_time": "2022-01-31T18:10:54.520Z"
   },
   {
    "duration": 48,
    "start_time": "2022-01-31T18:10:54.558Z"
   },
   {
    "duration": 72,
    "start_time": "2022-01-31T18:10:54.609Z"
   },
   {
    "duration": 40,
    "start_time": "2022-01-31T18:10:54.683Z"
   },
   {
    "duration": 36,
    "start_time": "2022-01-31T18:10:54.725Z"
   },
   {
    "duration": 51,
    "start_time": "2022-01-31T18:10:54.764Z"
   },
   {
    "duration": 31,
    "start_time": "2022-01-31T18:10:54.819Z"
   },
   {
    "duration": 40,
    "start_time": "2022-01-31T18:10:54.853Z"
   },
   {
    "duration": 67,
    "start_time": "2022-01-31T18:10:54.895Z"
   },
   {
    "duration": 20,
    "start_time": "2022-01-31T18:10:54.967Z"
   },
   {
    "duration": 80,
    "start_time": "2022-01-31T18:10:54.990Z"
   },
   {
    "duration": 32,
    "start_time": "2022-01-31T18:10:55.072Z"
   },
   {
    "duration": 24,
    "start_time": "2022-01-31T18:10:55.107Z"
   },
   {
    "duration": 56,
    "start_time": "2022-01-31T18:10:55.134Z"
   },
   {
    "duration": 6,
    "start_time": "2022-01-31T18:10:55.192Z"
   },
   {
    "duration": 6,
    "start_time": "2022-01-31T18:10:55.200Z"
   },
   {
    "duration": 491,
    "start_time": "2022-01-31T18:10:55.208Z"
   },
   {
    "duration": 39,
    "start_time": "2022-01-31T18:10:55.702Z"
   },
   {
    "duration": 8,
    "start_time": "2022-01-31T18:10:55.743Z"
   },
   {
    "duration": 34,
    "start_time": "2022-01-31T18:10:55.754Z"
   },
   {
    "duration": 10,
    "start_time": "2022-01-31T18:10:55.791Z"
   },
   {
    "duration": 471,
    "start_time": "2022-01-31T18:10:55.804Z"
   },
   {
    "duration": 15,
    "start_time": "2022-01-31T18:10:56.277Z"
   },
   {
    "duration": 6,
    "start_time": "2022-01-31T18:10:56.295Z"
   },
   {
    "duration": 37,
    "start_time": "2022-01-31T18:10:56.304Z"
   },
   {
    "duration": 455,
    "start_time": "2022-01-31T18:10:56.343Z"
   },
   {
    "duration": 34,
    "start_time": "2022-01-31T18:10:56.801Z"
   },
   {
    "duration": 245,
    "start_time": "2022-01-31T18:10:56.841Z"
   },
   {
    "duration": 564,
    "start_time": "2022-01-31T18:10:57.089Z"
   },
   {
    "duration": 19,
    "start_time": "2022-01-31T18:10:57.657Z"
   },
   {
    "duration": 322,
    "start_time": "2022-01-31T18:10:57.679Z"
   },
   {
    "duration": 447,
    "start_time": "2022-01-31T18:10:58.003Z"
   },
   {
    "duration": 1607,
    "start_time": "2022-01-31T18:10:58.456Z"
   },
   {
    "duration": 21,
    "start_time": "2022-01-31T18:11:00.066Z"
   },
   {
    "duration": 20,
    "start_time": "2022-01-31T18:11:00.089Z"
   },
   {
    "duration": 32,
    "start_time": "2022-01-31T18:11:00.111Z"
   },
   {
    "duration": 120,
    "start_time": "2022-01-31T18:11:00.155Z"
   },
   {
    "duration": 497,
    "start_time": "2022-01-31T18:11:00.282Z"
   },
   {
    "duration": 514,
    "start_time": "2022-01-31T18:11:00.782Z"
   },
   {
    "duration": 567,
    "start_time": "2022-01-31T18:11:01.299Z"
   },
   {
    "duration": 495,
    "start_time": "2022-01-31T18:11:01.870Z"
   },
   {
    "duration": 357,
    "start_time": "2022-01-31T18:11:02.371Z"
   },
   {
    "duration": 8,
    "start_time": "2022-01-31T18:11:02.731Z"
   },
   {
    "duration": 46,
    "start_time": "2022-01-31T18:11:02.741Z"
   },
   {
    "duration": 58,
    "start_time": "2022-01-31T18:11:02.790Z"
   },
   {
    "duration": 515,
    "start_time": "2022-01-31T18:11:02.852Z"
   },
   {
    "duration": 10,
    "start_time": "2022-01-31T18:11:03.370Z"
   },
   {
    "duration": 42,
    "start_time": "2022-01-31T18:11:03.383Z"
   },
   {
    "duration": 21,
    "start_time": "2022-01-31T18:11:03.428Z"
   },
   {
    "duration": 5626,
    "start_time": "2022-01-31T18:11:03.457Z"
   },
   {
    "duration": 12,
    "start_time": "2022-01-31T18:11:09.085Z"
   },
   {
    "duration": 61,
    "start_time": "2022-01-31T18:11:09.099Z"
   },
   {
    "duration": 18,
    "start_time": "2022-01-31T18:11:09.173Z"
   },
   {
    "duration": 6054,
    "start_time": "2022-01-31T18:11:09.194Z"
   },
   {
    "duration": 18,
    "start_time": "2022-01-31T18:11:15.251Z"
   },
   {
    "duration": 27,
    "start_time": "2022-01-31T18:11:15.272Z"
   },
   {
    "duration": 481,
    "start_time": "2022-01-31T18:11:15.301Z"
   },
   {
    "duration": 1034,
    "start_time": "2022-01-31T18:11:15.785Z"
   },
   {
    "duration": 577,
    "start_time": "2022-01-31T18:11:16.821Z"
   },
   {
    "duration": 38,
    "start_time": "2022-01-31T18:11:17.401Z"
   },
   {
    "duration": 503,
    "start_time": "2022-01-31T18:11:17.444Z"
   },
   {
    "duration": 1018,
    "start_time": "2022-01-31T18:11:17.956Z"
   },
   {
    "duration": 820,
    "start_time": "2022-01-31T18:11:18.977Z"
   }
  ],
  "kernelspec": {
   "display_name": "Python 3",
   "language": "python",
   "name": "python3"
  },
  "language_info": {
   "codemirror_mode": {
    "name": "ipython",
    "version": 3
   },
   "file_extension": ".py",
   "mimetype": "text/x-python",
   "name": "python",
   "nbconvert_exporter": "python",
   "pygments_lexer": "ipython3",
   "version": "3.8.8"
  },
  "toc": {
   "base_numbering": 1,
   "nav_menu": {},
   "number_sections": true,
   "sideBar": true,
   "skip_h1_title": false,
   "title_cell": "Table of Contents",
   "title_sidebar": "Contents",
   "toc_cell": false,
   "toc_position": {},
   "toc_section_display": true,
   "toc_window_display": true
  },
  "varInspector": {
   "cols": {
    "lenName": 16,
    "lenType": 16,
    "lenVar": 40
   },
   "kernels_config": {
    "python": {
     "delete_cmd_postfix": "",
     "delete_cmd_prefix": "del ",
     "library": "var_list.py",
     "varRefreshCmd": "print(var_dic_list())"
    },
    "r": {
     "delete_cmd_postfix": ") ",
     "delete_cmd_prefix": "rm(",
     "library": "var_list.r",
     "varRefreshCmd": "cat(var_dic_list()) "
    }
   },
   "types_to_exclude": [
    "module",
    "function",
    "builtin_function_or_method",
    "instance",
    "_Feature"
   ],
   "window_display": false
  }
 },
 "nbformat": 4,
 "nbformat_minor": 2
}
